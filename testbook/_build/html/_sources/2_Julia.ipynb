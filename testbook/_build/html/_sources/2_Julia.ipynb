{
 "cells": [
  {
   "cell_type": "markdown",
   "id": "51ed322b-6335-4b81-a4af-a9dbf964eb9c",
   "metadata": {},
   "source": [
    "# Julia"
   ]
  },
  {
   "cell_type": "code",
   "execution_count": 3,
   "id": "43bfc25d-4322-4208-902d-3d1f54f45ac0",
   "metadata": {},
   "outputs": [
    {
     "data": {
      "text/plain": [
       "confirm_julia (generic function with 1 method)"
      ]
     },
     "execution_count": 3,
     "metadata": {},
     "output_type": "execute_result"
    }
   ],
   "source": [
    "function confirm_julia()\n",
    "    \"Julia Confirmed\"\n",
    "end\n"
   ]
  },
  {
   "cell_type": "code",
   "execution_count": 4,
   "id": "7e60e9d3-5dc6-4f59-abf0-86197c138070",
   "metadata": {},
   "outputs": [
    {
     "data": {
      "text/plain": [
       "\"Julia Confirmed\""
      ]
     },
     "execution_count": 4,
     "metadata": {},
     "output_type": "execute_result"
    }
   ],
   "source": [
    "confirm_julia()"
   ]
  }
 ],
 "metadata": {
  "kernelspec": {
   "display_name": "Julia 1.5.4",
   "language": "julia",
   "name": "julia-1.5"
  },
  "language_info": {
   "file_extension": ".jl",
   "mimetype": "application/julia",
   "name": "julia",
   "version": "1.7.1"
  }
 },
 "nbformat": 4,
 "nbformat_minor": 5
}
