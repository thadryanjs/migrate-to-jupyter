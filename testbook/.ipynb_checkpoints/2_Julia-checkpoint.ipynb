{
 "cells": [
  {
   "cell_type": "markdown",
   "id": "51ed322b-6335-4b81-a4af-a9dbf964eb9c",
   "metadata": {},
   "source": [
    "# Julia"
   ]
  },
  {
   "cell_type": "code",
   "execution_count": 2,
   "id": "43bfc25d-4322-4208-902d-3d1f54f45ac0",
   "metadata": {},
   "outputs": [
    {
     "data": {
      "text/plain": [
       "confirm_julia (generic function with 1 method)"
      ]
     },
     "execution_count": 2,
     "metadata": {},
     "output_type": "execute_result"
    }
   ],
   "source": [
    "function confirm_julia()\n",
    "    \"Julia Confirmed\"\n",
    "end\n"
   ]
  },
  {
   "cell_type": "code",
   "execution_count": 3,
   "id": "7e60e9d3-5dc6-4f59-abf0-86197c138070",
   "metadata": {},
   "outputs": [
    {
     "data": {
      "text/plain": [
       "\"Julia Confirmed\""
      ]
     },
     "execution_count": 3,
     "metadata": {},
     "output_type": "execute_result"
    }
   ],
   "source": [
    "confirm_julia()"
   ]
  },
  {
   "cell_type": "code",
   "execution_count": 4,
   "id": "f576530a-fe57-450b-9f7a-a3acff7f8eb2",
   "metadata": {},
   "outputs": [
    {
     "data": {
      "text/html": [
       "<div class=\"data-frame\"><p>32 rows × 12 columns (omitted printing of 4 columns)</p><table class=\"data-frame\"><thead><tr><th></th><th>Model</th><th>MPG</th><th>Cyl</th><th>Disp</th><th>HP</th><th>DRat</th><th>WT</th><th>QSec</th></tr><tr><th></th><th title=\"InlineStrings.String31\">String31</th><th title=\"Float64\">Float64</th><th title=\"Int64\">Int64</th><th title=\"Float64\">Float64</th><th title=\"Int64\">Int64</th><th title=\"Float64\">Float64</th><th title=\"Float64\">Float64</th><th title=\"Float64\">Float64</th></tr></thead><tbody><tr><th>1</th><td>Mazda RX4</td><td>21.0</td><td>6</td><td>160.0</td><td>110</td><td>3.9</td><td>2.62</td><td>16.46</td></tr><tr><th>2</th><td>Mazda RX4 Wag</td><td>21.0</td><td>6</td><td>160.0</td><td>110</td><td>3.9</td><td>2.875</td><td>17.02</td></tr><tr><th>3</th><td>Datsun 710</td><td>22.8</td><td>4</td><td>108.0</td><td>93</td><td>3.85</td><td>2.32</td><td>18.61</td></tr><tr><th>4</th><td>Hornet 4 Drive</td><td>21.4</td><td>6</td><td>258.0</td><td>110</td><td>3.08</td><td>3.215</td><td>19.44</td></tr><tr><th>5</th><td>Hornet Sportabout</td><td>18.7</td><td>8</td><td>360.0</td><td>175</td><td>3.15</td><td>3.44</td><td>17.02</td></tr><tr><th>6</th><td>Valiant</td><td>18.1</td><td>6</td><td>225.0</td><td>105</td><td>2.76</td><td>3.46</td><td>20.22</td></tr><tr><th>7</th><td>Duster 360</td><td>14.3</td><td>8</td><td>360.0</td><td>245</td><td>3.21</td><td>3.57</td><td>15.84</td></tr><tr><th>8</th><td>Merc 240D</td><td>24.4</td><td>4</td><td>146.7</td><td>62</td><td>3.69</td><td>3.19</td><td>20.0</td></tr><tr><th>9</th><td>Merc 230</td><td>22.8</td><td>4</td><td>140.8</td><td>95</td><td>3.92</td><td>3.15</td><td>22.9</td></tr><tr><th>10</th><td>Merc 280</td><td>19.2</td><td>6</td><td>167.6</td><td>123</td><td>3.92</td><td>3.44</td><td>18.3</td></tr><tr><th>11</th><td>Merc 280C</td><td>17.8</td><td>6</td><td>167.6</td><td>123</td><td>3.92</td><td>3.44</td><td>18.9</td></tr><tr><th>12</th><td>Merc 450SE</td><td>16.4</td><td>8</td><td>275.8</td><td>180</td><td>3.07</td><td>4.07</td><td>17.4</td></tr><tr><th>13</th><td>Merc 450SL</td><td>17.3</td><td>8</td><td>275.8</td><td>180</td><td>3.07</td><td>3.73</td><td>17.6</td></tr><tr><th>14</th><td>Merc 450SLC</td><td>15.2</td><td>8</td><td>275.8</td><td>180</td><td>3.07</td><td>3.78</td><td>18.0</td></tr><tr><th>15</th><td>Cadillac Fleetwood</td><td>10.4</td><td>8</td><td>472.0</td><td>205</td><td>2.93</td><td>5.25</td><td>17.98</td></tr><tr><th>16</th><td>Lincoln Continental</td><td>10.4</td><td>8</td><td>460.0</td><td>215</td><td>3.0</td><td>5.424</td><td>17.82</td></tr><tr><th>17</th><td>Chrysler Imperial</td><td>14.7</td><td>8</td><td>440.0</td><td>230</td><td>3.23</td><td>5.345</td><td>17.42</td></tr><tr><th>18</th><td>Fiat 128</td><td>32.4</td><td>4</td><td>78.7</td><td>66</td><td>4.08</td><td>2.2</td><td>19.47</td></tr><tr><th>19</th><td>Honda Civic</td><td>30.4</td><td>4</td><td>75.7</td><td>52</td><td>4.93</td><td>1.615</td><td>18.52</td></tr><tr><th>20</th><td>Toyota Corolla</td><td>33.9</td><td>4</td><td>71.1</td><td>65</td><td>4.22</td><td>1.835</td><td>19.9</td></tr><tr><th>21</th><td>Toyota Corona</td><td>21.5</td><td>4</td><td>120.1</td><td>97</td><td>3.7</td><td>2.465</td><td>20.01</td></tr><tr><th>22</th><td>Dodge Challenger</td><td>15.5</td><td>8</td><td>318.0</td><td>150</td><td>2.76</td><td>3.52</td><td>16.87</td></tr><tr><th>23</th><td>AMC Javelin</td><td>15.2</td><td>8</td><td>304.0</td><td>150</td><td>3.15</td><td>3.435</td><td>17.3</td></tr><tr><th>24</th><td>Camaro Z28</td><td>13.3</td><td>8</td><td>350.0</td><td>245</td><td>3.73</td><td>3.84</td><td>15.41</td></tr><tr><th>25</th><td>Pontiac Firebird</td><td>19.2</td><td>8</td><td>400.0</td><td>175</td><td>3.08</td><td>3.845</td><td>17.05</td></tr><tr><th>26</th><td>Fiat X1-9</td><td>27.3</td><td>4</td><td>79.0</td><td>66</td><td>4.08</td><td>1.935</td><td>18.9</td></tr><tr><th>27</th><td>Porsche 914-2</td><td>26.0</td><td>4</td><td>120.3</td><td>91</td><td>4.43</td><td>2.14</td><td>16.7</td></tr><tr><th>28</th><td>Lotus Europa</td><td>30.4</td><td>4</td><td>95.1</td><td>113</td><td>3.77</td><td>1.513</td><td>16.9</td></tr><tr><th>29</th><td>Ford Pantera L</td><td>15.8</td><td>8</td><td>351.0</td><td>264</td><td>4.22</td><td>3.17</td><td>14.5</td></tr><tr><th>30</th><td>Ferrari Dino</td><td>19.7</td><td>6</td><td>145.0</td><td>175</td><td>3.62</td><td>2.77</td><td>15.5</td></tr><tr><th>&vellip;</th><td>&vellip;</td><td>&vellip;</td><td>&vellip;</td><td>&vellip;</td><td>&vellip;</td><td>&vellip;</td><td>&vellip;</td><td>&vellip;</td></tr></tbody></table></div>"
      ],
      "text/latex": [
       "\\begin{tabular}{r|ccccccccc}\n",
       "\t& Model & MPG & Cyl & Disp & HP & DRat & WT & QSec & \\\\\n",
       "\t\\hline\n",
       "\t& String31 & Float64 & Int64 & Float64 & Int64 & Float64 & Float64 & Float64 & \\\\\n",
       "\t\\hline\n",
       "\t1 & Mazda RX4 & 21.0 & 6 & 160.0 & 110 & 3.9 & 2.62 & 16.46 & $\\dots$ \\\\\n",
       "\t2 & Mazda RX4 Wag & 21.0 & 6 & 160.0 & 110 & 3.9 & 2.875 & 17.02 & $\\dots$ \\\\\n",
       "\t3 & Datsun 710 & 22.8 & 4 & 108.0 & 93 & 3.85 & 2.32 & 18.61 & $\\dots$ \\\\\n",
       "\t4 & Hornet 4 Drive & 21.4 & 6 & 258.0 & 110 & 3.08 & 3.215 & 19.44 & $\\dots$ \\\\\n",
       "\t5 & Hornet Sportabout & 18.7 & 8 & 360.0 & 175 & 3.15 & 3.44 & 17.02 & $\\dots$ \\\\\n",
       "\t6 & Valiant & 18.1 & 6 & 225.0 & 105 & 2.76 & 3.46 & 20.22 & $\\dots$ \\\\\n",
       "\t7 & Duster 360 & 14.3 & 8 & 360.0 & 245 & 3.21 & 3.57 & 15.84 & $\\dots$ \\\\\n",
       "\t8 & Merc 240D & 24.4 & 4 & 146.7 & 62 & 3.69 & 3.19 & 20.0 & $\\dots$ \\\\\n",
       "\t9 & Merc 230 & 22.8 & 4 & 140.8 & 95 & 3.92 & 3.15 & 22.9 & $\\dots$ \\\\\n",
       "\t10 & Merc 280 & 19.2 & 6 & 167.6 & 123 & 3.92 & 3.44 & 18.3 & $\\dots$ \\\\\n",
       "\t11 & Merc 280C & 17.8 & 6 & 167.6 & 123 & 3.92 & 3.44 & 18.9 & $\\dots$ \\\\\n",
       "\t12 & Merc 450SE & 16.4 & 8 & 275.8 & 180 & 3.07 & 4.07 & 17.4 & $\\dots$ \\\\\n",
       "\t13 & Merc 450SL & 17.3 & 8 & 275.8 & 180 & 3.07 & 3.73 & 17.6 & $\\dots$ \\\\\n",
       "\t14 & Merc 450SLC & 15.2 & 8 & 275.8 & 180 & 3.07 & 3.78 & 18.0 & $\\dots$ \\\\\n",
       "\t15 & Cadillac Fleetwood & 10.4 & 8 & 472.0 & 205 & 2.93 & 5.25 & 17.98 & $\\dots$ \\\\\n",
       "\t16 & Lincoln Continental & 10.4 & 8 & 460.0 & 215 & 3.0 & 5.424 & 17.82 & $\\dots$ \\\\\n",
       "\t17 & Chrysler Imperial & 14.7 & 8 & 440.0 & 230 & 3.23 & 5.345 & 17.42 & $\\dots$ \\\\\n",
       "\t18 & Fiat 128 & 32.4 & 4 & 78.7 & 66 & 4.08 & 2.2 & 19.47 & $\\dots$ \\\\\n",
       "\t19 & Honda Civic & 30.4 & 4 & 75.7 & 52 & 4.93 & 1.615 & 18.52 & $\\dots$ \\\\\n",
       "\t20 & Toyota Corolla & 33.9 & 4 & 71.1 & 65 & 4.22 & 1.835 & 19.9 & $\\dots$ \\\\\n",
       "\t21 & Toyota Corona & 21.5 & 4 & 120.1 & 97 & 3.7 & 2.465 & 20.01 & $\\dots$ \\\\\n",
       "\t22 & Dodge Challenger & 15.5 & 8 & 318.0 & 150 & 2.76 & 3.52 & 16.87 & $\\dots$ \\\\\n",
       "\t23 & AMC Javelin & 15.2 & 8 & 304.0 & 150 & 3.15 & 3.435 & 17.3 & $\\dots$ \\\\\n",
       "\t24 & Camaro Z28 & 13.3 & 8 & 350.0 & 245 & 3.73 & 3.84 & 15.41 & $\\dots$ \\\\\n",
       "\t25 & Pontiac Firebird & 19.2 & 8 & 400.0 & 175 & 3.08 & 3.845 & 17.05 & $\\dots$ \\\\\n",
       "\t26 & Fiat X1-9 & 27.3 & 4 & 79.0 & 66 & 4.08 & 1.935 & 18.9 & $\\dots$ \\\\\n",
       "\t27 & Porsche 914-2 & 26.0 & 4 & 120.3 & 91 & 4.43 & 2.14 & 16.7 & $\\dots$ \\\\\n",
       "\t28 & Lotus Europa & 30.4 & 4 & 95.1 & 113 & 3.77 & 1.513 & 16.9 & $\\dots$ \\\\\n",
       "\t29 & Ford Pantera L & 15.8 & 8 & 351.0 & 264 & 4.22 & 3.17 & 14.5 & $\\dots$ \\\\\n",
       "\t30 & Ferrari Dino & 19.7 & 6 & 145.0 & 175 & 3.62 & 2.77 & 15.5 & $\\dots$ \\\\\n",
       "\t$\\dots$ & $\\dots$ & $\\dots$ & $\\dots$ & $\\dots$ & $\\dots$ & $\\dots$ & $\\dots$ & $\\dots$ &  \\\\\n",
       "\\end{tabular}\n"
      ],
      "text/plain": [
       "\u001b[1m32×12 DataFrame\u001b[0m\n",
       "\u001b[1m Row \u001b[0m│\u001b[1m Model             \u001b[0m\u001b[1m MPG     \u001b[0m\u001b[1m Cyl   \u001b[0m\u001b[1m Disp    \u001b[0m\u001b[1m HP    \u001b[0m\u001b[1m DRat    \u001b[0m\u001b[1m WT      \u001b[0m\u001b[1m QS\u001b[0m ⋯\n",
       "\u001b[1m     \u001b[0m│\u001b[90m String31          \u001b[0m\u001b[90m Float64 \u001b[0m\u001b[90m Int64 \u001b[0m\u001b[90m Float64 \u001b[0m\u001b[90m Int64 \u001b[0m\u001b[90m Float64 \u001b[0m\u001b[90m Float64 \u001b[0m\u001b[90m Fl\u001b[0m ⋯\n",
       "─────┼──────────────────────────────────────────────────────────────────────────\n",
       "   1 │ Mazda RX4             21.0      6    160.0    110     3.9     2.62      ⋯\n",
       "   2 │ Mazda RX4 Wag         21.0      6    160.0    110     3.9     2.875\n",
       "   3 │ Datsun 710            22.8      4    108.0     93     3.85    2.32\n",
       "   4 │ Hornet 4 Drive        21.4      6    258.0    110     3.08    3.215\n",
       "   5 │ Hornet Sportabout     18.7      8    360.0    175     3.15    3.44      ⋯\n",
       "   6 │ Valiant               18.1      6    225.0    105     2.76    3.46\n",
       "   7 │ Duster 360            14.3      8    360.0    245     3.21    3.57\n",
       "   8 │ Merc 240D             24.4      4    146.7     62     3.69    3.19\n",
       "   9 │ Merc 230              22.8      4    140.8     95     3.92    3.15      ⋯\n",
       "  10 │ Merc 280              19.2      6    167.6    123     3.92    3.44\n",
       "  11 │ Merc 280C             17.8      6    167.6    123     3.92    3.44\n",
       "  ⋮  │         ⋮             ⋮       ⋮       ⋮       ⋮       ⋮        ⋮        ⋱\n",
       "  23 │ AMC Javelin           15.2      8    304.0    150     3.15    3.435\n",
       "  24 │ Camaro Z28            13.3      8    350.0    245     3.73    3.84      ⋯\n",
       "  25 │ Pontiac Firebird      19.2      8    400.0    175     3.08    3.845\n",
       "  26 │ Fiat X1-9             27.3      4     79.0     66     4.08    1.935\n",
       "  27 │ Porsche 914-2         26.0      4    120.3     91     4.43    2.14\n",
       "  28 │ Lotus Europa          30.4      4     95.1    113     3.77    1.513     ⋯\n",
       "  29 │ Ford Pantera L        15.8      8    351.0    264     4.22    3.17\n",
       "  30 │ Ferrari Dino          19.7      6    145.0    175     3.62    2.77\n",
       "  31 │ Maserati Bora         15.0      8    301.0    335     3.54    3.57\n",
       "  32 │ Volvo 142E            21.4      4    121.0    109     4.11    2.78      ⋯\n",
       "\u001b[36m                                                   5 columns and 11 rows omitted\u001b[0m"
      ]
     },
     "execution_count": 4,
     "metadata": {},
     "output_type": "execute_result"
    }
   ],
   "source": [
    "using RDatasets\n",
    "using PyCall\n",
    "using DataFrames\n",
    "using NamedArrays\n",
    "\n",
    "mtcars = dataset(\"datasets\", \"mtcars\")"
   ]
  },
  {
   "cell_type": "code",
   "execution_count": 31,
   "id": "9748be78-5964-4582-a175-39fdc30e430c",
   "metadata": {},
   "outputs": [
    {
     "ename": "LoadError",
     "evalue": "(in a Julia function called from Python)\nJULIA: MethodError: Cannot `convert` an object of type Float64 to an object of type InlineStrings.String31\nClosest candidates are:\n  convert(::Type{T}, !Matched::PyObject) where T<:AbstractString at ~/.julia/packages/PyCall/L0fLP/src/conversions.jl:92\n  convert(::Type{S}, !Matched::T) where {S, T<:CategoricalArrays.CategoricalValue} at ~/.julia/packages/CategoricalArrays/0ZAbp/src/value.jl:68\n  convert(::Type{T}, !Matched::T) where T<:AbstractString at /usr/share/julia/base/strings/basic.jl:231\n  ...\nStacktrace:\n  [1] setindex!(A::Vector{InlineStrings.String31}, x::Float64, i1::Int64)\n    @ Base ./array.jl:903\n  [2] _unsafe_copyto!(dest::Vector{InlineStrings.String31}, doffs::Int64, src::Vector{Float64}, soffs::Int64, n::Int64)\n    @ Base ./array.jl:253\n  [3] unsafe_copyto!\n    @ ./array.jl:307 [inlined]\n  [4] _copyto_impl!\n    @ ./array.jl:331 [inlined]\n  [5] copyto!\n    @ ./array.jl:317 [inlined]\n  [6] copyto!\n    @ ./array.jl:343 [inlined]\n  [7] copyto_axcheck!\n    @ ./abstractarray.jl:1104 [inlined]\n  [8] Vector{InlineStrings.String31}(x::Vector{Float64})\n    @ Base ./array.jl:563\n  [9] convert\n    @ ./array.jl:554 [inlined]\n [10] cvt1\n    @ ./essentials.jl:343 [inlined]\n [11] ntuple\n    @ ./ntuple.jl:49 [inlined]\n [12] convert\n    @ ./essentials.jl:344 [inlined]\n [13] convert\n    @ ./some.jl:36 [inlined]\n [14] setproperty!\n    @ ./Base.jl:43 [inlined]\n [15] setindex!(b::Base.RefValue{Union{Nothing, Tuple{Vector{InlineStrings.String31}, Int64}}}, x::Tuple{Vector{Float64}, Int64})\n    @ Base ./refvalue.jl:57\n [16] pyjlwrap_iternext(self_::Ptr{PyCall.PyObject_struct})\n    @ PyCall ~/.julia/packages/PyCall/L0fLP/src/pyiterator.jl:111\n [17] macro expansion\n    @ ~/.julia/packages/PyCall/L0fLP/src/exception.jl:95 [inlined]\n [18] #117\n    @ ~/.julia/packages/PyCall/L0fLP/src/pyeval.jl:38 [inlined]\n [19] disable_sigint\n    @ ./c.jl:458 [inlined]\n [20] pyeval_(s::String, globals::PyDict{String, PyObject, true}, locals::PyDict{String, PyObject, true}, input_type::Int64, fname::String)\n    @ PyCall ~/.julia/packages/PyCall/L0fLP/src/pyeval.jl:37\n [21] macro expansion\n    @ ~/.julia/packages/PyCall/L0fLP/src/pyeval.jl:230 [inlined]\n [22] pyTable(df::DataFrame)\n    @ Main ./In[31]:2\n [23] top-level scope\n    @ In[31]:17\n [24] eval\n    @ ./boot.jl:373 [inlined]\n [25] include_string(mapexpr::typeof(REPL.softscope), mod::Module, code::String, filename::String)\n    @ Base ./loading.jl:1196\n [26] softscope_include_string(m::Module, code::String, filename::String)\n    @ SoftGlobalScope ~/.julia/packages/SoftGlobalScope/u4UzH/src/SoftGlobalScope.jl:65\n [27] execute_request(socket::ZMQ.Socket, msg::IJulia.Msg)\n    @ IJulia ~/.julia/packages/IJulia/e8kqU/src/execute_request.jl:67\n [28] #invokelatest#2\n    @ ./essentials.jl:716 [inlined]\n [29] invokelatest\n    @ ./essentials.jl:714 [inlined]\n [30] eventloop(socket::ZMQ.Socket)\n    @ IJulia ~/.julia/packages/IJulia/e8kqU/src/eventloop.jl:8\n [31] (::IJulia.var\"#15#18\")()\n    @ IJulia ./task.jl:423",
     "output_type": "error",
     "traceback": [
      "(in a Julia function called from Python)\nJULIA: MethodError: Cannot `convert` an object of type Float64 to an object of type InlineStrings.String31\nClosest candidates are:\n  convert(::Type{T}, !Matched::PyObject) where T<:AbstractString at ~/.julia/packages/PyCall/L0fLP/src/conversions.jl:92\n  convert(::Type{S}, !Matched::T) where {S, T<:CategoricalArrays.CategoricalValue} at ~/.julia/packages/CategoricalArrays/0ZAbp/src/value.jl:68\n  convert(::Type{T}, !Matched::T) where T<:AbstractString at /usr/share/julia/base/strings/basic.jl:231\n  ...\nStacktrace:\n  [1] setindex!(A::Vector{InlineStrings.String31}, x::Float64, i1::Int64)\n    @ Base ./array.jl:903\n  [2] _unsafe_copyto!(dest::Vector{InlineStrings.String31}, doffs::Int64, src::Vector{Float64}, soffs::Int64, n::Int64)\n    @ Base ./array.jl:253\n  [3] unsafe_copyto!\n    @ ./array.jl:307 [inlined]\n  [4] _copyto_impl!\n    @ ./array.jl:331 [inlined]\n  [5] copyto!\n    @ ./array.jl:317 [inlined]\n  [6] copyto!\n    @ ./array.jl:343 [inlined]\n  [7] copyto_axcheck!\n    @ ./abstractarray.jl:1104 [inlined]\n  [8] Vector{InlineStrings.String31}(x::Vector{Float64})\n    @ Base ./array.jl:563\n  [9] convert\n    @ ./array.jl:554 [inlined]\n [10] cvt1\n    @ ./essentials.jl:343 [inlined]\n [11] ntuple\n    @ ./ntuple.jl:49 [inlined]\n [12] convert\n    @ ./essentials.jl:344 [inlined]\n [13] convert\n    @ ./some.jl:36 [inlined]\n [14] setproperty!\n    @ ./Base.jl:43 [inlined]\n [15] setindex!(b::Base.RefValue{Union{Nothing, Tuple{Vector{InlineStrings.String31}, Int64}}}, x::Tuple{Vector{Float64}, Int64})\n    @ Base ./refvalue.jl:57\n [16] pyjlwrap_iternext(self_::Ptr{PyCall.PyObject_struct})\n    @ PyCall ~/.julia/packages/PyCall/L0fLP/src/pyiterator.jl:111\n [17] macro expansion\n    @ ~/.julia/packages/PyCall/L0fLP/src/exception.jl:95 [inlined]\n [18] #117\n    @ ~/.julia/packages/PyCall/L0fLP/src/pyeval.jl:38 [inlined]\n [19] disable_sigint\n    @ ./c.jl:458 [inlined]\n [20] pyeval_(s::String, globals::PyDict{String, PyObject, true}, locals::PyDict{String, PyObject, true}, input_type::Int64, fname::String)\n    @ PyCall ~/.julia/packages/PyCall/L0fLP/src/pyeval.jl:37\n [21] macro expansion\n    @ ~/.julia/packages/PyCall/L0fLP/src/pyeval.jl:230 [inlined]\n [22] pyTable(df::DataFrame)\n    @ Main ./In[31]:2\n [23] top-level scope\n    @ In[31]:17\n [24] eval\n    @ ./boot.jl:373 [inlined]\n [25] include_string(mapexpr::typeof(REPL.softscope), mod::Module, code::String, filename::String)\n    @ Base ./loading.jl:1196\n [26] softscope_include_string(m::Module, code::String, filename::String)\n    @ SoftGlobalScope ~/.julia/packages/SoftGlobalScope/u4UzH/src/SoftGlobalScope.jl:65\n [27] execute_request(socket::ZMQ.Socket, msg::IJulia.Msg)\n    @ IJulia ~/.julia/packages/IJulia/e8kqU/src/execute_request.jl:67\n [28] #invokelatest#2\n    @ ./essentials.jl:716 [inlined]\n [29] invokelatest\n    @ ./essentials.jl:714 [inlined]\n [30] eventloop(socket::ZMQ.Socket)\n    @ IJulia ~/.julia/packages/IJulia/e8kqU/src/eventloop.jl:8\n [31] (::IJulia.var\"#15#18\")()\n    @ IJulia ./task.jl:423",
      "",
      "Stacktrace:",
      "  [1] pyerr_check",
      "    @ ~/.julia/packages/PyCall/L0fLP/src/exception.jl:62 [inlined]",
      "  [2] pyerr_check",
      "    @ ~/.julia/packages/PyCall/L0fLP/src/exception.jl:66 [inlined]",
      "  [3] _handle_error(msg::String)",
      "    @ PyCall ~/.julia/packages/PyCall/L0fLP/src/exception.jl:83",
      "  [4] macro expansion",
      "    @ ~/.julia/packages/PyCall/L0fLP/src/exception.jl:97 [inlined]",
      "  [5] #117",
      "    @ ~/.julia/packages/PyCall/L0fLP/src/pyeval.jl:38 [inlined]",
      "  [6] disable_sigint",
      "    @ ./c.jl:458 [inlined]",
      "  [7] pyeval_(s::String, globals::PyDict{String, PyObject, true}, locals::PyDict{String, PyObject, true}, input_type::Int64, fname::String)",
      "    @ PyCall ~/.julia/packages/PyCall/L0fLP/src/pyeval.jl:37",
      "  [8] macro expansion",
      "    @ ~/.julia/packages/PyCall/L0fLP/src/pyeval.jl:230 [inlined]",
      "  [9] pyTable(df::DataFrame)",
      "    @ Main ./In[31]:2",
      " [10] top-level scope",
      "    @ In[31]:17",
      " [11] eval",
      "    @ ./boot.jl:373 [inlined]",
      " [12] include_string(mapexpr::typeof(REPL.softscope), mod::Module, code::String, filename::String)",
      "    @ Base ./loading.jl:1196"
     ]
    }
   ],
   "source": [
    "function pyTable(df)\n",
    "    py\"\"\"\n",
    "    \n",
    "    import itables\n",
    "    import pandas as pd\n",
    "    \n",
    "    from julia import Main as jl\n",
    "    \n",
    "    for i in jl.eachcol($df):\n",
    "        for j in i:\n",
    "            print(j)\n",
    "\n",
    "    \n",
    "    \"\"\"py\n",
    "end\n",
    "\n",
    "pyTable(mtcars)"
   ]
  },
  {
   "cell_type": "code",
   "execution_count": 28,
   "id": "c323ed1e-cd95-4789-9c4c-16e48d36e7ae",
   "metadata": {},
   "outputs": [
    {
     "name": "stdout",
     "output_type": "stream",
     "text": [
      "InlineStrings.String31[\"Mazda RX4\", \"Mazda RX4 Wag\", \"Datsun 710\", \"Hornet 4 Drive\", \"Hornet Sportabout\", \"Valiant\", \"Duster 360\", \"Merc 240D\", \"Merc 230\", \"Merc 280\", \"Merc 280C\", \"Merc 450SE\", \"Merc 450SL\", \"Merc 450SLC\", \"Cadillac Fleetwood\", \"Lincoln Continental\", \"Chrysler Imperial\", \"Fiat 128\", \"Honda Civic\", \"Toyota Corolla\", \"Toyota Corona\", \"Dodge Challenger\", \"AMC Javelin\", \"Camaro Z28\", \"Pontiac Firebird\", \"Fiat X1-9\", \"Porsche 914-2\", \"Lotus Europa\", \"Ford Pantera L\", \"Ferrari Dino\", \"Maserati Bora\", \"Volvo 142E\"]\n",
      "space\n",
      "Mazda RX4Mazda RX4 WagDatsun 710Hornet 4 DriveHornet SportaboutValiantDuster 360Merc 240DMerc 230Merc 280Merc 280CMerc 450SEMerc 450SLMerc 450SLCCadillac FleetwoodLincoln ContinentalChrysler ImperialFiat 128Honda CivicToyota CorollaToyota CoronaDodge ChallengerAMC JavelinCamaro Z28Pontiac FirebirdFiat X1-9Porsche 914-2Lotus EuropaFord Pantera LFerrari DinoMaserati BoraVolvo 142E[21.0, 21.0, 22.8, 21.4, 18.7, 18.1, 14.3, 24.4, 22.8, 19.2, 17.8, 16.4, 17.3, 15.2, 10.4, 10.4, 14.7, 32.4, 30.4, 33.9, 21.5, 15.5, 15.2, 13.3, 19.2, 27.3, 26.0, 30.4, 15.8, 19.7, 15.0, 21.4]\n",
      "space\n",
      "21.021.022.821.418.718.114.324.422.819.217.816.417.315.210.410.414.732.430.433.921.515.515.213.319.227.326.030.415.819.715.021.4[6, 6, 4, 6, 8, 6, 8, 4, 4, 6, 6, 8, 8, 8, 8, 8, 8, 4, 4, 4, 4, 8, 8, 8, 8, 4, 4, 4, 8, 6, 8, 4]\n",
      "space\n",
      "66468684466888888444488884448684[160.0, 160.0, 108.0, 258.0, 360.0, 225.0, 360.0, 146.7, 140.8, 167.6, 167.6, 275.8, 275.8, 275.8, 472.0, 460.0, 440.0, 78.7, 75.7, 71.1, 120.1, 318.0, 304.0, 350.0, 400.0, 79.0, 120.3, 95.1, 351.0, 145.0, 301.0, 121.0]\n",
      "space\n",
      "160.0160.0108.0258.0360.0225.0360.0146.7140.8167.6167.6275.8275.8275.8472.0460.0440.078.775.771.1120.1318.0304.0350.0400.079.0120.395.1351.0145.0301.0121.0[110, 110, 93, 110, 175, 105, 245, 62, 95, 123, 123, 180, 180, 180, 205, 215, 230, 66, 52, 65, 97, 150, 150, 245, 175, 66, 91, 113, 264, 175, 335, 109]\n",
      "space\n",
      "110110931101751052456295123123180180180205215230665265971501502451756691113264175335109[3.9, 3.9, 3.85, 3.08, 3.15, 2.76, 3.21, 3.69, 3.92, 3.92, 3.92, 3.07, 3.07, 3.07, 2.93, 3.0, 3.23, 4.08, 4.93, 4.22, 3.7, 2.76, 3.15, 3.73, 3.08, 4.08, 4.43, 3.77, 4.22, 3.62, 3.54, 4.11]\n",
      "space\n",
      "3.93.93.853.083.152.763.213.693.923.923.923.073.073.072.933.03.234.084.934.223.72.763.153.733.084.084.433.774.223.623.544.11[2.62, 2.875, 2.32, 3.215, 3.44, 3.46, 3.57, 3.19, 3.15, 3.44, 3.44, 4.07, 3.73, 3.78, 5.25, 5.424, 5.345, 2.2, 1.615, 1.835, 2.465, 3.52, 3.435, 3.84, 3.845, 1.935, 2.14, 1.513, 3.17, 2.77, 3.57, 2.78]\n",
      "space\n",
      "2.622.8752.323.2153.443.463.573.193.153.443.444.073.733.785.255.4245.3452.21.6151.8352.4653.523.4353.843.8451.9352.141.5133.172.773.572.78[16.46, 17.02, 18.61, 19.44, 17.02, 20.22, 15.84, 20.0, 22.9, 18.3, 18.9, 17.4, 17.6, 18.0, 17.98, 17.82, 17.42, 19.47, 18.52, 19.9, 20.01, 16.87, 17.3, 15.41, 17.05, 18.9, 16.7, 16.9, 14.5, 15.5, 14.6, 18.6]\n",
      "space\n",
      "16.4617.0218.6119.4417.0220.2215.8420.022.918.318.917.417.618.017.9817.8217.4219.4718.5219.920.0116.8717.315.4117.0518.916.716.914.515.514.618.6[0, 0, 1, 1, 0, 1, 0, 1, 1, 1, 1, 0, 0, 0, 0, 0, 0, 1, 1, 1, 1, 0, 0, 0, 0, 1, 0, 1, 0, 0, 0, 1]\n",
      "space\n",
      "00110101111000000111100001010001[1, 1, 1, 0, 0, 0, 0, 0, 0, 0, 0, 0, 0, 0, 0, 0, 0, 1, 1, 1, 0, 0, 0, 0, 0, 1, 1, 1, 1, 1, 1, 1]\n",
      "space\n",
      "11100000000000000111000001111111[4, 4, 4, 3, 3, 3, 3, 4, 4, 4, 4, 3, 3, 3, 3, 3, 3, 4, 4, 4, 3, 3, 3, 3, 3, 4, 5, 5, 5, 5, 5, 4]\n",
      "space\n",
      "44433334444333333444333334555554[4, 4, 1, 1, 2, 1, 4, 2, 2, 4, 4, 3, 3, 3, 4, 4, 4, 1, 2, 1, 1, 2, 2, 4, 2, 1, 2, 2, 4, 6, 8, 2]\n",
      "space\n",
      "44112142244333444121122421224682"
     ]
    }
   ],
   "source": [
    "for i in eachcol(mtcars)\n",
    "    for j in i\n",
    "        \n",
    "    end\n",
    "end"
   ]
  },
  {
   "cell_type": "code",
   "execution_count": 16,
   "id": "f525793b-eba0-4646-a35a-02fa6224b0d5",
   "metadata": {},
   "outputs": [
    {
     "ename": "LoadError",
     "evalue": "MethodError: no method matching NamedArray(::Tuple{String, String}, ::Tuple{String, String})",
     "output_type": "error",
     "traceback": [
      "MethodError: no method matching NamedArray(::Tuple{String, String}, ::Tuple{String, String})",
      "",
      "Stacktrace:",
      " [1] top-level scope",
      "   @ In[16]:1",
      " [2] eval",
      "   @ ./boot.jl:373 [inlined]",
      " [3] include_string(mapexpr::typeof(REPL.softscope), mod::Module, code::String, filename::String)",
      "   @ Base ./loading.jl:1196"
     ]
    }
   ],
   "source": [
    "NamedArray( (\"first\", \"second\"), (\"here\", \"there\"))"
   ]
  },
  {
   "cell_type": "code",
   "execution_count": 18,
   "id": "4c219525-01f4-4c4e-a9bf-1373edd73810",
   "metadata": {},
   "outputs": [
    {
     "data": {
      "text/plain": [
       "([2020.0, 2021.0, 2022.0, 2023.0, 2024.0, 2025.0, 2026.0, 2027.0, 2028.0, 2029.0  …  2110.0, 2111.0, 2112.0, 2113.0, 2114.0, 2115.0, 2116.0, 2117.0, 2118.0, 2119.0], [\"A\", \"B\"])"
      ]
     },
     "execution_count": 18,
     "metadata": {},
     "output_type": "execute_result"
    }
   ],
   "source": [
    " (years, columnsnames)"
   ]
  },
  {
   "cell_type": "code",
   "execution_count": 12,
   "id": "52369b30-5543-4a62-835f-5edc8168b8f5",
   "metadata": {},
   "outputs": [
    {
     "name": "stdout",
     "output_type": "stream",
     "text": [
      "100×2 Named Matrix{Float64}\n",
      " A ╲ B │     A      B\n",
      "───────┼─────────────\n",
      "2020.0 │   1.0    1.0\n",
      "2021.0 │   2.0    2.0\n",
      "2022.0 │   3.0    3.0\n",
      "2023.0 │   4.0    4.0\n",
      "2024.0 │   5.0    5.0\n",
      "2025.0 │   6.0    6.0\n",
      "2026.0 │   7.0    7.0\n",
      "2027.0 │   8.0    8.0\n",
      "2028.0 │   9.0    9.0\n",
      "2029.0 │  10.0   10.0\n",
      "2030.0 │  11.0   11.0\n",
      "2031.0 │  12.0   12.0\n",
      "2032.0 │  13.0   13.0\n",
      "2033.0 │  14.0   14.0\n",
      "2034.0 │  15.0   15.0\n",
      "2035.0 │  16.0   16.0\n",
      "2036.0 │  17.0   17.0\n",
      "2037.0 │  18.0   18.0\n",
      "2038.0 │  19.0   19.0\n",
      "2039.0 │  20.0   20.0\n",
      "2040.0 │  21.0   21.0\n",
      "2041.0 │  22.0   22.0\n",
      "2042.0 │  23.0   23.0\n",
      "2043.0 │  24.0   24.0\n",
      "2044.0 │  25.0   25.0\n",
      "2045.0 │  26.0   26.0\n",
      "2046.0 │  27.0   27.0\n",
      "2047.0 │  28.0   28.0\n",
      "2048.0 │  29.0   29.0\n",
      "2049.0 │  30.0   30.0\n",
      "2050.0 │  31.0   31.0\n",
      "2051.0 │  32.0   32.0\n",
      "2052.0 │  33.0   33.0\n",
      "2053.0 │  34.0   34.0\n",
      "2054.0 │  35.0   35.0\n",
      "2055.0 │  36.0   36.0\n",
      "2056.0 │  37.0   37.0\n",
      "2057.0 │  38.0   38.0\n",
      "2058.0 │  39.0   39.0\n",
      "2059.0 │  40.0   40.0\n",
      "2060.0 │  41.0   41.0\n",
      "2061.0 │  42.0   42.0\n",
      "2062.0 │  43.0   43.0\n",
      "2063.0 │  44.0   44.0\n",
      "2064.0 │  45.0   45.0\n",
      "2065.0 │  46.0   46.0\n",
      "2066.0 │  47.0   47.0\n",
      "2067.0 │  48.0   48.0\n",
      "2068.0 │  49.0   49.0\n",
      "2069.0 │  50.0   50.0\n",
      "2070.0 │  51.0   51.0\n",
      "2071.0 │  52.0   52.0\n",
      "2072.0 │  53.0   53.0\n",
      "2073.0 │  54.0   54.0\n",
      "2074.0 │  55.0   55.0\n",
      "2075.0 │  56.0   56.0\n",
      "2076.0 │  57.0   57.0\n",
      "2077.0 │  58.0   58.0\n",
      "2078.0 │  59.0   59.0\n",
      "2079.0 │  60.0   60.0\n",
      "2080.0 │  61.0   61.0\n",
      "2081.0 │  62.0   62.0\n",
      "2082.0 │  63.0   63.0\n",
      "2083.0 │  64.0   64.0\n",
      "2084.0 │  65.0   65.0\n",
      "2085.0 │  66.0   66.0\n",
      "2086.0 │  67.0   67.0\n",
      "2087.0 │  68.0   68.0\n",
      "2088.0 │  69.0   69.0\n",
      "2089.0 │  70.0   70.0\n",
      "2090.0 │  71.0   71.0\n",
      "2091.0 │  72.0   72.0\n",
      "2092.0 │  73.0   73.0\n",
      "2093.0 │  74.0   74.0\n",
      "2094.0 │  75.0   75.0\n",
      "2095.0 │  76.0   76.0\n",
      "2096.0 │  77.0   77.0\n",
      "2097.0 │  78.0   78.0\n",
      "2098.0 │  79.0   79.0\n",
      "2099.0 │  80.0   80.0\n",
      "2100.0 │  81.0   81.0\n",
      "2101.0 │  82.0   82.0\n",
      "2102.0 │  83.0   83.0\n",
      "2103.0 │  84.0   84.0\n",
      "2104.0 │  85.0   85.0\n",
      "2105.0 │  86.0   86.0\n",
      "2106.0 │  87.0   87.0\n",
      "2107.0 │  88.0   88.0\n",
      "2108.0 │  89.0   89.0\n",
      "2109.0 │  90.0   90.0\n",
      "2110.0 │  91.0   91.0\n",
      "2111.0 │  92.0   92.0\n",
      "2112.0 │  93.0   93.0\n",
      "2113.0 │  94.0   94.0\n",
      "2114.0 │  95.0   95.0\n",
      "2115.0 │  96.0   96.0\n",
      "2116.0 │  97.0   97.0\n",
      "2117.0 │  98.0   98.0\n",
      "2118.0 │  99.0   99.0\n",
      "2119.0 │ 100.0  100.0\n"
     ]
    }
   ],
   "source": [
    "using NamedArrays\n",
    "\n",
    "columnsnames = [\"A\",\"B\"]\n",
    "c = length(columnsnames)\n",
    "n = 100\n",
    "years = zeros(n)\n",
    "start_date = 2020\n",
    "years[1] = start_date\n",
    "\n",
    "for t in 2:n\n",
    "    years[t] = years[t-1] + 1\n",
    "end\n",
    "\n",
    "y = NamedArray((zeros(n,c)), (years, columnsnames)) \n"
   ]
  },
  {
   "cell_type": "code",
   "execution_count": null,
   "id": "150d4781-2aea-43c9-888a-b5380bcb5218",
   "metadata": {},
   "outputs": [],
   "source": []
  }
 ],
 "metadata": {
  "kernelspec": {
   "display_name": "Julia 1.5.4",
   "language": "julia",
   "name": "julia-1.5"
  },
  "language_info": {
   "file_extension": ".jl",
   "mimetype": "application/julia",
   "name": "julia",
   "version": "1.7.1"
  }
 },
 "nbformat": 4,
 "nbformat_minor": 5
}
