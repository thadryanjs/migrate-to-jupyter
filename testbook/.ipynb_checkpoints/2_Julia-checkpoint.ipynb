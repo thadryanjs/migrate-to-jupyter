{
 "cells": [
  {
   "cell_type": "markdown",
   "id": "affecting-wichita",
   "metadata": {},
   "source": [
    "# Julia\n",
    "I am using `TableView`, which works great when the book is running, but not when I compile it to share with my colleagues. "
   ]
  },
  {
   "cell_type": "code",
   "execution_count": 2,
   "id": "split-orientation",
   "metadata": {},
   "outputs": [
    {
     "data": {
      "application/vnd.webio.node+json": {
       "children": [],
       "instanceArgs": {
        "namespace": "html",
        "tag": "div"
       },
       "nodeType": "DOM",
       "props": {},
       "type": "node"
      },
      "text/html": [
       "<div style=\"padding: 1em; background-color: #f8d6da; border: 1px solid #f5c6cb; font-weight: bold;\">\n",
       "<p>The WebIO Jupyter extension was not detected. See the\n",
       "<a href=\"https://juliagizmos.github.io/WebIO.jl/latest/providers/ijulia/\" target=\"_blank\">\n",
       "    WebIO Jupyter integration documentation\n",
       "</a>\n",
       "for more information.\n",
       "</div>\n"
      ],
      "text/plain": [
       "WebIO._IJuliaInit()"
      ]
     },
     "metadata": {
      "@webio": {
       "kernelId": "ed5ffd46-a4c1-435e-b272-bfb08df2c7d4"
      }
     },
     "output_type": "display_data"
    }
   ],
   "source": [
    "using RDatasets\n",
    "using TableView\n",
    "\n",
    "mtcars = dataset(\"datasets\", \"mtcars\");"
   ]
  },
  {
   "cell_type": "code",
   "execution_count": 3,
   "id": "resident-poetry",
   "metadata": {},
   "outputs": [
    {
     "data": {
      "application/vnd.webio.node+json": {
       "children": [
        {
         "children": [
          {
           "children": [
            ""
           ],
           "instanceArgs": {
            "namespace": "html",
            "tag": "div"
           },
           "nodeType": "DOM",
           "props": {
            "style": {
             "background-color": "#1c1f20",
             "color": "#F5F7F7",
             "font-family": "-apple-system, BlinkMacSystemFont, \"Segoe UI\", Roboto, Oxygen-Sans, Ubuntu, Cantarell, \"Helvetica Neue\", sans-serif",
             "height": "0",
             "padding": "0"
            }
           },
           "type": "node"
          },
          {
           "children": [],
           "instanceArgs": {
            "namespace": "html",
            "tag": "div"
           },
           "nodeType": "DOM",
           "props": {
            "className": "ag-theme-balham-dark",
            "id": "grid-69aaa63e",
            "style": {
             "height": "500px",
             "width": "100%"
            }
           },
           "type": "node"
          }
         ],
         "instanceArgs": {
          "namespace": "html",
          "tag": "div"
         },
         "nodeType": "DOM",
         "props": {},
         "type": "node"
        }
       ],
       "instanceArgs": {
        "handlers": {},
        "id": "7222997505031353514",
        "imports": {
         "data": [
          {
           "name": null,
           "type": "js",
           "url": "/assetserver/cfbe2cd6a4064abde7a78efb133cab9dbffb187b-rowNumberRenderer.js"
          },
          {
           "name": null,
           "type": "js",
           "url": "/assetserver/c5d34e6d81403c2e519c47395d8bab8d495e3d3a-ag-grid.js"
          },
          {
           "name": null,
           "type": "css",
           "url": "/assetserver/6b237d310ed5ec529a481e04c9c1322569ba2f43-ag-grid.css"
          },
          {
           "name": null,
           "type": "css",
           "url": "/assetserver/7b998ef501665614f83a3e8d7950b4d6b1f160aa-ag-grid-light.css"
          },
          {
           "name": null,
           "type": "css",
           "url": "/assetserver/40bf534dde49df5e0be92084969afeff17403a02-ag-grid-dark.css"
          }
         ],
         "type": "async_block"
        },
        "mount_callbacks": [
         "function () {\n    var handler = ((function (RowNumberRenderer,agGrid){var gridOptions={\"onCellFocused\":(function (ev){var x={}; (ev.rowIndex!==undefined) ? (x[\"rowIndex\"]=(ev.rowIndex+1)) : undefined; (ev.colDef!==undefined) ? (x[\"column\"]=ev.colDef.headerName) : undefined; return WebIO.setval({\"name\":\"onCellFocused\",\"scope\":\"7222997505031353514\",\"id\":\"3452837218290890234\",\"type\":\"observable\"},x)}),\"onCellValueChanged\":(function (){return }),\"rowSelection\":\"multiple\",\"multiSortKey\":\"ctrl\",\"columnDefs\":[{\"filter\":false,\"editable\":false,\"headerTooltip\":\"\",\"field\":\"__row__\",\"headerName\":\"Row\",\"sortable\":true,\"type\":\"numericColumn\",\"cellRenderer\":\"rowNumberRenderer\",\"resizable\":true},{\"filter\":true,\"editable\":false,\"headerTooltip\":\"InlineStrings.String31\",\"field\":\"Model\",\"headerName\":\"Model\",\"sortable\":true,\"type\":null,\"resizable\":true},{\"filter\":\"agNumberColumnFilter\",\"editable\":false,\"headerTooltip\":\"Float64\",\"field\":\"MPG\",\"headerName\":\"MPG\",\"sortable\":true,\"type\":\"numericColumn\",\"resizable\":true},{\"filter\":\"agNumberColumnFilter\",\"editable\":false,\"headerTooltip\":\"Int64\",\"field\":\"Cyl\",\"headerName\":\"Cyl\",\"sortable\":true,\"type\":\"numericColumn\",\"resizable\":true},{\"filter\":\"agNumberColumnFilter\",\"editable\":false,\"headerTooltip\":\"Float64\",\"field\":\"Disp\",\"headerName\":\"Disp\",\"sortable\":true,\"type\":\"numericColumn\",\"resizable\":true},{\"filter\":\"agNumberColumnFilter\",\"editable\":false,\"headerTooltip\":\"Int64\",\"field\":\"HP\",\"headerName\":\"HP\",\"sortable\":true,\"type\":\"numericColumn\",\"resizable\":true},{\"filter\":\"agNumberColumnFilter\",\"editable\":false,\"headerTooltip\":\"Float64\",\"field\":\"DRat\",\"headerName\":\"DRat\",\"sortable\":true,\"type\":\"numericColumn\",\"resizable\":true},{\"filter\":\"agNumberColumnFilter\",\"editable\":false,\"headerTooltip\":\"Float64\",\"field\":\"WT\",\"headerName\":\"WT\",\"sortable\":true,\"type\":\"numericColumn\",\"resizable\":true},{\"filter\":\"agNumberColumnFilter\",\"editable\":false,\"headerTooltip\":\"Float64\",\"field\":\"QSec\",\"headerName\":\"QSec\",\"sortable\":true,\"type\":\"numericColumn\",\"resizable\":true},{\"filter\":\"agNumberColumnFilter\",\"editable\":false,\"headerTooltip\":\"Int64\",\"field\":\"VS\",\"headerName\":\"VS\",\"sortable\":true,\"type\":\"numericColumn\",\"resizable\":true},{\"filter\":\"agNumberColumnFilter\",\"editable\":false,\"headerTooltip\":\"Int64\",\"field\":\"AM\",\"headerName\":\"AM\",\"sortable\":true,\"type\":\"numericColumn\",\"resizable\":true},{\"filter\":\"agNumberColumnFilter\",\"editable\":false,\"headerTooltip\":\"Int64\",\"field\":\"Gear\",\"headerName\":\"Gear\",\"sortable\":true,\"type\":\"numericColumn\",\"resizable\":true},{\"filter\":\"agNumberColumnFilter\",\"editable\":false,\"headerTooltip\":\"Int64\",\"field\":\"Carb\",\"headerName\":\"Carb\",\"sortable\":true,\"type\":\"numericColumn\",\"resizable\":true}],\"onCellDoubleClicked\":(function (ev){var x={}; (ev.rowIndex!==undefined) ? (x[\"rowIndex\"]=(ev.rowIndex+1)) : undefined; (ev.colDef!==undefined) ? (x[\"column\"]=ev.colDef.headerName) : undefined; return WebIO.setval({\"name\":\"onCellDoubleClicked\",\"scope\":\"7222997505031353514\",\"id\":\"15962964397625964818\",\"type\":\"observable\"},x)}),\"onRowClicked\":(function (ev){var x={}; (ev.rowIndex!==undefined) ? (x[\"rowIndex\"]=(ev.rowIndex+1)) : undefined; (ev.colDef!==undefined) ? (x[\"column\"]=ev.colDef.headerName) : undefined; return WebIO.setval({\"name\":\"onRowClicked\",\"scope\":\"7222997505031353514\",\"id\":\"8178313329364860330\",\"type\":\"observable\"},x)}),\"onCellKeyDown\":(function (ev){var x={}; (ev.rowIndex!==undefined) ? (x[\"rowIndex\"]=(ev.rowIndex+1)) : undefined; (ev.colDef!==undefined) ? (x[\"column\"]=ev.colDef.headerName) : undefined; return WebIO.setval({\"name\":\"onCellKeyDown\",\"scope\":\"7222997505031353514\",\"id\":\"13102319076813674532\",\"type\":\"observable\"},x)}),\"rowData\":[{\"Model\":\"Mazda RX4\",\"MPG\":21.0,\"Cyl\":6,\"Disp\":160.0,\"HP\":110,\"DRat\":3.9,\"WT\":2.62,\"QSec\":16.46,\"VS\":0,\"AM\":1,\"Gear\":4,\"Carb\":4},{\"Model\":\"Mazda RX4 Wag\",\"MPG\":21.0,\"Cyl\":6,\"Disp\":160.0,\"HP\":110,\"DRat\":3.9,\"WT\":2.875,\"QSec\":17.02,\"VS\":0,\"AM\":1,\"Gear\":4,\"Carb\":4},{\"Model\":\"Datsun 710\",\"MPG\":22.8,\"Cyl\":4,\"Disp\":108.0,\"HP\":93,\"DRat\":3.85,\"WT\":2.32,\"QSec\":18.61,\"VS\":1,\"AM\":1,\"Gear\":4,\"Carb\":1},{\"Model\":\"Hornet 4 Drive\",\"MPG\":21.4,\"Cyl\":6,\"Disp\":258.0,\"HP\":110,\"DRat\":3.08,\"WT\":3.215,\"QSec\":19.44,\"VS\":1,\"AM\":0,\"Gear\":3,\"Carb\":1},{\"Model\":\"Hornet Sportabout\",\"MPG\":18.7,\"Cyl\":8,\"Disp\":360.0,\"HP\":175,\"DRat\":3.15,\"WT\":3.44,\"QSec\":17.02,\"VS\":0,\"AM\":0,\"Gear\":3,\"Carb\":2},{\"Model\":\"Valiant\",\"MPG\":18.1,\"Cyl\":6,\"Disp\":225.0,\"HP\":105,\"DRat\":2.76,\"WT\":3.46,\"QSec\":20.22,\"VS\":1,\"AM\":0,\"Gear\":3,\"Carb\":1},{\"Model\":\"Duster 360\",\"MPG\":14.3,\"Cyl\":8,\"Disp\":360.0,\"HP\":245,\"DRat\":3.21,\"WT\":3.57,\"QSec\":15.84,\"VS\":0,\"AM\":0,\"Gear\":3,\"Carb\":4},{\"Model\":\"Merc 240D\",\"MPG\":24.4,\"Cyl\":4,\"Disp\":146.7,\"HP\":62,\"DRat\":3.69,\"WT\":3.19,\"QSec\":20.0,\"VS\":1,\"AM\":0,\"Gear\":4,\"Carb\":2},{\"Model\":\"Merc 230\",\"MPG\":22.8,\"Cyl\":4,\"Disp\":140.8,\"HP\":95,\"DRat\":3.92,\"WT\":3.15,\"QSec\":22.9,\"VS\":1,\"AM\":0,\"Gear\":4,\"Carb\":2},{\"Model\":\"Merc 280\",\"MPG\":19.2,\"Cyl\":6,\"Disp\":167.6,\"HP\":123,\"DRat\":3.92,\"WT\":3.44,\"QSec\":18.3,\"VS\":1,\"AM\":0,\"Gear\":4,\"Carb\":4},{\"Model\":\"Merc 280C\",\"MPG\":17.8,\"Cyl\":6,\"Disp\":167.6,\"HP\":123,\"DRat\":3.92,\"WT\":3.44,\"QSec\":18.9,\"VS\":1,\"AM\":0,\"Gear\":4,\"Carb\":4},{\"Model\":\"Merc 450SE\",\"MPG\":16.4,\"Cyl\":8,\"Disp\":275.8,\"HP\":180,\"DRat\":3.07,\"WT\":4.07,\"QSec\":17.4,\"VS\":0,\"AM\":0,\"Gear\":3,\"Carb\":3},{\"Model\":\"Merc 450SL\",\"MPG\":17.3,\"Cyl\":8,\"Disp\":275.8,\"HP\":180,\"DRat\":3.07,\"WT\":3.73,\"QSec\":17.6,\"VS\":0,\"AM\":0,\"Gear\":3,\"Carb\":3},{\"Model\":\"Merc 450SLC\",\"MPG\":15.2,\"Cyl\":8,\"Disp\":275.8,\"HP\":180,\"DRat\":3.07,\"WT\":3.78,\"QSec\":18.0,\"VS\":0,\"AM\":0,\"Gear\":3,\"Carb\":3},{\"Model\":\"Cadillac Fleetwood\",\"MPG\":10.4,\"Cyl\":8,\"Disp\":472.0,\"HP\":205,\"DRat\":2.93,\"WT\":5.25,\"QSec\":17.98,\"VS\":0,\"AM\":0,\"Gear\":3,\"Carb\":4},{\"Model\":\"Lincoln Continental\",\"MPG\":10.4,\"Cyl\":8,\"Disp\":460.0,\"HP\":215,\"DRat\":3.0,\"WT\":5.424,\"QSec\":17.82,\"VS\":0,\"AM\":0,\"Gear\":3,\"Carb\":4},{\"Model\":\"Chrysler Imperial\",\"MPG\":14.7,\"Cyl\":8,\"Disp\":440.0,\"HP\":230,\"DRat\":3.23,\"WT\":5.345,\"QSec\":17.42,\"VS\":0,\"AM\":0,\"Gear\":3,\"Carb\":4},{\"Model\":\"Fiat 128\",\"MPG\":32.4,\"Cyl\":4,\"Disp\":78.7,\"HP\":66,\"DRat\":4.08,\"WT\":2.2,\"QSec\":19.47,\"VS\":1,\"AM\":1,\"Gear\":4,\"Carb\":1},{\"Model\":\"Honda Civic\",\"MPG\":30.4,\"Cyl\":4,\"Disp\":75.7,\"HP\":52,\"DRat\":4.93,\"WT\":1.615,\"QSec\":18.52,\"VS\":1,\"AM\":1,\"Gear\":4,\"Carb\":2},{\"Model\":\"Toyota Corolla\",\"MPG\":33.9,\"Cyl\":4,\"Disp\":71.1,\"HP\":65,\"DRat\":4.22,\"WT\":1.835,\"QSec\":19.9,\"VS\":1,\"AM\":1,\"Gear\":4,\"Carb\":1},{\"Model\":\"Toyota Corona\",\"MPG\":21.5,\"Cyl\":4,\"Disp\":120.1,\"HP\":97,\"DRat\":3.7,\"WT\":2.465,\"QSec\":20.01,\"VS\":1,\"AM\":0,\"Gear\":3,\"Carb\":1},{\"Model\":\"Dodge Challenger\",\"MPG\":15.5,\"Cyl\":8,\"Disp\":318.0,\"HP\":150,\"DRat\":2.76,\"WT\":3.52,\"QSec\":16.87,\"VS\":0,\"AM\":0,\"Gear\":3,\"Carb\":2},{\"Model\":\"AMC Javelin\",\"MPG\":15.2,\"Cyl\":8,\"Disp\":304.0,\"HP\":150,\"DRat\":3.15,\"WT\":3.435,\"QSec\":17.3,\"VS\":0,\"AM\":0,\"Gear\":3,\"Carb\":2},{\"Model\":\"Camaro Z28\",\"MPG\":13.3,\"Cyl\":8,\"Disp\":350.0,\"HP\":245,\"DRat\":3.73,\"WT\":3.84,\"QSec\":15.41,\"VS\":0,\"AM\":0,\"Gear\":3,\"Carb\":4},{\"Model\":\"Pontiac Firebird\",\"MPG\":19.2,\"Cyl\":8,\"Disp\":400.0,\"HP\":175,\"DRat\":3.08,\"WT\":3.845,\"QSec\":17.05,\"VS\":0,\"AM\":0,\"Gear\":3,\"Carb\":2},{\"Model\":\"Fiat X1-9\",\"MPG\":27.3,\"Cyl\":4,\"Disp\":79.0,\"HP\":66,\"DRat\":4.08,\"WT\":1.935,\"QSec\":18.9,\"VS\":1,\"AM\":1,\"Gear\":4,\"Carb\":1},{\"Model\":\"Porsche 914-2\",\"MPG\":26.0,\"Cyl\":4,\"Disp\":120.3,\"HP\":91,\"DRat\":4.43,\"WT\":2.14,\"QSec\":16.7,\"VS\":0,\"AM\":1,\"Gear\":5,\"Carb\":2},{\"Model\":\"Lotus Europa\",\"MPG\":30.4,\"Cyl\":4,\"Disp\":95.1,\"HP\":113,\"DRat\":3.77,\"WT\":1.513,\"QSec\":16.9,\"VS\":1,\"AM\":1,\"Gear\":5,\"Carb\":2},{\"Model\":\"Ford Pantera L\",\"MPG\":15.8,\"Cyl\":8,\"Disp\":351.0,\"HP\":264,\"DRat\":4.22,\"WT\":3.17,\"QSec\":14.5,\"VS\":0,\"AM\":1,\"Gear\":5,\"Carb\":4},{\"Model\":\"Ferrari Dino\",\"MPG\":19.7,\"Cyl\":6,\"Disp\":145.0,\"HP\":175,\"DRat\":3.62,\"WT\":2.77,\"QSec\":15.5,\"VS\":0,\"AM\":1,\"Gear\":5,\"Carb\":6},{\"Model\":\"Maserati Bora\",\"MPG\":15.0,\"Cyl\":8,\"Disp\":301.0,\"HP\":335,\"DRat\":3.54,\"WT\":3.57,\"QSec\":14.6,\"VS\":0,\"AM\":1,\"Gear\":5,\"Carb\":8},{\"Model\":\"Volvo 142E\",\"MPG\":21.4,\"Cyl\":4,\"Disp\":121.0,\"HP\":109,\"DRat\":4.11,\"WT\":2.78,\"QSec\":18.6,\"VS\":1,\"AM\":1,\"Gear\":4,\"Carb\":2}],\"onCellClicked\":(function (ev){var x={}; (ev.rowIndex!==undefined) ? (x[\"rowIndex\"]=(ev.rowIndex+1)) : undefined; (ev.colDef!==undefined) ? (x[\"column\"]=ev.colDef.headerName) : undefined; return WebIO.setval({\"name\":\"onCellClicked\",\"scope\":\"7222997505031353514\",\"id\":\"13239247674421108835\",\"type\":\"observable\"},x)})}; var el=document.getElementById(\"grid-69aaa63e\"); gridOptions.components={\"rowNumberRenderer\":RowNumberRenderer}; false ? (agGrid.LicenseManager.setLicenseKey(null)) : undefined; this.table=new agGrid.Grid(el,gridOptions); return gridOptions.columnApi.autoSizeAllColumns()}));\n    (WebIO.importBlock({\"data\":[{\"name\":null,\"type\":\"js\",\"url\":\"/assetserver/cfbe2cd6a4064abde7a78efb133cab9dbffb187b-rowNumberRenderer.js\"},{\"name\":null,\"type\":\"js\",\"url\":\"/assetserver/c5d34e6d81403c2e519c47395d8bab8d495e3d3a-ag-grid.js\"},{\"name\":null,\"type\":\"css\",\"url\":\"/assetserver/6b237d310ed5ec529a481e04c9c1322569ba2f43-ag-grid.css\"},{\"name\":null,\"type\":\"css\",\"url\":\"/assetserver/7b998ef501665614f83a3e8d7950b4d6b1f160aa-ag-grid-light.css\"},{\"name\":null,\"type\":\"css\",\"url\":\"/assetserver/40bf534dde49df5e0be92084969afeff17403a02-ag-grid-dark.css\"}],\"type\":\"async_block\"})).then((imports) => handler.apply(this, imports));\n}\n"
        ],
        "observables": {
         "onCellClicked": {
          "id": "13239247674421108835",
          "sync": false,
          "value": null
         },
         "onCellDoubleClicked": {
          "id": "15962964397625964818",
          "sync": false,
          "value": null
         },
         "onCellFocused": {
          "id": "3452837218290890234",
          "sync": false,
          "value": null
         },
         "onCellKeyDown": {
          "id": "13102319076813674532",
          "sync": false,
          "value": null
         },
         "onRowClicked": {
          "id": "8178313329364860330",
          "sync": false,
          "value": null
         }
        },
        "systemjs_options": null
       },
       "nodeType": "Scope",
       "props": {},
       "type": "node"
      },
      "text/html": [
       "<div\n",
       "    class=\"webio-mountpoint\"\n",
       "    data-webio-mountpoint=\"8193121616725305173\"\n",
       ">\n",
       "    <script>\n",
       "    (function(){\n",
       "    // Some integrations (namely, IJulia/Jupyter) use an alternate render pathway than\n",
       "    // just putting the html on the page. If WebIO isn't defined, then it's pretty likely\n",
       "    // that we're in one of those situations and the integration just isn't installed\n",
       "    // correctly.\n",
       "    if (typeof window.WebIO === \"undefined\") {\n",
       "        document\n",
       "            .querySelector('[data-webio-mountpoint=\"8193121616725305173\"]')\n",
       "            .innerHTML = (\n",
       "                '<div style=\"padding: 1em; background-color: #f8d6da; border: 1px solid #f5c6cb; font-weight: bold;\">' +\n",
       "                '<p><strong>WebIO not detected.</strong></p>' +\n",
       "                '<p>Please read ' +\n",
       "                '<a href=\"https://juliagizmos.github.io/WebIO.jl/latest/troubleshooting/not-detected/\" target=\"_blank\">the troubleshooting guide</a> ' +\n",
       "                'for more information on how to resolve this issue.</p>' +\n",
       "                '<p><a href=\"https://juliagizmos.github.io/WebIO.jl/latest/troubleshooting/not-detected/\" target=\"_blank\">https://juliagizmos.github.io/WebIO.jl/latest/troubleshooting/not-detected/</a></p>' +\n",
       "                '</div>'\n",
       "            );\n",
       "        return;\n",
       "    }\n",
       "    WebIO.mount(\n",
       "        document.querySelector('[data-webio-mountpoint=\"8193121616725305173\"]'),\n",
       "        {\"props\":{},\"nodeType\":\"Scope\",\"type\":\"node\",\"instanceArgs\":{\"imports\":{\"data\":[{\"name\":null,\"type\":\"js\",\"url\":\"\\/assetserver\\/cfbe2cd6a4064abde7a78efb133cab9dbffb187b-rowNumberRenderer.js\"},{\"name\":null,\"type\":\"js\",\"url\":\"\\/assetserver\\/c5d34e6d81403c2e519c47395d8bab8d495e3d3a-ag-grid.js\"},{\"name\":null,\"type\":\"css\",\"url\":\"\\/assetserver\\/6b237d310ed5ec529a481e04c9c1322569ba2f43-ag-grid.css\"},{\"name\":null,\"type\":\"css\",\"url\":\"\\/assetserver\\/7b998ef501665614f83a3e8d7950b4d6b1f160aa-ag-grid-light.css\"},{\"name\":null,\"type\":\"css\",\"url\":\"\\/assetserver\\/40bf534dde49df5e0be92084969afeff17403a02-ag-grid-dark.css\"}],\"type\":\"async_block\"},\"id\":\"7222997505031353514\",\"handlers\":{},\"systemjs_options\":null,\"mount_callbacks\":[\"function () {\\n    var handler = ((function (RowNumberRenderer,agGrid){var gridOptions={\\\"onCellFocused\\\":(function (ev){var x={}; (ev.rowIndex!==undefined) ? (x[\\\"rowIndex\\\"]=(ev.rowIndex+1)) : undefined; (ev.colDef!==undefined) ? (x[\\\"column\\\"]=ev.colDef.headerName) : undefined; return WebIO.setval({\\\"name\\\":\\\"onCellFocused\\\",\\\"scope\\\":\\\"7222997505031353514\\\",\\\"id\\\":\\\"3452837218290890234\\\",\\\"type\\\":\\\"observable\\\"},x)}),\\\"onCellValueChanged\\\":(function (){return }),\\\"rowSelection\\\":\\\"multiple\\\",\\\"multiSortKey\\\":\\\"ctrl\\\",\\\"columnDefs\\\":[{\\\"filter\\\":false,\\\"editable\\\":false,\\\"headerTooltip\\\":\\\"\\\",\\\"field\\\":\\\"__row__\\\",\\\"headerName\\\":\\\"Row\\\",\\\"sortable\\\":true,\\\"type\\\":\\\"numericColumn\\\",\\\"cellRenderer\\\":\\\"rowNumberRenderer\\\",\\\"resizable\\\":true},{\\\"filter\\\":true,\\\"editable\\\":false,\\\"headerTooltip\\\":\\\"InlineStrings.String31\\\",\\\"field\\\":\\\"Model\\\",\\\"headerName\\\":\\\"Model\\\",\\\"sortable\\\":true,\\\"type\\\":null,\\\"resizable\\\":true},{\\\"filter\\\":\\\"agNumberColumnFilter\\\",\\\"editable\\\":false,\\\"headerTooltip\\\":\\\"Float64\\\",\\\"field\\\":\\\"MPG\\\",\\\"headerName\\\":\\\"MPG\\\",\\\"sortable\\\":true,\\\"type\\\":\\\"numericColumn\\\",\\\"resizable\\\":true},{\\\"filter\\\":\\\"agNumberColumnFilter\\\",\\\"editable\\\":false,\\\"headerTooltip\\\":\\\"Int64\\\",\\\"field\\\":\\\"Cyl\\\",\\\"headerName\\\":\\\"Cyl\\\",\\\"sortable\\\":true,\\\"type\\\":\\\"numericColumn\\\",\\\"resizable\\\":true},{\\\"filter\\\":\\\"agNumberColumnFilter\\\",\\\"editable\\\":false,\\\"headerTooltip\\\":\\\"Float64\\\",\\\"field\\\":\\\"Disp\\\",\\\"headerName\\\":\\\"Disp\\\",\\\"sortable\\\":true,\\\"type\\\":\\\"numericColumn\\\",\\\"resizable\\\":true},{\\\"filter\\\":\\\"agNumberColumnFilter\\\",\\\"editable\\\":false,\\\"headerTooltip\\\":\\\"Int64\\\",\\\"field\\\":\\\"HP\\\",\\\"headerName\\\":\\\"HP\\\",\\\"sortable\\\":true,\\\"type\\\":\\\"numericColumn\\\",\\\"resizable\\\":true},{\\\"filter\\\":\\\"agNumberColumnFilter\\\",\\\"editable\\\":false,\\\"headerTooltip\\\":\\\"Float64\\\",\\\"field\\\":\\\"DRat\\\",\\\"headerName\\\":\\\"DRat\\\",\\\"sortable\\\":true,\\\"type\\\":\\\"numericColumn\\\",\\\"resizable\\\":true},{\\\"filter\\\":\\\"agNumberColumnFilter\\\",\\\"editable\\\":false,\\\"headerTooltip\\\":\\\"Float64\\\",\\\"field\\\":\\\"WT\\\",\\\"headerName\\\":\\\"WT\\\",\\\"sortable\\\":true,\\\"type\\\":\\\"numericColumn\\\",\\\"resizable\\\":true},{\\\"filter\\\":\\\"agNumberColumnFilter\\\",\\\"editable\\\":false,\\\"headerTooltip\\\":\\\"Float64\\\",\\\"field\\\":\\\"QSec\\\",\\\"headerName\\\":\\\"QSec\\\",\\\"sortable\\\":true,\\\"type\\\":\\\"numericColumn\\\",\\\"resizable\\\":true},{\\\"filter\\\":\\\"agNumberColumnFilter\\\",\\\"editable\\\":false,\\\"headerTooltip\\\":\\\"Int64\\\",\\\"field\\\":\\\"VS\\\",\\\"headerName\\\":\\\"VS\\\",\\\"sortable\\\":true,\\\"type\\\":\\\"numericColumn\\\",\\\"resizable\\\":true},{\\\"filter\\\":\\\"agNumberColumnFilter\\\",\\\"editable\\\":false,\\\"headerTooltip\\\":\\\"Int64\\\",\\\"field\\\":\\\"AM\\\",\\\"headerName\\\":\\\"AM\\\",\\\"sortable\\\":true,\\\"type\\\":\\\"numericColumn\\\",\\\"resizable\\\":true},{\\\"filter\\\":\\\"agNumberColumnFilter\\\",\\\"editable\\\":false,\\\"headerTooltip\\\":\\\"Int64\\\",\\\"field\\\":\\\"Gear\\\",\\\"headerName\\\":\\\"Gear\\\",\\\"sortable\\\":true,\\\"type\\\":\\\"numericColumn\\\",\\\"resizable\\\":true},{\\\"filter\\\":\\\"agNumberColumnFilter\\\",\\\"editable\\\":false,\\\"headerTooltip\\\":\\\"Int64\\\",\\\"field\\\":\\\"Carb\\\",\\\"headerName\\\":\\\"Carb\\\",\\\"sortable\\\":true,\\\"type\\\":\\\"numericColumn\\\",\\\"resizable\\\":true}],\\\"onCellDoubleClicked\\\":(function (ev){var x={}; (ev.rowIndex!==undefined) ? (x[\\\"rowIndex\\\"]=(ev.rowIndex+1)) : undefined; (ev.colDef!==undefined) ? (x[\\\"column\\\"]=ev.colDef.headerName) : undefined; return WebIO.setval({\\\"name\\\":\\\"onCellDoubleClicked\\\",\\\"scope\\\":\\\"7222997505031353514\\\",\\\"id\\\":\\\"15962964397625964818\\\",\\\"type\\\":\\\"observable\\\"},x)}),\\\"onRowClicked\\\":(function (ev){var x={}; (ev.rowIndex!==undefined) ? (x[\\\"rowIndex\\\"]=(ev.rowIndex+1)) : undefined; (ev.colDef!==undefined) ? (x[\\\"column\\\"]=ev.colDef.headerName) : undefined; return WebIO.setval({\\\"name\\\":\\\"onRowClicked\\\",\\\"scope\\\":\\\"7222997505031353514\\\",\\\"id\\\":\\\"8178313329364860330\\\",\\\"type\\\":\\\"observable\\\"},x)}),\\\"onCellKeyDown\\\":(function (ev){var x={}; (ev.rowIndex!==undefined) ? (x[\\\"rowIndex\\\"]=(ev.rowIndex+1)) : undefined; (ev.colDef!==undefined) ? (x[\\\"column\\\"]=ev.colDef.headerName) : undefined; return WebIO.setval({\\\"name\\\":\\\"onCellKeyDown\\\",\\\"scope\\\":\\\"7222997505031353514\\\",\\\"id\\\":\\\"13102319076813674532\\\",\\\"type\\\":\\\"observable\\\"},x)}),\\\"rowData\\\":[{\\\"Model\\\":\\\"Mazda RX4\\\",\\\"MPG\\\":21.0,\\\"Cyl\\\":6,\\\"Disp\\\":160.0,\\\"HP\\\":110,\\\"DRat\\\":3.9,\\\"WT\\\":2.62,\\\"QSec\\\":16.46,\\\"VS\\\":0,\\\"AM\\\":1,\\\"Gear\\\":4,\\\"Carb\\\":4},{\\\"Model\\\":\\\"Mazda RX4 Wag\\\",\\\"MPG\\\":21.0,\\\"Cyl\\\":6,\\\"Disp\\\":160.0,\\\"HP\\\":110,\\\"DRat\\\":3.9,\\\"WT\\\":2.875,\\\"QSec\\\":17.02,\\\"VS\\\":0,\\\"AM\\\":1,\\\"Gear\\\":4,\\\"Carb\\\":4},{\\\"Model\\\":\\\"Datsun 710\\\",\\\"MPG\\\":22.8,\\\"Cyl\\\":4,\\\"Disp\\\":108.0,\\\"HP\\\":93,\\\"DRat\\\":3.85,\\\"WT\\\":2.32,\\\"QSec\\\":18.61,\\\"VS\\\":1,\\\"AM\\\":1,\\\"Gear\\\":4,\\\"Carb\\\":1},{\\\"Model\\\":\\\"Hornet 4 Drive\\\",\\\"MPG\\\":21.4,\\\"Cyl\\\":6,\\\"Disp\\\":258.0,\\\"HP\\\":110,\\\"DRat\\\":3.08,\\\"WT\\\":3.215,\\\"QSec\\\":19.44,\\\"VS\\\":1,\\\"AM\\\":0,\\\"Gear\\\":3,\\\"Carb\\\":1},{\\\"Model\\\":\\\"Hornet Sportabout\\\",\\\"MPG\\\":18.7,\\\"Cyl\\\":8,\\\"Disp\\\":360.0,\\\"HP\\\":175,\\\"DRat\\\":3.15,\\\"WT\\\":3.44,\\\"QSec\\\":17.02,\\\"VS\\\":0,\\\"AM\\\":0,\\\"Gear\\\":3,\\\"Carb\\\":2},{\\\"Model\\\":\\\"Valiant\\\",\\\"MPG\\\":18.1,\\\"Cyl\\\":6,\\\"Disp\\\":225.0,\\\"HP\\\":105,\\\"DRat\\\":2.76,\\\"WT\\\":3.46,\\\"QSec\\\":20.22,\\\"VS\\\":1,\\\"AM\\\":0,\\\"Gear\\\":3,\\\"Carb\\\":1},{\\\"Model\\\":\\\"Duster 360\\\",\\\"MPG\\\":14.3,\\\"Cyl\\\":8,\\\"Disp\\\":360.0,\\\"HP\\\":245,\\\"DRat\\\":3.21,\\\"WT\\\":3.57,\\\"QSec\\\":15.84,\\\"VS\\\":0,\\\"AM\\\":0,\\\"Gear\\\":3,\\\"Carb\\\":4},{\\\"Model\\\":\\\"Merc 240D\\\",\\\"MPG\\\":24.4,\\\"Cyl\\\":4,\\\"Disp\\\":146.7,\\\"HP\\\":62,\\\"DRat\\\":3.69,\\\"WT\\\":3.19,\\\"QSec\\\":20.0,\\\"VS\\\":1,\\\"AM\\\":0,\\\"Gear\\\":4,\\\"Carb\\\":2},{\\\"Model\\\":\\\"Merc 230\\\",\\\"MPG\\\":22.8,\\\"Cyl\\\":4,\\\"Disp\\\":140.8,\\\"HP\\\":95,\\\"DRat\\\":3.92,\\\"WT\\\":3.15,\\\"QSec\\\":22.9,\\\"VS\\\":1,\\\"AM\\\":0,\\\"Gear\\\":4,\\\"Carb\\\":2},{\\\"Model\\\":\\\"Merc 280\\\",\\\"MPG\\\":19.2,\\\"Cyl\\\":6,\\\"Disp\\\":167.6,\\\"HP\\\":123,\\\"DRat\\\":3.92,\\\"WT\\\":3.44,\\\"QSec\\\":18.3,\\\"VS\\\":1,\\\"AM\\\":0,\\\"Gear\\\":4,\\\"Carb\\\":4},{\\\"Model\\\":\\\"Merc 280C\\\",\\\"MPG\\\":17.8,\\\"Cyl\\\":6,\\\"Disp\\\":167.6,\\\"HP\\\":123,\\\"DRat\\\":3.92,\\\"WT\\\":3.44,\\\"QSec\\\":18.9,\\\"VS\\\":1,\\\"AM\\\":0,\\\"Gear\\\":4,\\\"Carb\\\":4},{\\\"Model\\\":\\\"Merc 450SE\\\",\\\"MPG\\\":16.4,\\\"Cyl\\\":8,\\\"Disp\\\":275.8,\\\"HP\\\":180,\\\"DRat\\\":3.07,\\\"WT\\\":4.07,\\\"QSec\\\":17.4,\\\"VS\\\":0,\\\"AM\\\":0,\\\"Gear\\\":3,\\\"Carb\\\":3},{\\\"Model\\\":\\\"Merc 450SL\\\",\\\"MPG\\\":17.3,\\\"Cyl\\\":8,\\\"Disp\\\":275.8,\\\"HP\\\":180,\\\"DRat\\\":3.07,\\\"WT\\\":3.73,\\\"QSec\\\":17.6,\\\"VS\\\":0,\\\"AM\\\":0,\\\"Gear\\\":3,\\\"Carb\\\":3},{\\\"Model\\\":\\\"Merc 450SLC\\\",\\\"MPG\\\":15.2,\\\"Cyl\\\":8,\\\"Disp\\\":275.8,\\\"HP\\\":180,\\\"DRat\\\":3.07,\\\"WT\\\":3.78,\\\"QSec\\\":18.0,\\\"VS\\\":0,\\\"AM\\\":0,\\\"Gear\\\":3,\\\"Carb\\\":3},{\\\"Model\\\":\\\"Cadillac Fleetwood\\\",\\\"MPG\\\":10.4,\\\"Cyl\\\":8,\\\"Disp\\\":472.0,\\\"HP\\\":205,\\\"DRat\\\":2.93,\\\"WT\\\":5.25,\\\"QSec\\\":17.98,\\\"VS\\\":0,\\\"AM\\\":0,\\\"Gear\\\":3,\\\"Carb\\\":4},{\\\"Model\\\":\\\"Lincoln Continental\\\",\\\"MPG\\\":10.4,\\\"Cyl\\\":8,\\\"Disp\\\":460.0,\\\"HP\\\":215,\\\"DRat\\\":3.0,\\\"WT\\\":5.424,\\\"QSec\\\":17.82,\\\"VS\\\":0,\\\"AM\\\":0,\\\"Gear\\\":3,\\\"Carb\\\":4},{\\\"Model\\\":\\\"Chrysler Imperial\\\",\\\"MPG\\\":14.7,\\\"Cyl\\\":8,\\\"Disp\\\":440.0,\\\"HP\\\":230,\\\"DRat\\\":3.23,\\\"WT\\\":5.345,\\\"QSec\\\":17.42,\\\"VS\\\":0,\\\"AM\\\":0,\\\"Gear\\\":3,\\\"Carb\\\":4},{\\\"Model\\\":\\\"Fiat 128\\\",\\\"MPG\\\":32.4,\\\"Cyl\\\":4,\\\"Disp\\\":78.7,\\\"HP\\\":66,\\\"DRat\\\":4.08,\\\"WT\\\":2.2,\\\"QSec\\\":19.47,\\\"VS\\\":1,\\\"AM\\\":1,\\\"Gear\\\":4,\\\"Carb\\\":1},{\\\"Model\\\":\\\"Honda Civic\\\",\\\"MPG\\\":30.4,\\\"Cyl\\\":4,\\\"Disp\\\":75.7,\\\"HP\\\":52,\\\"DRat\\\":4.93,\\\"WT\\\":1.615,\\\"QSec\\\":18.52,\\\"VS\\\":1,\\\"AM\\\":1,\\\"Gear\\\":4,\\\"Carb\\\":2},{\\\"Model\\\":\\\"Toyota Corolla\\\",\\\"MPG\\\":33.9,\\\"Cyl\\\":4,\\\"Disp\\\":71.1,\\\"HP\\\":65,\\\"DRat\\\":4.22,\\\"WT\\\":1.835,\\\"QSec\\\":19.9,\\\"VS\\\":1,\\\"AM\\\":1,\\\"Gear\\\":4,\\\"Carb\\\":1},{\\\"Model\\\":\\\"Toyota Corona\\\",\\\"MPG\\\":21.5,\\\"Cyl\\\":4,\\\"Disp\\\":120.1,\\\"HP\\\":97,\\\"DRat\\\":3.7,\\\"WT\\\":2.465,\\\"QSec\\\":20.01,\\\"VS\\\":1,\\\"AM\\\":0,\\\"Gear\\\":3,\\\"Carb\\\":1},{\\\"Model\\\":\\\"Dodge Challenger\\\",\\\"MPG\\\":15.5,\\\"Cyl\\\":8,\\\"Disp\\\":318.0,\\\"HP\\\":150,\\\"DRat\\\":2.76,\\\"WT\\\":3.52,\\\"QSec\\\":16.87,\\\"VS\\\":0,\\\"AM\\\":0,\\\"Gear\\\":3,\\\"Carb\\\":2},{\\\"Model\\\":\\\"AMC Javelin\\\",\\\"MPG\\\":15.2,\\\"Cyl\\\":8,\\\"Disp\\\":304.0,\\\"HP\\\":150,\\\"DRat\\\":3.15,\\\"WT\\\":3.435,\\\"QSec\\\":17.3,\\\"VS\\\":0,\\\"AM\\\":0,\\\"Gear\\\":3,\\\"Carb\\\":2},{\\\"Model\\\":\\\"Camaro Z28\\\",\\\"MPG\\\":13.3,\\\"Cyl\\\":8,\\\"Disp\\\":350.0,\\\"HP\\\":245,\\\"DRat\\\":3.73,\\\"WT\\\":3.84,\\\"QSec\\\":15.41,\\\"VS\\\":0,\\\"AM\\\":0,\\\"Gear\\\":3,\\\"Carb\\\":4},{\\\"Model\\\":\\\"Pontiac Firebird\\\",\\\"MPG\\\":19.2,\\\"Cyl\\\":8,\\\"Disp\\\":400.0,\\\"HP\\\":175,\\\"DRat\\\":3.08,\\\"WT\\\":3.845,\\\"QSec\\\":17.05,\\\"VS\\\":0,\\\"AM\\\":0,\\\"Gear\\\":3,\\\"Carb\\\":2},{\\\"Model\\\":\\\"Fiat X1-9\\\",\\\"MPG\\\":27.3,\\\"Cyl\\\":4,\\\"Disp\\\":79.0,\\\"HP\\\":66,\\\"DRat\\\":4.08,\\\"WT\\\":1.935,\\\"QSec\\\":18.9,\\\"VS\\\":1,\\\"AM\\\":1,\\\"Gear\\\":4,\\\"Carb\\\":1},{\\\"Model\\\":\\\"Porsche 914-2\\\",\\\"MPG\\\":26.0,\\\"Cyl\\\":4,\\\"Disp\\\":120.3,\\\"HP\\\":91,\\\"DRat\\\":4.43,\\\"WT\\\":2.14,\\\"QSec\\\":16.7,\\\"VS\\\":0,\\\"AM\\\":1,\\\"Gear\\\":5,\\\"Carb\\\":2},{\\\"Model\\\":\\\"Lotus Europa\\\",\\\"MPG\\\":30.4,\\\"Cyl\\\":4,\\\"Disp\\\":95.1,\\\"HP\\\":113,\\\"DRat\\\":3.77,\\\"WT\\\":1.513,\\\"QSec\\\":16.9,\\\"VS\\\":1,\\\"AM\\\":1,\\\"Gear\\\":5,\\\"Carb\\\":2},{\\\"Model\\\":\\\"Ford Pantera L\\\",\\\"MPG\\\":15.8,\\\"Cyl\\\":8,\\\"Disp\\\":351.0,\\\"HP\\\":264,\\\"DRat\\\":4.22,\\\"WT\\\":3.17,\\\"QSec\\\":14.5,\\\"VS\\\":0,\\\"AM\\\":1,\\\"Gear\\\":5,\\\"Carb\\\":4},{\\\"Model\\\":\\\"Ferrari Dino\\\",\\\"MPG\\\":19.7,\\\"Cyl\\\":6,\\\"Disp\\\":145.0,\\\"HP\\\":175,\\\"DRat\\\":3.62,\\\"WT\\\":2.77,\\\"QSec\\\":15.5,\\\"VS\\\":0,\\\"AM\\\":1,\\\"Gear\\\":5,\\\"Carb\\\":6},{\\\"Model\\\":\\\"Maserati Bora\\\",\\\"MPG\\\":15.0,\\\"Cyl\\\":8,\\\"Disp\\\":301.0,\\\"HP\\\":335,\\\"DRat\\\":3.54,\\\"WT\\\":3.57,\\\"QSec\\\":14.6,\\\"VS\\\":0,\\\"AM\\\":1,\\\"Gear\\\":5,\\\"Carb\\\":8},{\\\"Model\\\":\\\"Volvo 142E\\\",\\\"MPG\\\":21.4,\\\"Cyl\\\":4,\\\"Disp\\\":121.0,\\\"HP\\\":109,\\\"DRat\\\":4.11,\\\"WT\\\":2.78,\\\"QSec\\\":18.6,\\\"VS\\\":1,\\\"AM\\\":1,\\\"Gear\\\":4,\\\"Carb\\\":2}],\\\"onCellClicked\\\":(function (ev){var x={}; (ev.rowIndex!==undefined) ? (x[\\\"rowIndex\\\"]=(ev.rowIndex+1)) : undefined; (ev.colDef!==undefined) ? (x[\\\"column\\\"]=ev.colDef.headerName) : undefined; return WebIO.setval({\\\"name\\\":\\\"onCellClicked\\\",\\\"scope\\\":\\\"7222997505031353514\\\",\\\"id\\\":\\\"13239247674421108835\\\",\\\"type\\\":\\\"observable\\\"},x)})}; var el=document.getElementById(\\\"grid-69aaa63e\\\"); gridOptions.components={\\\"rowNumberRenderer\\\":RowNumberRenderer}; false ? (agGrid.LicenseManager.setLicenseKey(null)) : undefined; this.table=new agGrid.Grid(el,gridOptions); return gridOptions.columnApi.autoSizeAllColumns()}));\\n    (WebIO.importBlock({\\\"data\\\":[{\\\"name\\\":null,\\\"type\\\":\\\"js\\\",\\\"url\\\":\\\"\\/assetserver\\/cfbe2cd6a4064abde7a78efb133cab9dbffb187b-rowNumberRenderer.js\\\"},{\\\"name\\\":null,\\\"type\\\":\\\"js\\\",\\\"url\\\":\\\"\\/assetserver\\/c5d34e6d81403c2e519c47395d8bab8d495e3d3a-ag-grid.js\\\"},{\\\"name\\\":null,\\\"type\\\":\\\"css\\\",\\\"url\\\":\\\"\\/assetserver\\/6b237d310ed5ec529a481e04c9c1322569ba2f43-ag-grid.css\\\"},{\\\"name\\\":null,\\\"type\\\":\\\"css\\\",\\\"url\\\":\\\"\\/assetserver\\/7b998ef501665614f83a3e8d7950b4d6b1f160aa-ag-grid-light.css\\\"},{\\\"name\\\":null,\\\"type\\\":\\\"css\\\",\\\"url\\\":\\\"\\/assetserver\\/40bf534dde49df5e0be92084969afeff17403a02-ag-grid-dark.css\\\"}],\\\"type\\\":\\\"async_block\\\"})).then((imports) => handler.apply(this, imports));\\n}\\n\"],\"observables\":{\"onCellKeyDown\":{\"sync\":false,\"id\":\"13102319076813674532\",\"value\":null},\"onRowClicked\":{\"sync\":false,\"id\":\"8178313329364860330\",\"value\":null},\"onCellDoubleClicked\":{\"sync\":false,\"id\":\"15962964397625964818\",\"value\":null},\"onCellClicked\":{\"sync\":false,\"id\":\"13239247674421108835\",\"value\":null},\"onCellFocused\":{\"sync\":false,\"id\":\"3452837218290890234\",\"value\":null}}},\"children\":[{\"props\":{},\"nodeType\":\"DOM\",\"type\":\"node\",\"instanceArgs\":{\"namespace\":\"html\",\"tag\":\"div\"},\"children\":[{\"props\":{\"style\":{\"height\":\"0\",\"padding\":\"0\",\"background-color\":\"#1c1f20\",\"color\":\"#F5F7F7\",\"font-family\":\"-apple-system, BlinkMacSystemFont, \\\"Segoe UI\\\", Roboto, Oxygen-Sans, Ubuntu, Cantarell, \\\"Helvetica Neue\\\", sans-serif\"}},\"nodeType\":\"DOM\",\"type\":\"node\",\"instanceArgs\":{\"namespace\":\"html\",\"tag\":\"div\"},\"children\":[\"\"]},{\"props\":{\"id\":\"grid-69aaa63e\",\"className\":\"ag-theme-balham-dark\",\"style\":{\"height\":\"500px\",\"width\":\"100%\"}},\"nodeType\":\"DOM\",\"type\":\"node\",\"instanceArgs\":{\"namespace\":\"html\",\"tag\":\"div\"},\"children\":[]}]}]},\n",
       "        window,\n",
       "    );\n",
       "    })()\n",
       "    </script>\n",
       "</div>\n"
      ],
      "text/plain": [
       "WebIO.Scope(WebIO.Node{WebIO.DOM}(WebIO.DOM(:html, :div), Any[WebIO.Node{WebIO.DOM}(WebIO.DOM(:html, :div), Any[\"\"], Dict{Symbol, Any}(:style => Dict(\"height\" => \"0\", \"padding\" => \"0\", \"background-color\" => \"#1c1f20\", \"color\" => \"#F5F7F7\", \"font-family\" => \"-apple-system, BlinkMacSystemFont, \\\"Segoe UI\\\", Roboto, Oxygen-Sans, Ubuntu, Cantarell, \\\"Helvetica Neue\\\", sans-serif\"))), WebIO.Node{WebIO.DOM}(WebIO.DOM(:html, :div), Any[], Dict{Symbol, Any}(:id => \"grid-69aaa63e\", :className => \"ag-theme-balham-dark\", :style => Dict(\"height\" => \"500px\", \"width\" => \"100%\")))], Dict{Symbol, Any}()), Dict{String, Tuple{Observables.AbstractObservable, Union{Nothing, Bool}}}(\"onCellKeyDown\" => (Observable{Any} with 0 listeners. Value:\n",
       "nothing, nothing), \"onRowClicked\" => (Observable{Any} with 0 listeners. Value:\n",
       "nothing, nothing), \"onCellDoubleClicked\" => (Observable{Any} with 0 listeners. Value:\n",
       "nothing, nothing), \"onCellClicked\" => (Observable{Any} with 0 listeners. Value:\n",
       "nothing, nothing), \"onCellFocused\" => (Observable{Any} with 0 listeners. Value:\n",
       "nothing, nothing)), Set{String}(), nothing, WebIO.Asset[WebIO.Asset(\"js\", nothing, \"/Users/Thadryan/.julia/packages/TableView/CaHPi/src/rowNumberRenderer.js\"), WebIO.Asset(\"js\", nothing, \"/Users/Thadryan/.julia/packages/TableView/CaHPi/deps/ag-grid-25.2.0/ag-grid.js\"), WebIO.Asset(\"css\", nothing, \"/Users/Thadryan/.julia/packages/TableView/CaHPi/deps/ag-grid-25.2.0/ag-grid.css\"), WebIO.Asset(\"css\", nothing, \"/Users/Thadryan/.julia/packages/TableView/CaHPi/deps/ag-grid-25.2.0/ag-grid-light.css\"), WebIO.Asset(\"css\", nothing, \"/Users/Thadryan/.julia/packages/TableView/CaHPi/deps/ag-grid-25.2.0/ag-grid-dark.css\")], Dict{Any, Any}(), WebIO.ConnectionPool(Channel{Any}(32), Set{WebIO.AbstractConnection}(), Condition(Base.InvasiveLinkedList{Task}(Task (runnable) @0x0000000164fd79d0, Task (runnable) @0x0000000164fd79d0), Base.AlwaysLockedST(1))), WebIO.JSString[WebIO.JSString(\"function () {\\n    var handler = ((function (RowNumberRenderer,agGrid){var gridOptions={\\\"onCellFocused\\\":(function (ev){var x={}; (ev.rowIndex!==undefined) ? (x[\\\"rowIndex\\\"]=(ev.rowIndex+1)) : undefined; (ev.colDef!==undefined) ? (x[\\\"column\\\"]=ev.colDef.headerName) : undefined; return WebIO.setval({\\\"name\\\":\\\"onCellFocused\\\",\\\"scope\\\":\\\"7222997505031353514\\\",\\\"id\\\":\\\"3452837218290890234\\\",\\\"type\\\":\\\"observable\\\"},x)}),\\\"onCellValueChanged\\\":(function (){return }),\\\"rowSelection\\\":\\\"multiple\\\",\\\"multiSortKey\\\":\\\"ctrl\\\",\\\"columnDefs\\\":[{\\\"filter\\\":false,\\\"editable\\\":false,\\\"headerTooltip\\\":\\\"\\\",\\\"field\\\":\\\"__row__\\\",\\\"headerName\\\":\\\"Row\\\",\\\"sortable\\\":true,\\\"type\\\":\\\"numericColumn\\\",\\\"cellRenderer\\\":\\\"rowNumberRenderer\\\",\\\"resizable\\\":true},{\\\"filter\\\":true,\\\"editable\\\":false,\\\"headerTooltip\\\":\\\"InlineStrings.String31\\\",\\\"field\\\":\\\"Model\\\",\\\"headerName\\\":\\\"Model\\\",\\\"sortable\\\":true,\\\"type\\\":null,\\\"resizable\\\":true},{\\\"filter\\\":\\\"agNumberColumnFilter\\\",\\\"editable\\\":false,\\\"headerTooltip\\\":\\\"Float64\\\",\\\"field\\\":\\\"MPG\\\",\\\"headerName\\\":\\\"MPG\\\",\\\"sortable\\\":true,\\\"type\\\":\\\"numericColumn\\\",\\\"resizable\\\":true},{\\\"filter\\\":\\\"agNumberColumnFilter\\\",\\\"editable\\\":false,\\\"headerTooltip\\\":\\\"Int64\\\",\\\"field\\\":\\\"Cyl\\\",\\\"headerName\\\":\\\"Cyl\\\",\\\"sortable\\\":true,\\\"type\\\":\\\"numericColumn\\\",\\\"resizable\\\":true},{\\\"filter\\\":\\\"agNumberColumnFilter\\\",\\\"editable\\\":false,\\\"headerTooltip\\\":\\\"Float64\\\",\\\"field\\\":\\\"Disp\\\",\\\"headerName\\\":\\\"Disp\\\",\\\"sortable\\\":true,\\\"type\\\":\\\"numericColumn\\\",\\\"resizable\\\":true},{\\\"filter\\\":\\\"agNumberColumnFilter\\\",\\\"editable\\\":false,\\\"headerTooltip\\\":\\\"Int64\\\",\\\"field\\\":\\\"HP\\\",\\\"headerName\\\":\\\"HP\\\",\\\"sortable\\\":true,\\\"type\\\":\\\"numericColumn\\\",\\\"resizable\\\":true},{\\\"filter\\\":\\\"agNumberColumnFilter\\\",\\\"editable\\\":false,\\\"headerTooltip\\\":\\\"Float64\\\",\\\"field\\\":\\\"DRat\\\",\\\"headerName\\\":\\\"DRat\\\",\\\"sortable\\\":true,\\\"type\\\":\\\"numericColumn\\\",\\\"resizable\\\":true},{\\\"filter\\\":\\\"agNumberColumnFilter\\\",\\\"editable\\\":false,\\\"headerTooltip\\\":\\\"Float64\\\",\\\"field\\\":\\\"WT\\\",\\\"headerName\\\":\\\"WT\\\",\\\"sortable\\\":true,\\\"type\\\":\\\"numericColumn\\\",\\\"resizable\\\":true},{\\\"filter\\\":\\\"agNumberColumnFilter\\\",\\\"editable\\\":false,\\\"headerTooltip\\\":\\\"Float64\\\",\\\"field\\\":\\\"QSec\\\",\\\"headerName\\\":\\\"QSec\\\",\\\"sortable\\\":true,\\\"type\\\":\\\"numericColumn\\\",\\\"resizable\\\":true},{\\\"filter\\\":\\\"agNumberColumnFilter\\\",\\\"editable\\\":false,\\\"headerTooltip\\\":\\\"Int64\\\",\\\"field\\\":\\\"VS\\\",\\\"headerName\\\":\\\"VS\\\",\\\"sortable\\\":true,\\\"type\\\":\\\"numericColumn\\\",\\\"resizable\\\":true},{\\\"filter\\\":\\\"agNumberColumnFilter\\\",\\\"editable\\\":false,\\\"headerTooltip\\\":\\\"Int64\\\",\\\"field\\\":\\\"AM\\\",\\\"headerName\\\":\\\"AM\\\",\\\"sortable\\\":true,\\\"type\\\":\\\"numericColumn\\\",\\\"resizable\\\":true},{\\\"filter\\\":\\\"agNumberColumnFilter\\\",\\\"editable\\\":false,\\\"headerTooltip\\\":\\\"Int64\\\",\\\"field\\\":\\\"Gear\\\",\\\"headerName\\\":\\\"Gear\\\",\\\"sortable\\\":true,\\\"type\\\":\\\"numericColumn\\\",\\\"resizable\\\":true},{\\\"filter\\\":\\\"agNumberColumnFilter\\\",\\\"editable\\\":false,\\\"headerTooltip\\\":\\\"Int64\\\",\\\"field\\\":\\\"Carb\\\",\\\"headerName\\\":\\\"Carb\\\",\\\"sortable\\\":true,\\\"type\\\":\\\"numericColumn\\\",\\\"resizable\\\":true}],\\\"onCellDoubleClicked\\\":(function (ev){var x={}; (ev.rowIndex!==undefined) ? (x[\\\"rowIndex\\\"]=(ev.rowIndex+1)) : undefined; (ev.colDef!==undefined) ? (x[\\\"column\\\"]=ev.colDef.headerName) : undefined; return WebIO.setval({\\\"name\\\":\\\"onCellDoubleClicked\\\",\\\"scope\\\":\\\"7222997505031353514\\\",\\\"id\\\":\\\"15962964397625964818\\\",\\\"type\\\":\\\"observable\\\"},x)}),\\\"onRowClicked\\\":(function (ev){var x={}; (ev.rowIndex!==undefined) ? (x[\\\"rowIndex\\\"]=(ev.rowIndex+1)) : undefined; (ev.colDef!==undefined) ? (x[\\\"column\\\"]=ev.colDef.headerName) : undefined; return WebIO.setval({\\\"name\\\":\\\"onRowClicked\\\",\\\"scope\\\":\\\"7222997505031353514\\\",\\\"id\\\":\\\"8178313329364860330\\\",\\\"type\\\":\\\"observable\\\"},x)}),\\\"onCellKeyDown\\\":(function (ev){var x={}; (ev.rowIndex!==undefined) ? (x[\\\"rowIndex\\\"]=(ev.rowIndex+1)) : undefined; (ev.colDef!==undefined) ? (x[\\\"column\\\"]=ev.colDef.headerName) : undefined; return WebIO.setval({\\\"name\\\":\\\"onCellKeyDown\\\",\\\"scope\\\":\\\"7222997505031353514\\\",\\\"id\\\":\\\"13102319076813674532\\\",\\\"type\\\":\\\"observable\\\"},x)}),\\\"rowData\\\":[{\\\"Model\\\":\\\"Mazda RX4\\\",\\\"MPG\\\":21.0,\\\"Cyl\\\":6,\\\"Disp\\\":160.0,\\\"HP\\\":110,\\\"DRat\\\":3.9,\\\"WT\\\":2.62,\\\"QSec\\\":16.46,\\\"VS\\\":0,\\\"AM\\\":1,\\\"Gear\\\":4,\\\"Carb\\\":4},{\\\"Model\\\":\\\"Mazda RX4 Wag\\\",\\\"MPG\\\":21.0,\\\"Cyl\\\":6,\\\"Disp\\\":160.0,\\\"HP\\\":110,\\\"DRat\\\":3.9,\\\"WT\\\":2.875,\\\"QSec\\\":17.02,\\\"VS\\\":0,\\\"AM\\\":1,\\\"Gear\\\":4,\\\"Carb\\\":4},{\\\"Model\\\":\\\"Datsun 710\\\",\\\"MPG\\\":22.8,\\\"Cyl\\\":4,\\\"Disp\\\":108.0,\\\"HP\\\":93,\\\"DRat\\\":3.85,\\\"WT\\\":2.32,\\\"QSec\\\":18.61,\\\"VS\\\":1,\\\"AM\\\":1,\\\"Gear\\\":4,\\\"Carb\\\":1},{\\\"Model\\\":\\\"Hornet 4 Drive\\\",\\\"MPG\\\":21.4,\\\"Cyl\\\":6,\\\"Disp\\\":258.0,\\\"HP\\\":110,\\\"DRat\\\":3.08,\\\"WT\\\":3.215,\\\"QSec\\\":19.44,\\\"VS\\\":1,\\\"AM\\\":0,\\\"Gear\\\":3,\\\"Carb\\\":1},{\\\"Model\\\":\\\"Hornet Sportabout\\\",\\\"MPG\\\":18.7,\\\"Cyl\\\":8,\\\"Disp\\\":360.0,\\\"HP\\\":175,\\\"DRat\\\":3.15,\\\"WT\\\":3.44,\\\"QSec\\\":17.02,\\\"VS\\\":0,\\\"AM\\\":0,\\\"Gear\\\":3,\\\"Carb\\\":2},{\\\"Model\\\":\\\"Valiant\\\",\\\"MPG\\\":18.1,\\\"Cyl\\\":6,\\\"Disp\\\":225.0,\\\"HP\\\":105,\\\"DRat\\\":2.76,\\\"WT\\\":3.46,\\\"QSec\\\":20.22,\\\"VS\\\":1,\\\"AM\\\":0,\\\"Gear\\\":3,\\\"Carb\\\":1},{\\\"Model\\\":\\\"Duster 360\\\",\\\"MPG\\\":14.3,\\\"Cyl\\\":8,\\\"Disp\\\":360.0,\\\"HP\\\":245,\\\"DRat\\\":3.21,\\\"WT\\\":3.57,\\\"QSec\\\":15.84,\\\"VS\\\":0,\\\"AM\\\":0,\\\"Gear\\\":3,\\\"Carb\\\":4},{\\\"Model\\\":\\\"Merc 240D\\\",\\\"MPG\\\":24.4,\\\"Cyl\\\":4,\\\"Disp\\\":146.7,\\\"HP\\\":62,\\\"DRat\\\":3.69,\\\"WT\\\":3.19,\\\"QSec\\\":20.0,\\\"VS\\\":1,\\\"AM\\\":0,\\\"Gear\\\":4,\\\"Carb\\\":2},{\\\"Model\\\":\\\"Merc 230\\\",\\\"MPG\\\":22.8,\\\"Cyl\\\":4,\\\"Disp\\\":140.8,\\\"HP\\\":95,\\\"DRat\\\":3.92,\\\"WT\\\":3.15,\\\"QSec\\\":22.9,\\\"VS\\\":1,\\\"AM\\\":0,\\\"Gear\\\":4,\\\"Carb\\\":2},{\\\"Model\\\":\\\"Merc 280\\\",\\\"MPG\\\":19.2,\\\"Cyl\\\":6,\\\"Disp\\\":167.6,\\\"HP\\\":123,\\\"DRat\\\":3.92,\\\"WT\\\":3.44,\\\"QSec\\\":18.3,\\\"VS\\\":1,\\\"AM\\\":0,\\\"Gear\\\":4,\\\"Carb\\\":4},{\\\"Model\\\":\\\"Merc 280C\\\",\\\"MPG\\\":17.8,\\\"Cyl\\\":6,\\\"Disp\\\":167.6,\\\"HP\\\":123,\\\"DRat\\\":3.92,\\\"WT\\\":3.44,\\\"QSec\\\":18.9,\\\"VS\\\":1,\\\"AM\\\":0,\\\"Gear\\\":4,\\\"Carb\\\":4},{\\\"Model\\\":\\\"Merc 450SE\\\",\\\"MPG\\\":16.4,\\\"Cyl\\\":8,\\\"Disp\\\":275.8,\\\"HP\\\":180,\\\"DRat\\\":3.07,\\\"WT\\\":4.07,\\\"QSec\\\":17.4,\\\"VS\\\":0,\\\"AM\\\":0,\\\"Gear\\\":3,\\\"Carb\\\":3},{\\\"Model\\\":\\\"Merc 450SL\\\",\\\"MPG\\\":17.3,\\\"Cyl\\\":8,\\\"Disp\\\":275.8,\\\"HP\\\":180,\\\"DRat\\\":3.07,\\\"WT\\\":3.73,\\\"QSec\\\":17.6,\\\"VS\\\":0,\\\"AM\\\":0,\\\"Gear\\\":3,\\\"Carb\\\":3},{\\\"Model\\\":\\\"Merc 450SLC\\\",\\\"MPG\\\":15.2,\\\"Cyl\\\":8,\\\"Disp\\\":275.8,\\\"HP\\\":180,\\\"DRat\\\":3.07,\\\"WT\\\":3.78,\\\"QSec\\\":18.0,\\\"VS\\\":0,\\\"AM\\\":0,\\\"Gear\\\":3,\\\"Carb\\\":3},{\\\"Model\\\":\\\"Cadillac Fleetwood\\\",\\\"MPG\\\":10.4,\\\"Cyl\\\":8,\\\"Disp\\\":472.0,\\\"HP\\\":205,\\\"DRat\\\":2.93,\\\"WT\\\":5.25,\\\"QSec\\\":17.98,\\\"VS\\\":0,\\\"AM\\\":0,\\\"Gear\\\":3,\\\"Carb\\\":4},{\\\"Model\\\":\\\"Lincoln Continental\\\",\\\"MPG\\\":10.4,\\\"Cyl\\\":8,\\\"Disp\\\":460.0,\\\"HP\\\":215,\\\"DRat\\\":3.0,\\\"WT\\\":5.424,\\\"QSec\\\":17.82,\\\"VS\\\":0,\\\"AM\\\":0,\\\"Gear\\\":3,\\\"Carb\\\":4},{\\\"Model\\\":\\\"Chrysler Imperial\\\",\\\"MPG\\\":14.7,\\\"Cyl\\\":8,\\\"Disp\\\":440.0,\\\"HP\\\":230,\\\"DRat\\\":3.23,\\\"WT\\\":5.345,\\\"QSec\\\":17.42,\\\"VS\\\":0,\\\"AM\\\":0,\\\"Gear\\\":3,\\\"Carb\\\":4},{\\\"Model\\\":\\\"Fiat 128\\\",\\\"MPG\\\":32.4,\\\"Cyl\\\":4,\\\"Disp\\\":78.7,\\\"HP\\\":66,\\\"DRat\\\":4.08,\\\"WT\\\":2.2,\\\"QSec\\\":19.47,\\\"VS\\\":1,\\\"AM\\\":1,\\\"Gear\\\":4,\\\"Carb\\\":1},{\\\"Model\\\":\\\"Honda Civic\\\",\\\"MPG\\\":30.4,\\\"Cyl\\\":4,\\\"Disp\\\":75.7,\\\"HP\\\":52,\\\"DRat\\\":4.93,\\\"WT\\\":1.615,\\\"QSec\\\":18.52,\\\"VS\\\":1,\\\"AM\\\":1,\\\"Gear\\\":4,\\\"Carb\\\":2},{\\\"Model\\\":\\\"Toyota Corolla\\\",\\\"MPG\\\":33.9,\\\"Cyl\\\":4,\\\"Disp\\\":71.1,\\\"HP\\\":65,\\\"DRat\\\":4.22,\\\"WT\\\":1.835,\\\"QSec\\\":19.9,\\\"VS\\\":1,\\\"AM\\\":1,\\\"Gear\\\":4,\\\"Carb\\\":1},{\\\"Model\\\":\\\"Toyota Corona\\\",\\\"MPG\\\":21.5,\\\"Cyl\\\":4,\\\"Disp\\\":120.1,\\\"HP\\\":97,\\\"DRat\\\":3.7,\\\"WT\\\":2.465,\\\"QSec\\\":20.01,\\\"VS\\\":1,\\\"AM\\\":0,\\\"Gear\\\":3,\\\"Carb\\\":1},{\\\"Model\\\":\\\"Dodge Challenger\\\",\\\"MPG\\\":15.5,\\\"Cyl\\\":8,\\\"Disp\\\":318.0,\\\"HP\\\":150,\\\"DRat\\\":2.76,\\\"WT\\\":3.52,\\\"QSec\\\":16.87,\\\"VS\\\":0,\\\"AM\\\":0,\\\"Gear\\\":3,\\\"Carb\\\":2},{\\\"Model\\\":\\\"AMC Javelin\\\",\\\"MPG\\\":15.2,\\\"Cyl\\\":8,\\\"Disp\\\":304.0,\\\"HP\\\":150,\\\"DRat\\\":3.15,\\\"WT\\\":3.435,\\\"QSec\\\":17.3,\\\"VS\\\":0,\\\"AM\\\":0,\\\"Gear\\\":3,\\\"Carb\\\":2},{\\\"Model\\\":\\\"Camaro Z28\\\",\\\"MPG\\\":13.3,\\\"Cyl\\\":8,\\\"Disp\\\":350.0,\\\"HP\\\":245,\\\"DRat\\\":3.73,\\\"WT\\\":3.84,\\\"QSec\\\":15.41,\\\"VS\\\":0,\\\"AM\\\":0,\\\"Gear\\\":3,\\\"Carb\\\":4},{\\\"Model\\\":\\\"Pontiac Firebird\\\",\\\"MPG\\\":19.2,\\\"Cyl\\\":8,\\\"Disp\\\":400.0,\\\"HP\\\":175,\\\"DRat\\\":3.08,\\\"WT\\\":3.845,\\\"QSec\\\":17.05,\\\"VS\\\":0,\\\"AM\\\":0,\\\"Gear\\\":3,\\\"Carb\\\":2},{\\\"Model\\\":\\\"Fiat X1-9\\\",\\\"MPG\\\":27.3,\\\"Cyl\\\":4,\\\"Disp\\\":79.0,\\\"HP\\\":66,\\\"DRat\\\":4.08,\\\"WT\\\":1.935,\\\"QSec\\\":18.9,\\\"VS\\\":1,\\\"AM\\\":1,\\\"Gear\\\":4,\\\"Carb\\\":1},{\\\"Model\\\":\\\"Porsche 914-2\\\",\\\"MPG\\\":26.0,\\\"Cyl\\\":4,\\\"Disp\\\":120.3,\\\"HP\\\":91,\\\"DRat\\\":4.43,\\\"WT\\\":2.14,\\\"QSec\\\":16.7,\\\"VS\\\":0,\\\"AM\\\":1,\\\"Gear\\\":5,\\\"Carb\\\":2},{\\\"Model\\\":\\\"Lotus Europa\\\",\\\"MPG\\\":30.4,\\\"Cyl\\\":4,\\\"Disp\\\":95.1,\\\"HP\\\":113,\\\"DRat\\\":3.77,\\\"WT\\\":1.513,\\\"QSec\\\":16.9,\\\"VS\\\":1,\\\"AM\\\":1,\\\"Gear\\\":5,\\\"Carb\\\":2},{\\\"Model\\\":\\\"Ford Pantera L\\\",\\\"MPG\\\":15.8,\\\"Cyl\\\":8,\\\"Disp\\\":351.0,\\\"HP\\\":264,\\\"DRat\\\":4.22,\\\"WT\\\":3.17,\\\"QSec\\\":14.5,\\\"VS\\\":0,\\\"AM\\\":1,\\\"Gear\\\":5,\\\"Carb\\\":4},{\\\"Model\\\":\\\"Ferrari Dino\\\",\\\"MPG\\\":19.7,\\\"Cyl\\\":6,\\\"Disp\\\":145.0,\\\"HP\\\":175,\\\"DRat\\\":3.62,\\\"WT\\\":2.77,\\\"QSec\\\":15.5,\\\"VS\\\":0,\\\"AM\\\":1,\\\"Gear\\\":5,\\\"Carb\\\":6},{\\\"Model\\\":\\\"Maserati Bora\\\",\\\"MPG\\\":15.0,\\\"Cyl\\\":8,\\\"Disp\\\":301.0,\\\"HP\\\":335,\\\"DRat\\\":3.54,\\\"WT\\\":3.57,\\\"QSec\\\":14.6,\\\"VS\\\":0,\\\"AM\\\":1,\\\"Gear\\\":5,\\\"Carb\\\":8},{\\\"Model\\\":\\\"Volvo 142E\\\",\\\"MPG\\\":21.4,\\\"Cyl\\\":4,\\\"Disp\\\":121.0,\\\"HP\\\":109,\\\"DRat\\\":4.11,\\\"WT\\\":2.78,\\\"QSec\\\":18.6,\\\"VS\\\":1,\\\"AM\\\":1,\\\"Gear\\\":4,\\\"Carb\\\":2}],\\\"onCellClicked\\\":(function (ev){var x={}; (ev.rowIndex!==undefined) ? (x[\\\"rowIndex\\\"]=(ev.rowIndex+1)) : undefined; (ev.colDef!==undefined) ? (x[\\\"column\\\"]=ev.colDef.headerName) : undefined; return WebIO.setval({\\\"name\\\":\\\"onCellClicked\\\",\\\"scope\\\":\\\"7222997505031353514\\\",\\\"id\\\":\\\"13239247674421108835\\\",\\\"type\\\":\\\"observable\\\"},x)})}; var el=document.getElementById(\\\"grid-69aaa63e\\\"); gridOptions.components={\\\"rowNumberRenderer\\\":RowNumberRenderer}; false ? (agGrid.LicenseManager.setLicenseKey(null)) : undefined; this.table=new agGrid.Grid(el,gridOptions); return gridOptions.columnApi.autoSizeAllColumns()}));\\n    (WebIO.importBlock({\\\"data\\\":[{\\\"name\\\":null,\\\"type\\\":\\\"js\\\",\\\"url\\\":\\\"/assetserver/cfbe2cd6a4064abde7a78efb133cab9dbffb187b-rowNumberRenderer.js\\\"},{\\\"name\\\":null,\\\"type\\\":\\\"js\\\",\\\"url\\\":\\\"/assetserver/c5d34e6d81403c2e519c47395d8bab8d495e3d3a-ag-grid.js\\\"},{\\\"name\\\":null,\\\"type\\\":\\\"css\\\",\\\"url\\\":\\\"/assetserver/6b237d310ed5ec529a481e04c9c1322569ba2f43-ag-grid.css\\\"},{\\\"name\\\":null,\\\"type\\\":\\\"css\\\",\\\"url\\\":\\\"/assetserver/7b998ef501665614f83a3e8d7950b4d6b1f160aa-ag-grid-light.css\\\"},{\\\"name\\\":null,\\\"type\\\":\\\"css\\\",\\\"url\\\":\\\"/assetserver/40bf534dde49df5e0be92084969afeff17403a02-ag-grid-dark.css\\\"}],\\\"type\\\":\\\"async_block\\\"})).then((imports) => handler.apply(this, imports));\\n}\\n\")])"
      ]
     },
     "execution_count": 3,
     "metadata": {
      "@webio": {
       "kernelId": "ed5ffd46-a4c1-435e-b272-bfb08df2c7d4"
      }
     },
     "output_type": "execute_result"
    }
   ],
   "source": [
    "showtable(mtcars, dark = true)"
   ]
  },
  {
   "cell_type": "markdown",
   "id": "computational-processing",
   "metadata": {},
   "source": [
    "## PyCall `itables`?\n",
    "I've also tried using `PyCall`, which runs, but I can't get the table to display."
   ]
  },
  {
   "cell_type": "code",
   "execution_count": 6,
   "id": "official-laser",
   "metadata": {},
   "outputs": [],
   "source": [
    "using PyCall\n",
    "\n",
    "py\"\"\"\n",
    "\n",
    "# example from the docs\n",
    "import itables \n",
    "import pandas as pd\n",
    "import numpy as np\n",
    "\n",
    "df = pd.DataFrame({\n",
    "    'cups_of_coffee': [0, 1, 2, 3, 4, 5, 6, 7, 8, 9],\n",
    "    'productivity': [2, 5, 6, 8, 9, 8, 0, 1, 0, -1]\n",
    "})\n",
    "df.transpose()\n",
    "\n",
    "\n",
    "itables.show(df)\n",
    "\n",
    "\"\"\"py"
   ]
  },
  {
   "cell_type": "markdown",
   "id": "ordered-equipment",
   "metadata": {},
   "source": [
    "## RCall"
   ]
  },
  {
   "cell_type": "code",
   "execution_count": 15,
   "id": "junior-macintosh",
   "metadata": {},
   "outputs": [
    {
     "data": {
      "text/plain": [
       "RObject{VecSxp}\n"
      ]
     },
     "execution_count": 15,
     "metadata": {},
     "output_type": "execute_result"
    }
   ],
   "source": [
    "using RCall\n",
    "\n",
    "R\"\n",
    "\n",
    "library(DT)\n",
    "x <- datatable(mtcars)\n",
    "\""
   ]
  },
  {
   "cell_type": "code",
   "execution_count": 18,
   "id": "downtown-teens",
   "metadata": {},
   "outputs": [
    {
     "data": {
      "text/plain": [
       "OrderedCollections.OrderedDict{Symbol, Any} with 8 entries:\n",
       "  :x             => OrderedCollections.OrderedDict{Symbol, Any}(:filter=>\"none\"…\n",
       "  :width         => nothing\n",
       "  :height        => nothing\n",
       "  :sizingPolicy  => OrderedCollections.OrderedDict{Symbol, Any}(:defaultWidth=>…\n",
       "  :dependencies  => Any[OrderedCollections.OrderedDict{Symbol, Any}(:name=>\"dt-…\n",
       "  :elementId     => nothing\n",
       "  :preRenderHook => #13\n",
       "  :jsHooks       => Any[]"
      ]
     },
     "execution_count": 18,
     "metadata": {},
     "output_type": "execute_result"
    }
   ],
   "source": [
    "@rget x"
   ]
  },
  {
   "cell_type": "code",
   "execution_count": null,
   "id": "certain-prescription",
   "metadata": {},
   "outputs": [],
   "source": []
  }
 ],
 "metadata": {
  "@webio": {
   "lastCommId": "42c254ab-1ecb-4880-a1a1-36c938ed496d",
   "lastKernelId": "ed5ffd46-a4c1-435e-b272-bfb08df2c7d4"
  },
  "kernelspec": {
   "display_name": "Julia 1.7.1",
   "language": "julia",
   "name": "julia-1.7"
  },
  "language_info": {
   "file_extension": ".jl",
   "mimetype": "application/julia",
   "name": "julia",
   "version": "1.7.1"
  }
 },
 "nbformat": 4,
 "nbformat_minor": 5
}
