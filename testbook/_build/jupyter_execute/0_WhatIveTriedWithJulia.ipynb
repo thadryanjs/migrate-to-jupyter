{
 "cells": [
  {
   "cell_type": "markdown",
   "id": "abecb851",
   "metadata": {},
   "source": [
    "# A Noble Quest for Interactive Tables in a Compiled Julia Book"
   ]
  },
  {
   "cell_type": "markdown",
   "id": "9e7d17ff",
   "metadata": {},
   "source": [
    "## What I've Tried So Far"
   ]
  },
  {
   "cell_type": "markdown",
   "id": "agricultural-triangle",
   "metadata": {},
   "source": [
    "### TableView\n",
    "\n",
    "[This](https://github.com/JuliaComputing/TableView.jl) works great in a live Jupyter lab or notebook. However, it doesn't persist when compiled into an HTML report."
   ]
  },
  {
   "cell_type": "code",
   "execution_count": 1,
   "id": "domestic-mediterranean",
   "metadata": {},
   "outputs": [
    {
     "data": {
      "application/vnd.webio.node+json": {
       "children": [],
       "instanceArgs": {
        "namespace": "html",
        "tag": "div"
       },
       "nodeType": "DOM",
       "props": {},
       "type": "node"
      },
      "text/html": [
       "<div style=\"padding: 1em; background-color: #f8d6da; border: 1px solid #f5c6cb; font-weight: bold;\">\n",
       "<p>The WebIO Jupyter extension was not detected. See the\n",
       "<a href=\"https://juliagizmos.github.io/WebIO.jl/latest/providers/ijulia/\" target=\"_blank\">\n",
       "    WebIO Jupyter integration documentation\n",
       "</a>\n",
       "for more information.\n",
       "</div>\n"
      ],
      "text/plain": [
       "WebIO._IJuliaInit()"
      ]
     },
     "metadata": {},
     "output_type": "display_data"
    }
   ],
   "source": [
    "using RDatasets\n",
    "using TableView\n",
    "\n",
    "mtcars = dataset(\"datasets\", \"mtcars\");\n",
    "showtable(mtcars, dark = true)"
   ]
  },
  {
   "cell_type": "markdown",
   "id": "unexpected-webster",
   "metadata": {},
   "source": [
    "### `PyCall` +  `itables`\n",
    "I've also tried using `PyCall`, which runs, but I can't get the table to display."
   ]
  },
  {
   "cell_type": "code",
   "execution_count": 7,
   "id": "palestinian-orchestra",
   "metadata": {},
   "outputs": [],
   "source": [
    "using PyCall\n",
    "\n",
    "py\"\"\"\n",
    "\n",
    "# example from the docs\n",
    "import itables \n",
    "import pandas as pd\n",
    "import numpy as np\n",
    "\n",
    "df = pd.DataFrame({\n",
    "    'cups_of_coffee': [0, 1, 2, 3, 4, 5, 6, 7, 8, 9],\n",
    "    'productivity': [2, 5, 6, 8, 9, 8, 0, 1, 0, -1]\n",
    "})\n",
    "\n",
    "itables.show(df)\n",
    "\n",
    "\"\"\"py"
   ]
  },
  {
   "cell_type": "markdown",
   "id": "45299879",
   "metadata": {},
   "source": [
    "This was probably a naive experiment that was doomed from the start but had to start somewhere. I imagine there is a type issue that prevents this from working."
   ]
  },
  {
   "cell_type": "markdown",
   "id": "adjusted-cornwall",
   "metadata": {},
   "source": [
    "### `RCall` + `DT`"
   ]
  },
  {
   "cell_type": "code",
   "execution_count": 8,
   "id": "maritime-preliminary",
   "metadata": {},
   "outputs": [
    {
     "data": {
      "text/plain": [
       "RObject{VecSxp}\n"
      ]
     },
     "metadata": {},
     "output_type": "display_data"
    }
   ],
   "source": [
    "using RCall\n",
    "\n",
    "R\"\n",
    "\n",
    "library(DT)\n",
    "x <- datatable(mtcars)\n",
    "\""
   ]
  },
  {
   "cell_type": "markdown",
   "id": "c1d45264",
   "metadata": {},
   "source": [
    "Retrieving this with `@rget ` brings back a `OrderedDict` of the data structure (fair enough!)."
   ]
  },
  {
   "cell_type": "code",
   "execution_count": 9,
   "id": "greatest-luxury",
   "metadata": {},
   "outputs": [
    {
     "data": {
      "text/plain": [
       "OrderedCollections.OrderedDict{Symbol, Any} with 8 entries:\n",
       "  :x             => OrderedCollections.OrderedDict{Symbol, Any}(:filter=>\"none\"…\n",
       "  :width         => nothing\n",
       "  :height        => nothing\n",
       "  :sizingPolicy  => OrderedCollections.OrderedDict{Symbol, Any}(:defaultWidth=>…\n",
       "  :dependencies  => Any[OrderedCollections.OrderedDict{Symbol, Any}(:name=>\"jqu…\n",
       "  :elementId     => nothing\n",
       "  :preRenderHook => #13\n",
       "  :jsHooks       => Any[]"
      ]
     },
     "metadata": {},
     "output_type": "display_data"
    }
   ],
   "source": [
    "@rget x"
   ]
  },
  {
   "cell_type": "markdown",
   "id": "38147cc1",
   "metadata": {},
   "source": [
    "### WebIO\n",
    "I am exploring the idea of using [WebIO]() to create my own version of `TableView` but I suspect this will get me right back where I started."
   ]
  },
  {
   "cell_type": "code",
   "execution_count": 14,
   "id": "infectious-plastic",
   "metadata": {},
   "outputs": [
    {
     "data": {
      "text/html": [
       "<div\n",
       "    class=\"webio-mountpoint\"\n",
       "    data-webio-mountpoint=\"9010852780773506540\"\n",
       ">\n",
       "    <script>\n",
       "    (function(){\n",
       "    // Some integrations (namely, IJulia/Jupyter) use an alternate render pathway than\n",
       "    // just putting the html on the page. If WebIO isn't defined, then it's pretty likely\n",
       "    // that we're in one of those situations and the integration just isn't installed\n",
       "    // correctly.\n",
       "    if (typeof window.WebIO === \"undefined\") {\n",
       "        document\n",
       "            .querySelector('[data-webio-mountpoint=\"9010852780773506540\"]')\n",
       "            .innerHTML = (\n",
       "                '<div style=\"padding: 1em; background-color: #f8d6da; border: 1px solid #f5c6cb; font-weight: bold;\">' +\n",
       "                '<p><strong>WebIO not detected.</strong></p>' +\n",
       "                '<p>Please read ' +\n",
       "                '<a href=\"https://juliagizmos.github.io/WebIO.jl/latest/troubleshooting/not-detected/\" target=\"_blank\">the troubleshooting guide</a> ' +\n",
       "                'for more information on how to resolve this issue.</p>' +\n",
       "                '<p><a href=\"https://juliagizmos.github.io/WebIO.jl/latest/troubleshooting/not-detected/\" target=\"_blank\">https://juliagizmos.github.io/WebIO.jl/latest/troubleshooting/not-detected/</a></p>' +\n",
       "                '</div>'\n",
       "            );\n",
       "        return;\n",
       "    }\n",
       "    WebIO.mount(\n",
       "        document.querySelector('[data-webio-mountpoint=\"9010852780773506540\"]'),\n",
       "        {\"props\":{},\"nodeType\":\"DOM\",\"type\":\"node\",\"instanceArgs\":{\"namespace\":\"html\",\"tag\":\"div\"},\"children\":[{\"props\":{\"class\":\"important\"},\"nodeType\":\"DOM\",\"type\":\"node\",\"instanceArgs\":{\"namespace\":\"html\",\"tag\":\"p\"},\"children\":[\"I am a paragraph!\"]}]},\n",
       "        window,\n",
       "    );\n",
       "    })()\n",
       "    </script>\n",
       "</div>\n"
      ],
      "text/plain": [
       "(div\n",
       "  (p { class=\"important\" }\n",
       "    \"I am a paragraph!\"))"
      ]
     },
     "metadata": {},
     "output_type": "display_data"
    }
   ],
   "source": [
    "using WebIO\n",
    "\n",
    "Node(:div, Node(:p, \"I am a paragraph!\", class=\"important\"))"
   ]
  }
 ],
 "metadata": {
  "@webio": {
   "lastCommId": "42c254ab-1ecb-4880-a1a1-36c938ed496d",
   "lastKernelId": "ed5ffd46-a4c1-435e-b272-bfb08df2c7d4"
  },
  "kernelspec": {
   "display_name": "Julia 1.7.1",
   "language": "julia",
   "name": "julia-1.7"
  },
  "language_info": {
   "file_extension": ".jl",
   "mimetype": "application/julia",
   "name": "julia",
   "version": "1.7.1"
  }
 },
 "nbformat": 4,
 "nbformat_minor": 5
}