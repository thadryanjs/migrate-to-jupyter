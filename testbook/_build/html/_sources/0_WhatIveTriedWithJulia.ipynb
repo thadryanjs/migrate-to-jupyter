{
 "cells": [
  {
   "cell_type": "markdown",
   "id": "abecb851",
   "metadata": {},
   "source": [
    "# A Noble Quest for Interactive Tables in a Compiled Julia Book"
   ]
  },
  {
   "cell_type": "markdown",
   "id": "9e7d17ff",
   "metadata": {},
   "source": [
    "## What I've Tried So Far"
   ]
  },
  {
   "cell_type": "markdown",
   "id": "agricultural-triangle",
   "metadata": {},
   "source": [
    "### TableView\n",
    "\n",
    "[This](https://github.com/JuliaComputing/TableView.jl) works great in a live Jupyter lab or notebook. However, it doesn't persist when compiled into an HTML report."
   ]
  },
  {
   "cell_type": "code",
   "execution_count": 6,
   "id": "domestic-mediterranean",
   "metadata": {},
   "outputs": [
    {
     "data": {
      "text/html": [
       "<div\n",
       "    class=\"webio-mountpoint\"\n",
       "    data-webio-mountpoint=\"8206928649670501055\"\n",
       ">\n",
       "    <script>\n",
       "    (function(){\n",
       "    // Some integrations (namely, IJulia/Jupyter) use an alternate render pathway than\n",
       "    // just putting the html on the page. If WebIO isn't defined, then it's pretty likely\n",
       "    // that we're in one of those situations and the integration just isn't installed\n",
       "    // correctly.\n",
       "    if (typeof window.WebIO === \"undefined\") {\n",
       "        document\n",
       "            .querySelector('[data-webio-mountpoint=\"8206928649670501055\"]')\n",
       "            .innerHTML = (\n",
       "                '<div style=\"padding: 1em; background-color: #f8d6da; border: 1px solid #f5c6cb; font-weight: bold;\">' +\n",
       "                '<p><strong>WebIO not detected.</strong></p>' +\n",
       "                '<p>Please read ' +\n",
       "                '<a href=\"https://juliagizmos.github.io/WebIO.jl/latest/troubleshooting/not-detected/\" target=\"_blank\">the troubleshooting guide</a> ' +\n",
       "                'for more information on how to resolve this issue.</p>' +\n",
       "                '<p><a href=\"https://juliagizmos.github.io/WebIO.jl/latest/troubleshooting/not-detected/\" target=\"_blank\">https://juliagizmos.github.io/WebIO.jl/latest/troubleshooting/not-detected/</a></p>' +\n",
       "                '</div>'\n",
       "            );\n",
       "        return;\n",
       "    }\n",
       "    WebIO.mount(\n",
       "        document.querySelector('[data-webio-mountpoint=\"8206928649670501055\"]'),\n",
       "        {\"props\":{},\"nodeType\":\"Scope\",\"type\":\"node\",\"instanceArgs\":{\"imports\":{\"data\":[{\"name\":null,\"type\":\"js\",\"url\":\"\\/assetserver\\/239ce0bf5f10b04d169b00c14b88d3c3d4c769e2-rowNumberRenderer.js\"},{\"name\":null,\"type\":\"js\",\"url\":\"\\/assetserver\\/81b15f99748cffe5838bc2bf09383ecb7811a78c-ag-grid.js\"},{\"name\":null,\"type\":\"css\",\"url\":\"\\/assetserver\\/c601a99071df44542dd7bd3b96f7f628e03d1d6d-ag-grid.css\"},{\"name\":null,\"type\":\"css\",\"url\":\"\\/assetserver\\/d87127469f3126e05295d0e76fa726aa66882732-ag-grid-light.css\"},{\"name\":null,\"type\":\"css\",\"url\":\"\\/assetserver\\/cd88f82fa34490a6f85d3201dba4b0dbc670013f-ag-grid-dark.css\"}],\"type\":\"async_block\"},\"id\":\"15671714659819107183\",\"handlers\":{},\"systemjs_options\":null,\"mount_callbacks\":[\"function () {\\n    var handler = ((function (RowNumberRenderer,agGrid){var gridOptions={\\\"onCellFocused\\\":(function (ev){var x={}; (ev.rowIndex!==undefined) ? (x[\\\"rowIndex\\\"]=(ev.rowIndex+1)) : undefined; (ev.colDef!==undefined) ? (x[\\\"column\\\"]=ev.colDef.headerName) : undefined; return WebIO.setval({\\\"name\\\":\\\"onCellFocused\\\",\\\"scope\\\":\\\"15671714659819107183\\\",\\\"id\\\":\\\"7980824706602097021\\\",\\\"type\\\":\\\"observable\\\"},x)}),\\\"onCellValueChanged\\\":(function (){return }),\\\"rowSelection\\\":\\\"multiple\\\",\\\"multiSortKey\\\":\\\"ctrl\\\",\\\"columnDefs\\\":[{\\\"filter\\\":false,\\\"editable\\\":false,\\\"headerTooltip\\\":\\\"\\\",\\\"field\\\":\\\"__row__\\\",\\\"headerName\\\":\\\"Row\\\",\\\"sortable\\\":true,\\\"type\\\":\\\"numericColumn\\\",\\\"cellRenderer\\\":\\\"rowNumberRenderer\\\",\\\"resizable\\\":true},{\\\"filter\\\":true,\\\"editable\\\":false,\\\"headerTooltip\\\":\\\"InlineStrings.String31\\\",\\\"field\\\":\\\"Model\\\",\\\"headerName\\\":\\\"Model\\\",\\\"sortable\\\":true,\\\"type\\\":null,\\\"resizable\\\":true},{\\\"filter\\\":\\\"agNumberColumnFilter\\\",\\\"editable\\\":false,\\\"headerTooltip\\\":\\\"Float64\\\",\\\"field\\\":\\\"MPG\\\",\\\"headerName\\\":\\\"MPG\\\",\\\"sortable\\\":true,\\\"type\\\":\\\"numericColumn\\\",\\\"resizable\\\":true},{\\\"filter\\\":\\\"agNumberColumnFilter\\\",\\\"editable\\\":false,\\\"headerTooltip\\\":\\\"Int64\\\",\\\"field\\\":\\\"Cyl\\\",\\\"headerName\\\":\\\"Cyl\\\",\\\"sortable\\\":true,\\\"type\\\":\\\"numericColumn\\\",\\\"resizable\\\":true},{\\\"filter\\\":\\\"agNumberColumnFilter\\\",\\\"editable\\\":false,\\\"headerTooltip\\\":\\\"Float64\\\",\\\"field\\\":\\\"Disp\\\",\\\"headerName\\\":\\\"Disp\\\",\\\"sortable\\\":true,\\\"type\\\":\\\"numericColumn\\\",\\\"resizable\\\":true},{\\\"filter\\\":\\\"agNumberColumnFilter\\\",\\\"editable\\\":false,\\\"headerTooltip\\\":\\\"Int64\\\",\\\"field\\\":\\\"HP\\\",\\\"headerName\\\":\\\"HP\\\",\\\"sortable\\\":true,\\\"type\\\":\\\"numericColumn\\\",\\\"resizable\\\":true},{\\\"filter\\\":\\\"agNumberColumnFilter\\\",\\\"editable\\\":false,\\\"headerTooltip\\\":\\\"Float64\\\",\\\"field\\\":\\\"DRat\\\",\\\"headerName\\\":\\\"DRat\\\",\\\"sortable\\\":true,\\\"type\\\":\\\"numericColumn\\\",\\\"resizable\\\":true},{\\\"filter\\\":\\\"agNumberColumnFilter\\\",\\\"editable\\\":false,\\\"headerTooltip\\\":\\\"Float64\\\",\\\"field\\\":\\\"WT\\\",\\\"headerName\\\":\\\"WT\\\",\\\"sortable\\\":true,\\\"type\\\":\\\"numericColumn\\\",\\\"resizable\\\":true},{\\\"filter\\\":\\\"agNumberColumnFilter\\\",\\\"editable\\\":false,\\\"headerTooltip\\\":\\\"Float64\\\",\\\"field\\\":\\\"QSec\\\",\\\"headerName\\\":\\\"QSec\\\",\\\"sortable\\\":true,\\\"type\\\":\\\"numericColumn\\\",\\\"resizable\\\":true},{\\\"filter\\\":\\\"agNumberColumnFilter\\\",\\\"editable\\\":false,\\\"headerTooltip\\\":\\\"Int64\\\",\\\"field\\\":\\\"VS\\\",\\\"headerName\\\":\\\"VS\\\",\\\"sortable\\\":true,\\\"type\\\":\\\"numericColumn\\\",\\\"resizable\\\":true},{\\\"filter\\\":\\\"agNumberColumnFilter\\\",\\\"editable\\\":false,\\\"headerTooltip\\\":\\\"Int64\\\",\\\"field\\\":\\\"AM\\\",\\\"headerName\\\":\\\"AM\\\",\\\"sortable\\\":true,\\\"type\\\":\\\"numericColumn\\\",\\\"resizable\\\":true},{\\\"filter\\\":\\\"agNumberColumnFilter\\\",\\\"editable\\\":false,\\\"headerTooltip\\\":\\\"Int64\\\",\\\"field\\\":\\\"Gear\\\",\\\"headerName\\\":\\\"Gear\\\",\\\"sortable\\\":true,\\\"type\\\":\\\"numericColumn\\\",\\\"resizable\\\":true},{\\\"filter\\\":\\\"agNumberColumnFilter\\\",\\\"editable\\\":false,\\\"headerTooltip\\\":\\\"Int64\\\",\\\"field\\\":\\\"Carb\\\",\\\"headerName\\\":\\\"Carb\\\",\\\"sortable\\\":true,\\\"type\\\":\\\"numericColumn\\\",\\\"resizable\\\":true}],\\\"onCellDoubleClicked\\\":(function (ev){var x={}; (ev.rowIndex!==undefined) ? (x[\\\"rowIndex\\\"]=(ev.rowIndex+1)) : undefined; (ev.colDef!==undefined) ? (x[\\\"column\\\"]=ev.colDef.headerName) : undefined; return WebIO.setval({\\\"name\\\":\\\"onCellDoubleClicked\\\",\\\"scope\\\":\\\"15671714659819107183\\\",\\\"id\\\":\\\"9686894719342749995\\\",\\\"type\\\":\\\"observable\\\"},x)}),\\\"onRowClicked\\\":(function (ev){var x={}; (ev.rowIndex!==undefined) ? (x[\\\"rowIndex\\\"]=(ev.rowIndex+1)) : undefined; (ev.colDef!==undefined) ? (x[\\\"column\\\"]=ev.colDef.headerName) : undefined; return WebIO.setval({\\\"name\\\":\\\"onRowClicked\\\",\\\"scope\\\":\\\"15671714659819107183\\\",\\\"id\\\":\\\"3354960520087672434\\\",\\\"type\\\":\\\"observable\\\"},x)}),\\\"onCellKeyDown\\\":(function (ev){var x={}; (ev.rowIndex!==undefined) ? (x[\\\"rowIndex\\\"]=(ev.rowIndex+1)) : undefined; (ev.colDef!==undefined) ? (x[\\\"column\\\"]=ev.colDef.headerName) : undefined; return WebIO.setval({\\\"name\\\":\\\"onCellKeyDown\\\",\\\"scope\\\":\\\"15671714659819107183\\\",\\\"id\\\":\\\"8620806417046113704\\\",\\\"type\\\":\\\"observable\\\"},x)}),\\\"rowData\\\":[{\\\"Model\\\":\\\"Mazda RX4\\\",\\\"MPG\\\":21.0,\\\"Cyl\\\":6,\\\"Disp\\\":160.0,\\\"HP\\\":110,\\\"DRat\\\":3.9,\\\"WT\\\":2.62,\\\"QSec\\\":16.46,\\\"VS\\\":0,\\\"AM\\\":1,\\\"Gear\\\":4,\\\"Carb\\\":4},{\\\"Model\\\":\\\"Mazda RX4 Wag\\\",\\\"MPG\\\":21.0,\\\"Cyl\\\":6,\\\"Disp\\\":160.0,\\\"HP\\\":110,\\\"DRat\\\":3.9,\\\"WT\\\":2.875,\\\"QSec\\\":17.02,\\\"VS\\\":0,\\\"AM\\\":1,\\\"Gear\\\":4,\\\"Carb\\\":4},{\\\"Model\\\":\\\"Datsun 710\\\",\\\"MPG\\\":22.8,\\\"Cyl\\\":4,\\\"Disp\\\":108.0,\\\"HP\\\":93,\\\"DRat\\\":3.85,\\\"WT\\\":2.32,\\\"QSec\\\":18.61,\\\"VS\\\":1,\\\"AM\\\":1,\\\"Gear\\\":4,\\\"Carb\\\":1},{\\\"Model\\\":\\\"Hornet 4 Drive\\\",\\\"MPG\\\":21.4,\\\"Cyl\\\":6,\\\"Disp\\\":258.0,\\\"HP\\\":110,\\\"DRat\\\":3.08,\\\"WT\\\":3.215,\\\"QSec\\\":19.44,\\\"VS\\\":1,\\\"AM\\\":0,\\\"Gear\\\":3,\\\"Carb\\\":1},{\\\"Model\\\":\\\"Hornet Sportabout\\\",\\\"MPG\\\":18.7,\\\"Cyl\\\":8,\\\"Disp\\\":360.0,\\\"HP\\\":175,\\\"DRat\\\":3.15,\\\"WT\\\":3.44,\\\"QSec\\\":17.02,\\\"VS\\\":0,\\\"AM\\\":0,\\\"Gear\\\":3,\\\"Carb\\\":2},{\\\"Model\\\":\\\"Valiant\\\",\\\"MPG\\\":18.1,\\\"Cyl\\\":6,\\\"Disp\\\":225.0,\\\"HP\\\":105,\\\"DRat\\\":2.76,\\\"WT\\\":3.46,\\\"QSec\\\":20.22,\\\"VS\\\":1,\\\"AM\\\":0,\\\"Gear\\\":3,\\\"Carb\\\":1},{\\\"Model\\\":\\\"Duster 360\\\",\\\"MPG\\\":14.3,\\\"Cyl\\\":8,\\\"Disp\\\":360.0,\\\"HP\\\":245,\\\"DRat\\\":3.21,\\\"WT\\\":3.57,\\\"QSec\\\":15.84,\\\"VS\\\":0,\\\"AM\\\":0,\\\"Gear\\\":3,\\\"Carb\\\":4},{\\\"Model\\\":\\\"Merc 240D\\\",\\\"MPG\\\":24.4,\\\"Cyl\\\":4,\\\"Disp\\\":146.7,\\\"HP\\\":62,\\\"DRat\\\":3.69,\\\"WT\\\":3.19,\\\"QSec\\\":20.0,\\\"VS\\\":1,\\\"AM\\\":0,\\\"Gear\\\":4,\\\"Carb\\\":2},{\\\"Model\\\":\\\"Merc 230\\\",\\\"MPG\\\":22.8,\\\"Cyl\\\":4,\\\"Disp\\\":140.8,\\\"HP\\\":95,\\\"DRat\\\":3.92,\\\"WT\\\":3.15,\\\"QSec\\\":22.9,\\\"VS\\\":1,\\\"AM\\\":0,\\\"Gear\\\":4,\\\"Carb\\\":2},{\\\"Model\\\":\\\"Merc 280\\\",\\\"MPG\\\":19.2,\\\"Cyl\\\":6,\\\"Disp\\\":167.6,\\\"HP\\\":123,\\\"DRat\\\":3.92,\\\"WT\\\":3.44,\\\"QSec\\\":18.3,\\\"VS\\\":1,\\\"AM\\\":0,\\\"Gear\\\":4,\\\"Carb\\\":4},{\\\"Model\\\":\\\"Merc 280C\\\",\\\"MPG\\\":17.8,\\\"Cyl\\\":6,\\\"Disp\\\":167.6,\\\"HP\\\":123,\\\"DRat\\\":3.92,\\\"WT\\\":3.44,\\\"QSec\\\":18.9,\\\"VS\\\":1,\\\"AM\\\":0,\\\"Gear\\\":4,\\\"Carb\\\":4},{\\\"Model\\\":\\\"Merc 450SE\\\",\\\"MPG\\\":16.4,\\\"Cyl\\\":8,\\\"Disp\\\":275.8,\\\"HP\\\":180,\\\"DRat\\\":3.07,\\\"WT\\\":4.07,\\\"QSec\\\":17.4,\\\"VS\\\":0,\\\"AM\\\":0,\\\"Gear\\\":3,\\\"Carb\\\":3},{\\\"Model\\\":\\\"Merc 450SL\\\",\\\"MPG\\\":17.3,\\\"Cyl\\\":8,\\\"Disp\\\":275.8,\\\"HP\\\":180,\\\"DRat\\\":3.07,\\\"WT\\\":3.73,\\\"QSec\\\":17.6,\\\"VS\\\":0,\\\"AM\\\":0,\\\"Gear\\\":3,\\\"Carb\\\":3},{\\\"Model\\\":\\\"Merc 450SLC\\\",\\\"MPG\\\":15.2,\\\"Cyl\\\":8,\\\"Disp\\\":275.8,\\\"HP\\\":180,\\\"DRat\\\":3.07,\\\"WT\\\":3.78,\\\"QSec\\\":18.0,\\\"VS\\\":0,\\\"AM\\\":0,\\\"Gear\\\":3,\\\"Carb\\\":3},{\\\"Model\\\":\\\"Cadillac Fleetwood\\\",\\\"MPG\\\":10.4,\\\"Cyl\\\":8,\\\"Disp\\\":472.0,\\\"HP\\\":205,\\\"DRat\\\":2.93,\\\"WT\\\":5.25,\\\"QSec\\\":17.98,\\\"VS\\\":0,\\\"AM\\\":0,\\\"Gear\\\":3,\\\"Carb\\\":4},{\\\"Model\\\":\\\"Lincoln Continental\\\",\\\"MPG\\\":10.4,\\\"Cyl\\\":8,\\\"Disp\\\":460.0,\\\"HP\\\":215,\\\"DRat\\\":3.0,\\\"WT\\\":5.424,\\\"QSec\\\":17.82,\\\"VS\\\":0,\\\"AM\\\":0,\\\"Gear\\\":3,\\\"Carb\\\":4},{\\\"Model\\\":\\\"Chrysler Imperial\\\",\\\"MPG\\\":14.7,\\\"Cyl\\\":8,\\\"Disp\\\":440.0,\\\"HP\\\":230,\\\"DRat\\\":3.23,\\\"WT\\\":5.345,\\\"QSec\\\":17.42,\\\"VS\\\":0,\\\"AM\\\":0,\\\"Gear\\\":3,\\\"Carb\\\":4},{\\\"Model\\\":\\\"Fiat 128\\\",\\\"MPG\\\":32.4,\\\"Cyl\\\":4,\\\"Disp\\\":78.7,\\\"HP\\\":66,\\\"DRat\\\":4.08,\\\"WT\\\":2.2,\\\"QSec\\\":19.47,\\\"VS\\\":1,\\\"AM\\\":1,\\\"Gear\\\":4,\\\"Carb\\\":1},{\\\"Model\\\":\\\"Honda Civic\\\",\\\"MPG\\\":30.4,\\\"Cyl\\\":4,\\\"Disp\\\":75.7,\\\"HP\\\":52,\\\"DRat\\\":4.93,\\\"WT\\\":1.615,\\\"QSec\\\":18.52,\\\"VS\\\":1,\\\"AM\\\":1,\\\"Gear\\\":4,\\\"Carb\\\":2},{\\\"Model\\\":\\\"Toyota Corolla\\\",\\\"MPG\\\":33.9,\\\"Cyl\\\":4,\\\"Disp\\\":71.1,\\\"HP\\\":65,\\\"DRat\\\":4.22,\\\"WT\\\":1.835,\\\"QSec\\\":19.9,\\\"VS\\\":1,\\\"AM\\\":1,\\\"Gear\\\":4,\\\"Carb\\\":1},{\\\"Model\\\":\\\"Toyota Corona\\\",\\\"MPG\\\":21.5,\\\"Cyl\\\":4,\\\"Disp\\\":120.1,\\\"HP\\\":97,\\\"DRat\\\":3.7,\\\"WT\\\":2.465,\\\"QSec\\\":20.01,\\\"VS\\\":1,\\\"AM\\\":0,\\\"Gear\\\":3,\\\"Carb\\\":1},{\\\"Model\\\":\\\"Dodge Challenger\\\",\\\"MPG\\\":15.5,\\\"Cyl\\\":8,\\\"Disp\\\":318.0,\\\"HP\\\":150,\\\"DRat\\\":2.76,\\\"WT\\\":3.52,\\\"QSec\\\":16.87,\\\"VS\\\":0,\\\"AM\\\":0,\\\"Gear\\\":3,\\\"Carb\\\":2},{\\\"Model\\\":\\\"AMC Javelin\\\",\\\"MPG\\\":15.2,\\\"Cyl\\\":8,\\\"Disp\\\":304.0,\\\"HP\\\":150,\\\"DRat\\\":3.15,\\\"WT\\\":3.435,\\\"QSec\\\":17.3,\\\"VS\\\":0,\\\"AM\\\":0,\\\"Gear\\\":3,\\\"Carb\\\":2},{\\\"Model\\\":\\\"Camaro Z28\\\",\\\"MPG\\\":13.3,\\\"Cyl\\\":8,\\\"Disp\\\":350.0,\\\"HP\\\":245,\\\"DRat\\\":3.73,\\\"WT\\\":3.84,\\\"QSec\\\":15.41,\\\"VS\\\":0,\\\"AM\\\":0,\\\"Gear\\\":3,\\\"Carb\\\":4},{\\\"Model\\\":\\\"Pontiac Firebird\\\",\\\"MPG\\\":19.2,\\\"Cyl\\\":8,\\\"Disp\\\":400.0,\\\"HP\\\":175,\\\"DRat\\\":3.08,\\\"WT\\\":3.845,\\\"QSec\\\":17.05,\\\"VS\\\":0,\\\"AM\\\":0,\\\"Gear\\\":3,\\\"Carb\\\":2},{\\\"Model\\\":\\\"Fiat X1-9\\\",\\\"MPG\\\":27.3,\\\"Cyl\\\":4,\\\"Disp\\\":79.0,\\\"HP\\\":66,\\\"DRat\\\":4.08,\\\"WT\\\":1.935,\\\"QSec\\\":18.9,\\\"VS\\\":1,\\\"AM\\\":1,\\\"Gear\\\":4,\\\"Carb\\\":1},{\\\"Model\\\":\\\"Porsche 914-2\\\",\\\"MPG\\\":26.0,\\\"Cyl\\\":4,\\\"Disp\\\":120.3,\\\"HP\\\":91,\\\"DRat\\\":4.43,\\\"WT\\\":2.14,\\\"QSec\\\":16.7,\\\"VS\\\":0,\\\"AM\\\":1,\\\"Gear\\\":5,\\\"Carb\\\":2},{\\\"Model\\\":\\\"Lotus Europa\\\",\\\"MPG\\\":30.4,\\\"Cyl\\\":4,\\\"Disp\\\":95.1,\\\"HP\\\":113,\\\"DRat\\\":3.77,\\\"WT\\\":1.513,\\\"QSec\\\":16.9,\\\"VS\\\":1,\\\"AM\\\":1,\\\"Gear\\\":5,\\\"Carb\\\":2},{\\\"Model\\\":\\\"Ford Pantera L\\\",\\\"MPG\\\":15.8,\\\"Cyl\\\":8,\\\"Disp\\\":351.0,\\\"HP\\\":264,\\\"DRat\\\":4.22,\\\"WT\\\":3.17,\\\"QSec\\\":14.5,\\\"VS\\\":0,\\\"AM\\\":1,\\\"Gear\\\":5,\\\"Carb\\\":4},{\\\"Model\\\":\\\"Ferrari Dino\\\",\\\"MPG\\\":19.7,\\\"Cyl\\\":6,\\\"Disp\\\":145.0,\\\"HP\\\":175,\\\"DRat\\\":3.62,\\\"WT\\\":2.77,\\\"QSec\\\":15.5,\\\"VS\\\":0,\\\"AM\\\":1,\\\"Gear\\\":5,\\\"Carb\\\":6},{\\\"Model\\\":\\\"Maserati Bora\\\",\\\"MPG\\\":15.0,\\\"Cyl\\\":8,\\\"Disp\\\":301.0,\\\"HP\\\":335,\\\"DRat\\\":3.54,\\\"WT\\\":3.57,\\\"QSec\\\":14.6,\\\"VS\\\":0,\\\"AM\\\":1,\\\"Gear\\\":5,\\\"Carb\\\":8},{\\\"Model\\\":\\\"Volvo 142E\\\",\\\"MPG\\\":21.4,\\\"Cyl\\\":4,\\\"Disp\\\":121.0,\\\"HP\\\":109,\\\"DRat\\\":4.11,\\\"WT\\\":2.78,\\\"QSec\\\":18.6,\\\"VS\\\":1,\\\"AM\\\":1,\\\"Gear\\\":4,\\\"Carb\\\":2}],\\\"onCellClicked\\\":(function (ev){var x={}; (ev.rowIndex!==undefined) ? (x[\\\"rowIndex\\\"]=(ev.rowIndex+1)) : undefined; (ev.colDef!==undefined) ? (x[\\\"column\\\"]=ev.colDef.headerName) : undefined; return WebIO.setval({\\\"name\\\":\\\"onCellClicked\\\",\\\"scope\\\":\\\"15671714659819107183\\\",\\\"id\\\":\\\"6178989099370431865\\\",\\\"type\\\":\\\"observable\\\"},x)})}; var el=document.getElementById(\\\"grid-4039271c\\\"); gridOptions.components={\\\"rowNumberRenderer\\\":RowNumberRenderer}; false ? (agGrid.LicenseManager.setLicenseKey(null)) : undefined; this.table=new agGrid.Grid(el,gridOptions); return gridOptions.columnApi.autoSizeAllColumns()}));\\n    (WebIO.importBlock({\\\"data\\\":[{\\\"name\\\":null,\\\"type\\\":\\\"js\\\",\\\"url\\\":\\\"\\/assetserver\\/239ce0bf5f10b04d169b00c14b88d3c3d4c769e2-rowNumberRenderer.js\\\"},{\\\"name\\\":null,\\\"type\\\":\\\"js\\\",\\\"url\\\":\\\"\\/assetserver\\/81b15f99748cffe5838bc2bf09383ecb7811a78c-ag-grid.js\\\"},{\\\"name\\\":null,\\\"type\\\":\\\"css\\\",\\\"url\\\":\\\"\\/assetserver\\/c601a99071df44542dd7bd3b96f7f628e03d1d6d-ag-grid.css\\\"},{\\\"name\\\":null,\\\"type\\\":\\\"css\\\",\\\"url\\\":\\\"\\/assetserver\\/d87127469f3126e05295d0e76fa726aa66882732-ag-grid-light.css\\\"},{\\\"name\\\":null,\\\"type\\\":\\\"css\\\",\\\"url\\\":\\\"\\/assetserver\\/cd88f82fa34490a6f85d3201dba4b0dbc670013f-ag-grid-dark.css\\\"}],\\\"type\\\":\\\"async_block\\\"})).then((imports) => handler.apply(this, imports));\\n}\\n\"],\"observables\":{\"onCellKeyDown\":{\"sync\":false,\"id\":\"8620806417046113704\",\"value\":null},\"onRowClicked\":{\"sync\":false,\"id\":\"3354960520087672434\",\"value\":null},\"onCellDoubleClicked\":{\"sync\":false,\"id\":\"9686894719342749995\",\"value\":null},\"onCellClicked\":{\"sync\":false,\"id\":\"6178989099370431865\",\"value\":null},\"onCellFocused\":{\"sync\":false,\"id\":\"7980824706602097021\",\"value\":null}}},\"children\":[{\"props\":{},\"nodeType\":\"DOM\",\"type\":\"node\",\"instanceArgs\":{\"namespace\":\"html\",\"tag\":\"div\"},\"children\":[{\"props\":{\"style\":{\"height\":\"0\",\"padding\":\"0\",\"background-color\":\"#1c1f20\",\"color\":\"#F5F7F7\",\"font-family\":\"-apple-system, BlinkMacSystemFont, \\\"Segoe UI\\\", Roboto, Oxygen-Sans, Ubuntu, Cantarell, \\\"Helvetica Neue\\\", sans-serif\"}},\"nodeType\":\"DOM\",\"type\":\"node\",\"instanceArgs\":{\"namespace\":\"html\",\"tag\":\"div\"},\"children\":[\"\"]},{\"props\":{\"id\":\"grid-4039271c\",\"className\":\"ag-theme-balham-dark\",\"style\":{\"height\":\"500px\",\"width\":\"100%\"}},\"nodeType\":\"DOM\",\"type\":\"node\",\"instanceArgs\":{\"namespace\":\"html\",\"tag\":\"div\"},\"children\":[]}]}]},\n",
       "        window,\n",
       "    );\n",
       "    })()\n",
       "    </script>\n",
       "</div>\n"
      ],
      "text/plain": [
       "WebIO.Scope(WebIO.Node{WebIO.DOM}(WebIO.DOM(:html, :div), Any[WebIO.Node{WebIO.DOM}(WebIO.DOM(:html, :div), Any[\"\"], Dict{Symbol, Any}(:style => Dict(\"height\" => \"0\", \"padding\" => \"0\", \"background-color\" => \"#1c1f20\", \"color\" => \"#F5F7F7\", \"font-family\" => \"-apple-system, BlinkMacSystemFont, \\\"Segoe UI\\\", Roboto, Oxygen-Sans, Ubuntu, Cantarell, \\\"Helvetica Neue\\\", sans-serif\"))), WebIO.Node{WebIO.DOM}(WebIO.DOM(:html, :div), Any[], Dict{Symbol, Any}(:id => \"grid-4039271c\", :className => \"ag-theme-balham-dark\", :style => Dict(\"height\" => \"500px\", \"width\" => \"100%\")))], Dict{Symbol, Any}()), Dict{String, Tuple{Observables.AbstractObservable, Union{Nothing, Bool}}}(\"onCellKeyDown\" => (Observable{Any} with 0 listeners. Value:\n",
       "nothing, nothing), \"onRowClicked\" => (Observable{Any} with 0 listeners. Value:\n",
       "nothing, nothing), \"onCellDoubleClicked\" => (Observable{Any} with 0 listeners. Value:\n",
       "nothing, nothing), \"onCellClicked\" => (Observable{Any} with 0 listeners. Value:\n",
       "nothing, nothing), \"onCellFocused\" => (Observable{Any} with 0 listeners. Value:\n",
       "nothing, nothing)), Set{String}(), nothing, WebIO.Asset[WebIO.Asset(\"js\", nothing, \"/home/thadryan/.julia/packages/TableView/CaHPi/src/rowNumberRenderer.js\"), WebIO.Asset(\"js\", nothing, \"/home/thadryan/.julia/packages/TableView/CaHPi/deps/ag-grid-25.2.0/ag-grid.js\"), WebIO.Asset(\"css\", nothing, \"/home/thadryan/.julia/packages/TableView/CaHPi/deps/ag-grid-25.2.0/ag-grid.css\"), WebIO.Asset(\"css\", nothing, \"/home/thadryan/.julia/packages/TableView/CaHPi/deps/ag-grid-25.2.0/ag-grid-light.css\"), WebIO.Asset(\"css\", nothing, \"/home/thadryan/.julia/packages/TableView/CaHPi/deps/ag-grid-25.2.0/ag-grid-dark.css\")], Dict{Any, Any}(), WebIO.ConnectionPool(Channel{Any}(32), Set{WebIO.AbstractConnection}(), Condition(Base.InvasiveLinkedList{Task}(Task (runnable) @0x00007f1bd5f64b90, Task (runnable) @0x00007f1bd5f64b90), Base.AlwaysLockedST(1))), WebIO.JSString[WebIO.JSString(\"function () {\\n    var handler = ((function (RowNumberRenderer,agGrid){var gridOptions={\\\"onCellFocused\\\":(function (ev){var x={}; (ev.rowIndex!==undefined) ? (x[\\\"rowIndex\\\"]=(ev.rowIndex+1)) : undefined; (ev.colDef!==undefined) ? (x[\\\"column\\\"]=ev.colDef.headerName) : undefined; return WebIO.setval({\\\"name\\\":\\\"onCellFocused\\\",\\\"scope\\\":\\\"15671714659819107183\\\",\\\"id\\\":\\\"7980824706602097021\\\",\\\"type\\\":\\\"observable\\\"},x)}),\\\"onCellValueChanged\\\":(function (){return }),\\\"rowSelection\\\":\\\"multiple\\\",\\\"multiSortKey\\\":\\\"ctrl\\\",\\\"columnDefs\\\":[{\\\"filter\\\":false,\\\"editable\\\":false,\\\"headerTooltip\\\":\\\"\\\",\\\"field\\\":\\\"__row__\\\",\\\"headerName\\\":\\\"Row\\\",\\\"sortable\\\":true,\\\"type\\\":\\\"numericColumn\\\",\\\"cellRenderer\\\":\\\"rowNumberRenderer\\\",\\\"resizable\\\":true},{\\\"filter\\\":true,\\\"editable\\\":false,\\\"headerTooltip\\\":\\\"InlineStrings.String31\\\",\\\"field\\\":\\\"Model\\\",\\\"headerName\\\":\\\"Model\\\",\\\"sortable\\\":true,\\\"type\\\":null,\\\"resizable\\\":true},{\\\"filter\\\":\\\"agNumberColumnFilter\\\",\\\"editable\\\":false,\\\"headerTooltip\\\":\\\"Float64\\\",\\\"field\\\":\\\"MPG\\\",\\\"headerName\\\":\\\"MPG\\\",\\\"sortable\\\":true,\\\"type\\\":\\\"numericColumn\\\",\\\"resizable\\\":true},{\\\"filter\\\":\\\"agNumberColumnFilter\\\",\\\"editable\\\":false,\\\"headerTooltip\\\":\\\"Int64\\\",\\\"field\\\":\\\"Cyl\\\",\\\"headerName\\\":\\\"Cyl\\\",\\\"sortable\\\":true,\\\"type\\\":\\\"numericColumn\\\",\\\"resizable\\\":true},{\\\"filter\\\":\\\"agNumberColumnFilter\\\",\\\"editable\\\":false,\\\"headerTooltip\\\":\\\"Float64\\\",\\\"field\\\":\\\"Disp\\\",\\\"headerName\\\":\\\"Disp\\\",\\\"sortable\\\":true,\\\"type\\\":\\\"numericColumn\\\",\\\"resizable\\\":true},{\\\"filter\\\":\\\"agNumberColumnFilter\\\",\\\"editable\\\":false,\\\"headerTooltip\\\":\\\"Int64\\\",\\\"field\\\":\\\"HP\\\",\\\"headerName\\\":\\\"HP\\\",\\\"sortable\\\":true,\\\"type\\\":\\\"numericColumn\\\",\\\"resizable\\\":true},{\\\"filter\\\":\\\"agNumberColumnFilter\\\",\\\"editable\\\":false,\\\"headerTooltip\\\":\\\"Float64\\\",\\\"field\\\":\\\"DRat\\\",\\\"headerName\\\":\\\"DRat\\\",\\\"sortable\\\":true,\\\"type\\\":\\\"numericColumn\\\",\\\"resizable\\\":true},{\\\"filter\\\":\\\"agNumberColumnFilter\\\",\\\"editable\\\":false,\\\"headerTooltip\\\":\\\"Float64\\\",\\\"field\\\":\\\"WT\\\",\\\"headerName\\\":\\\"WT\\\",\\\"sortable\\\":true,\\\"type\\\":\\\"numericColumn\\\",\\\"resizable\\\":true},{\\\"filter\\\":\\\"agNumberColumnFilter\\\",\\\"editable\\\":false,\\\"headerTooltip\\\":\\\"Float64\\\",\\\"field\\\":\\\"QSec\\\",\\\"headerName\\\":\\\"QSec\\\",\\\"sortable\\\":true,\\\"type\\\":\\\"numericColumn\\\",\\\"resizable\\\":true},{\\\"filter\\\":\\\"agNumberColumnFilter\\\",\\\"editable\\\":false,\\\"headerTooltip\\\":\\\"Int64\\\",\\\"field\\\":\\\"VS\\\",\\\"headerName\\\":\\\"VS\\\",\\\"sortable\\\":true,\\\"type\\\":\\\"numericColumn\\\",\\\"resizable\\\":true},{\\\"filter\\\":\\\"agNumberColumnFilter\\\",\\\"editable\\\":false,\\\"headerTooltip\\\":\\\"Int64\\\",\\\"field\\\":\\\"AM\\\",\\\"headerName\\\":\\\"AM\\\",\\\"sortable\\\":true,\\\"type\\\":\\\"numericColumn\\\",\\\"resizable\\\":true},{\\\"filter\\\":\\\"agNumberColumnFilter\\\",\\\"editable\\\":false,\\\"headerTooltip\\\":\\\"Int64\\\",\\\"field\\\":\\\"Gear\\\",\\\"headerName\\\":\\\"Gear\\\",\\\"sortable\\\":true,\\\"type\\\":\\\"numericColumn\\\",\\\"resizable\\\":true},{\\\"filter\\\":\\\"agNumberColumnFilter\\\",\\\"editable\\\":false,\\\"headerTooltip\\\":\\\"Int64\\\",\\\"field\\\":\\\"Carb\\\",\\\"headerName\\\":\\\"Carb\\\",\\\"sortable\\\":true,\\\"type\\\":\\\"numericColumn\\\",\\\"resizable\\\":true}],\\\"onCellDoubleClicked\\\":(function (ev){var x={}; (ev.rowIndex!==undefined) ? (x[\\\"rowIndex\\\"]=(ev.rowIndex+1)) : undefined; (ev.colDef!==undefined) ? (x[\\\"column\\\"]=ev.colDef.headerName) : undefined; return WebIO.setval({\\\"name\\\":\\\"onCellDoubleClicked\\\",\\\"scope\\\":\\\"15671714659819107183\\\",\\\"id\\\":\\\"9686894719342749995\\\",\\\"type\\\":\\\"observable\\\"},x)}),\\\"onRowClicked\\\":(function (ev){var x={}; (ev.rowIndex!==undefined) ? (x[\\\"rowIndex\\\"]=(ev.rowIndex+1)) : undefined; (ev.colDef!==undefined) ? (x[\\\"column\\\"]=ev.colDef.headerName) : undefined; return WebIO.setval({\\\"name\\\":\\\"onRowClicked\\\",\\\"scope\\\":\\\"15671714659819107183\\\",\\\"id\\\":\\\"3354960520087672434\\\",\\\"type\\\":\\\"observable\\\"},x)}),\\\"onCellKeyDown\\\":(function (ev){var x={}; (ev.rowIndex!==undefined) ? (x[\\\"rowIndex\\\"]=(ev.rowIndex+1)) : undefined; (ev.colDef!==undefined) ? (x[\\\"column\\\"]=ev.colDef.headerName) : undefined; return WebIO.setval({\\\"name\\\":\\\"onCellKeyDown\\\",\\\"scope\\\":\\\"15671714659819107183\\\",\\\"id\\\":\\\"8620806417046113704\\\",\\\"type\\\":\\\"observable\\\"},x)}),\\\"rowData\\\":[{\\\"Model\\\":\\\"Mazda RX4\\\",\\\"MPG\\\":21.0,\\\"Cyl\\\":6,\\\"Disp\\\":160.0,\\\"HP\\\":110,\\\"DRat\\\":3.9,\\\"WT\\\":2.62,\\\"QSec\\\":16.46,\\\"VS\\\":0,\\\"AM\\\":1,\\\"Gear\\\":4,\\\"Carb\\\":4},{\\\"Model\\\":\\\"Mazda RX4 Wag\\\",\\\"MPG\\\":21.0,\\\"Cyl\\\":6,\\\"Disp\\\":160.0,\\\"HP\\\":110,\\\"DRat\\\":3.9,\\\"WT\\\":2.875,\\\"QSec\\\":17.02,\\\"VS\\\":0,\\\"AM\\\":1,\\\"Gear\\\":4,\\\"Carb\\\":4},{\\\"Model\\\":\\\"Datsun 710\\\",\\\"MPG\\\":22.8,\\\"Cyl\\\":4,\\\"Disp\\\":108.0,\\\"HP\\\":93,\\\"DRat\\\":3.85,\\\"WT\\\":2.32,\\\"QSec\\\":18.61,\\\"VS\\\":1,\\\"AM\\\":1,\\\"Gear\\\":4,\\\"Carb\\\":1},{\\\"Model\\\":\\\"Hornet 4 Drive\\\",\\\"MPG\\\":21.4,\\\"Cyl\\\":6,\\\"Disp\\\":258.0,\\\"HP\\\":110,\\\"DRat\\\":3.08,\\\"WT\\\":3.215,\\\"QSec\\\":19.44,\\\"VS\\\":1,\\\"AM\\\":0,\\\"Gear\\\":3,\\\"Carb\\\":1},{\\\"Model\\\":\\\"Hornet Sportabout\\\",\\\"MPG\\\":18.7,\\\"Cyl\\\":8,\\\"Disp\\\":360.0,\\\"HP\\\":175,\\\"DRat\\\":3.15,\\\"WT\\\":3.44,\\\"QSec\\\":17.02,\\\"VS\\\":0,\\\"AM\\\":0,\\\"Gear\\\":3,\\\"Carb\\\":2},{\\\"Model\\\":\\\"Valiant\\\",\\\"MPG\\\":18.1,\\\"Cyl\\\":6,\\\"Disp\\\":225.0,\\\"HP\\\":105,\\\"DRat\\\":2.76,\\\"WT\\\":3.46,\\\"QSec\\\":20.22,\\\"VS\\\":1,\\\"AM\\\":0,\\\"Gear\\\":3,\\\"Carb\\\":1},{\\\"Model\\\":\\\"Duster 360\\\",\\\"MPG\\\":14.3,\\\"Cyl\\\":8,\\\"Disp\\\":360.0,\\\"HP\\\":245,\\\"DRat\\\":3.21,\\\"WT\\\":3.57,\\\"QSec\\\":15.84,\\\"VS\\\":0,\\\"AM\\\":0,\\\"Gear\\\":3,\\\"Carb\\\":4},{\\\"Model\\\":\\\"Merc 240D\\\",\\\"MPG\\\":24.4,\\\"Cyl\\\":4,\\\"Disp\\\":146.7,\\\"HP\\\":62,\\\"DRat\\\":3.69,\\\"WT\\\":3.19,\\\"QSec\\\":20.0,\\\"VS\\\":1,\\\"AM\\\":0,\\\"Gear\\\":4,\\\"Carb\\\":2},{\\\"Model\\\":\\\"Merc 230\\\",\\\"MPG\\\":22.8,\\\"Cyl\\\":4,\\\"Disp\\\":140.8,\\\"HP\\\":95,\\\"DRat\\\":3.92,\\\"WT\\\":3.15,\\\"QSec\\\":22.9,\\\"VS\\\":1,\\\"AM\\\":0,\\\"Gear\\\":4,\\\"Carb\\\":2},{\\\"Model\\\":\\\"Merc 280\\\",\\\"MPG\\\":19.2,\\\"Cyl\\\":6,\\\"Disp\\\":167.6,\\\"HP\\\":123,\\\"DRat\\\":3.92,\\\"WT\\\":3.44,\\\"QSec\\\":18.3,\\\"VS\\\":1,\\\"AM\\\":0,\\\"Gear\\\":4,\\\"Carb\\\":4},{\\\"Model\\\":\\\"Merc 280C\\\",\\\"MPG\\\":17.8,\\\"Cyl\\\":6,\\\"Disp\\\":167.6,\\\"HP\\\":123,\\\"DRat\\\":3.92,\\\"WT\\\":3.44,\\\"QSec\\\":18.9,\\\"VS\\\":1,\\\"AM\\\":0,\\\"Gear\\\":4,\\\"Carb\\\":4},{\\\"Model\\\":\\\"Merc 450SE\\\",\\\"MPG\\\":16.4,\\\"Cyl\\\":8,\\\"Disp\\\":275.8,\\\"HP\\\":180,\\\"DRat\\\":3.07,\\\"WT\\\":4.07,\\\"QSec\\\":17.4,\\\"VS\\\":0,\\\"AM\\\":0,\\\"Gear\\\":3,\\\"Carb\\\":3},{\\\"Model\\\":\\\"Merc 450SL\\\",\\\"MPG\\\":17.3,\\\"Cyl\\\":8,\\\"Disp\\\":275.8,\\\"HP\\\":180,\\\"DRat\\\":3.07,\\\"WT\\\":3.73,\\\"QSec\\\":17.6,\\\"VS\\\":0,\\\"AM\\\":0,\\\"Gear\\\":3,\\\"Carb\\\":3},{\\\"Model\\\":\\\"Merc 450SLC\\\",\\\"MPG\\\":15.2,\\\"Cyl\\\":8,\\\"Disp\\\":275.8,\\\"HP\\\":180,\\\"DRat\\\":3.07,\\\"WT\\\":3.78,\\\"QSec\\\":18.0,\\\"VS\\\":0,\\\"AM\\\":0,\\\"Gear\\\":3,\\\"Carb\\\":3},{\\\"Model\\\":\\\"Cadillac Fleetwood\\\",\\\"MPG\\\":10.4,\\\"Cyl\\\":8,\\\"Disp\\\":472.0,\\\"HP\\\":205,\\\"DRat\\\":2.93,\\\"WT\\\":5.25,\\\"QSec\\\":17.98,\\\"VS\\\":0,\\\"AM\\\":0,\\\"Gear\\\":3,\\\"Carb\\\":4},{\\\"Model\\\":\\\"Lincoln Continental\\\",\\\"MPG\\\":10.4,\\\"Cyl\\\":8,\\\"Disp\\\":460.0,\\\"HP\\\":215,\\\"DRat\\\":3.0,\\\"WT\\\":5.424,\\\"QSec\\\":17.82,\\\"VS\\\":0,\\\"AM\\\":0,\\\"Gear\\\":3,\\\"Carb\\\":4},{\\\"Model\\\":\\\"Chrysler Imperial\\\",\\\"MPG\\\":14.7,\\\"Cyl\\\":8,\\\"Disp\\\":440.0,\\\"HP\\\":230,\\\"DRat\\\":3.23,\\\"WT\\\":5.345,\\\"QSec\\\":17.42,\\\"VS\\\":0,\\\"AM\\\":0,\\\"Gear\\\":3,\\\"Carb\\\":4},{\\\"Model\\\":\\\"Fiat 128\\\",\\\"MPG\\\":32.4,\\\"Cyl\\\":4,\\\"Disp\\\":78.7,\\\"HP\\\":66,\\\"DRat\\\":4.08,\\\"WT\\\":2.2,\\\"QSec\\\":19.47,\\\"VS\\\":1,\\\"AM\\\":1,\\\"Gear\\\":4,\\\"Carb\\\":1},{\\\"Model\\\":\\\"Honda Civic\\\",\\\"MPG\\\":30.4,\\\"Cyl\\\":4,\\\"Disp\\\":75.7,\\\"HP\\\":52,\\\"DRat\\\":4.93,\\\"WT\\\":1.615,\\\"QSec\\\":18.52,\\\"VS\\\":1,\\\"AM\\\":1,\\\"Gear\\\":4,\\\"Carb\\\":2},{\\\"Model\\\":\\\"Toyota Corolla\\\",\\\"MPG\\\":33.9,\\\"Cyl\\\":4,\\\"Disp\\\":71.1,\\\"HP\\\":65,\\\"DRat\\\":4.22,\\\"WT\\\":1.835,\\\"QSec\\\":19.9,\\\"VS\\\":1,\\\"AM\\\":1,\\\"Gear\\\":4,\\\"Carb\\\":1},{\\\"Model\\\":\\\"Toyota Corona\\\",\\\"MPG\\\":21.5,\\\"Cyl\\\":4,\\\"Disp\\\":120.1,\\\"HP\\\":97,\\\"DRat\\\":3.7,\\\"WT\\\":2.465,\\\"QSec\\\":20.01,\\\"VS\\\":1,\\\"AM\\\":0,\\\"Gear\\\":3,\\\"Carb\\\":1},{\\\"Model\\\":\\\"Dodge Challenger\\\",\\\"MPG\\\":15.5,\\\"Cyl\\\":8,\\\"Disp\\\":318.0,\\\"HP\\\":150,\\\"DRat\\\":2.76,\\\"WT\\\":3.52,\\\"QSec\\\":16.87,\\\"VS\\\":0,\\\"AM\\\":0,\\\"Gear\\\":3,\\\"Carb\\\":2},{\\\"Model\\\":\\\"AMC Javelin\\\",\\\"MPG\\\":15.2,\\\"Cyl\\\":8,\\\"Disp\\\":304.0,\\\"HP\\\":150,\\\"DRat\\\":3.15,\\\"WT\\\":3.435,\\\"QSec\\\":17.3,\\\"VS\\\":0,\\\"AM\\\":0,\\\"Gear\\\":3,\\\"Carb\\\":2},{\\\"Model\\\":\\\"Camaro Z28\\\",\\\"MPG\\\":13.3,\\\"Cyl\\\":8,\\\"Disp\\\":350.0,\\\"HP\\\":245,\\\"DRat\\\":3.73,\\\"WT\\\":3.84,\\\"QSec\\\":15.41,\\\"VS\\\":0,\\\"AM\\\":0,\\\"Gear\\\":3,\\\"Carb\\\":4},{\\\"Model\\\":\\\"Pontiac Firebird\\\",\\\"MPG\\\":19.2,\\\"Cyl\\\":8,\\\"Disp\\\":400.0,\\\"HP\\\":175,\\\"DRat\\\":3.08,\\\"WT\\\":3.845,\\\"QSec\\\":17.05,\\\"VS\\\":0,\\\"AM\\\":0,\\\"Gear\\\":3,\\\"Carb\\\":2},{\\\"Model\\\":\\\"Fiat X1-9\\\",\\\"MPG\\\":27.3,\\\"Cyl\\\":4,\\\"Disp\\\":79.0,\\\"HP\\\":66,\\\"DRat\\\":4.08,\\\"WT\\\":1.935,\\\"QSec\\\":18.9,\\\"VS\\\":1,\\\"AM\\\":1,\\\"Gear\\\":4,\\\"Carb\\\":1},{\\\"Model\\\":\\\"Porsche 914-2\\\",\\\"MPG\\\":26.0,\\\"Cyl\\\":4,\\\"Disp\\\":120.3,\\\"HP\\\":91,\\\"DRat\\\":4.43,\\\"WT\\\":2.14,\\\"QSec\\\":16.7,\\\"VS\\\":0,\\\"AM\\\":1,\\\"Gear\\\":5,\\\"Carb\\\":2},{\\\"Model\\\":\\\"Lotus Europa\\\",\\\"MPG\\\":30.4,\\\"Cyl\\\":4,\\\"Disp\\\":95.1,\\\"HP\\\":113,\\\"DRat\\\":3.77,\\\"WT\\\":1.513,\\\"QSec\\\":16.9,\\\"VS\\\":1,\\\"AM\\\":1,\\\"Gear\\\":5,\\\"Carb\\\":2},{\\\"Model\\\":\\\"Ford Pantera L\\\",\\\"MPG\\\":15.8,\\\"Cyl\\\":8,\\\"Disp\\\":351.0,\\\"HP\\\":264,\\\"DRat\\\":4.22,\\\"WT\\\":3.17,\\\"QSec\\\":14.5,\\\"VS\\\":0,\\\"AM\\\":1,\\\"Gear\\\":5,\\\"Carb\\\":4},{\\\"Model\\\":\\\"Ferrari Dino\\\",\\\"MPG\\\":19.7,\\\"Cyl\\\":6,\\\"Disp\\\":145.0,\\\"HP\\\":175,\\\"DRat\\\":3.62,\\\"WT\\\":2.77,\\\"QSec\\\":15.5,\\\"VS\\\":0,\\\"AM\\\":1,\\\"Gear\\\":5,\\\"Carb\\\":6},{\\\"Model\\\":\\\"Maserati Bora\\\",\\\"MPG\\\":15.0,\\\"Cyl\\\":8,\\\"Disp\\\":301.0,\\\"HP\\\":335,\\\"DRat\\\":3.54,\\\"WT\\\":3.57,\\\"QSec\\\":14.6,\\\"VS\\\":0,\\\"AM\\\":1,\\\"Gear\\\":5,\\\"Carb\\\":8},{\\\"Model\\\":\\\"Volvo 142E\\\",\\\"MPG\\\":21.4,\\\"Cyl\\\":4,\\\"Disp\\\":121.0,\\\"HP\\\":109,\\\"DRat\\\":4.11,\\\"WT\\\":2.78,\\\"QSec\\\":18.6,\\\"VS\\\":1,\\\"AM\\\":1,\\\"Gear\\\":4,\\\"Carb\\\":2}],\\\"onCellClicked\\\":(function (ev){var x={}; (ev.rowIndex!==undefined) ? (x[\\\"rowIndex\\\"]=(ev.rowIndex+1)) : undefined; (ev.colDef!==undefined) ? (x[\\\"column\\\"]=ev.colDef.headerName) : undefined; return WebIO.setval({\\\"name\\\":\\\"onCellClicked\\\",\\\"scope\\\":\\\"15671714659819107183\\\",\\\"id\\\":\\\"6178989099370431865\\\",\\\"type\\\":\\\"observable\\\"},x)})}; var el=document.getElementById(\\\"grid-4039271c\\\"); gridOptions.components={\\\"rowNumberRenderer\\\":RowNumberRenderer}; false ? (agGrid.LicenseManager.setLicenseKey(null)) : undefined; this.table=new agGrid.Grid(el,gridOptions); return gridOptions.columnApi.autoSizeAllColumns()}));\\n    (WebIO.importBlock({\\\"data\\\":[{\\\"name\\\":null,\\\"type\\\":\\\"js\\\",\\\"url\\\":\\\"/assetserver/239ce0bf5f10b04d169b00c14b88d3c3d4c769e2-rowNumberRenderer.js\\\"},{\\\"name\\\":null,\\\"type\\\":\\\"js\\\",\\\"url\\\":\\\"/assetserver/81b15f99748cffe5838bc2bf09383ecb7811a78c-ag-grid.js\\\"},{\\\"name\\\":null,\\\"type\\\":\\\"css\\\",\\\"url\\\":\\\"/assetserver/c601a99071df44542dd7bd3b96f7f628e03d1d6d-ag-grid.css\\\"},{\\\"name\\\":null,\\\"type\\\":\\\"css\\\",\\\"url\\\":\\\"/assetserver/d87127469f3126e05295d0e76fa726aa66882732-ag-grid-light.css\\\"},{\\\"name\\\":null,\\\"type\\\":\\\"css\\\",\\\"url\\\":\\\"/assetserver/cd88f82fa34490a6f85d3201dba4b0dbc670013f-ag-grid-dark.css\\\"}],\\\"type\\\":\\\"async_block\\\"})).then((imports) => handler.apply(this, imports));\\n}\\n\")])"
      ]
     },
     "metadata": {},
     "output_type": "display_data"
    }
   ],
   "source": [
    "using RDatasets\n",
    "using TableView\n",
    "\n",
    "mtcars = dataset(\"datasets\", \"mtcars\");\n",
    "showtable(mtcars, dark = true)"
   ]
  },
  {
   "cell_type": "markdown",
   "id": "unexpected-webster",
   "metadata": {},
   "source": [
    "### `PyCall` +  `itables`\n",
    "I've also tried using `PyCall`, which runs, but I can't get the table to display."
   ]
  },
  {
   "cell_type": "code",
   "execution_count": 7,
   "id": "palestinian-orchestra",
   "metadata": {},
   "outputs": [],
   "source": [
    "using PyCall\n",
    "\n",
    "py\"\"\"\n",
    "\n",
    "# example from the docs\n",
    "import itables \n",
    "import pandas as pd\n",
    "import numpy as np\n",
    "\n",
    "df = pd.DataFrame({\n",
    "    'cups_of_coffee': [0, 1, 2, 3, 4, 5, 6, 7, 8, 9],\n",
    "    'productivity': [2, 5, 6, 8, 9, 8, 0, 1, 0, -1]\n",
    "})\n",
    "\n",
    "itables.show(df)\n",
    "\n",
    "\"\"\"py"
   ]
  },
  {
   "cell_type": "markdown",
   "id": "45299879",
   "metadata": {},
   "source": [
    "This was probably a naive experiment that was doomed from the start but had to start somewhere. I imagine there is a type issue that prevents this from working."
   ]
  },
  {
   "cell_type": "markdown",
   "id": "adjusted-cornwall",
   "metadata": {},
   "source": [
    "### `RCall` + `DT`"
   ]
  },
  {
   "cell_type": "code",
   "execution_count": 8,
   "id": "maritime-preliminary",
   "metadata": {},
   "outputs": [
    {
     "data": {
      "text/plain": [
       "RObject{VecSxp}\n"
      ]
     },
     "metadata": {},
     "output_type": "display_data"
    }
   ],
   "source": [
    "using RCall\n",
    "\n",
    "R\"\n",
    "\n",
    "library(DT)\n",
    "x <- datatable(mtcars)\n",
    "\""
   ]
  },
  {
   "cell_type": "markdown",
   "id": "c1d45264",
   "metadata": {},
   "source": [
    "Retrieving this with `@rget ` brings back a `OrderedDict` of the data structure (fair enough!)."
   ]
  },
  {
   "cell_type": "code",
   "execution_count": 9,
   "id": "greatest-luxury",
   "metadata": {},
   "outputs": [
    {
     "data": {
      "text/plain": [
       "OrderedCollections.OrderedDict{Symbol, Any} with 8 entries:\n",
       "  :x             => OrderedCollections.OrderedDict{Symbol, Any}(:filter=>\"none\"…\n",
       "  :width         => nothing\n",
       "  :height        => nothing\n",
       "  :sizingPolicy  => OrderedCollections.OrderedDict{Symbol, Any}(:defaultWidth=>…\n",
       "  :dependencies  => Any[OrderedCollections.OrderedDict{Symbol, Any}(:name=>\"jqu…\n",
       "  :elementId     => nothing\n",
       "  :preRenderHook => #13\n",
       "  :jsHooks       => Any[]"
      ]
     },
     "metadata": {},
     "output_type": "display_data"
    }
   ],
   "source": [
    "@rget x"
   ]
  },
  {
   "cell_type": "markdown",
   "id": "38147cc1",
   "metadata": {},
   "source": [
    "### WebIO\n",
    "I am exploring the idea of using [WebIO]() to create my own version of `TableView` but I suspect this will get me right back where I started."
   ]
  },
  {
   "cell_type": "code",
   "execution_count": 14,
   "id": "infectious-plastic",
   "metadata": {},
   "outputs": [
    {
     "data": {
      "text/html": [
       "<div\n",
       "    class=\"webio-mountpoint\"\n",
       "    data-webio-mountpoint=\"9010852780773506540\"\n",
       ">\n",
       "    <script>\n",
       "    (function(){\n",
       "    // Some integrations (namely, IJulia/Jupyter) use an alternate render pathway than\n",
       "    // just putting the html on the page. If WebIO isn't defined, then it's pretty likely\n",
       "    // that we're in one of those situations and the integration just isn't installed\n",
       "    // correctly.\n",
       "    if (typeof window.WebIO === \"undefined\") {\n",
       "        document\n",
       "            .querySelector('[data-webio-mountpoint=\"9010852780773506540\"]')\n",
       "            .innerHTML = (\n",
       "                '<div style=\"padding: 1em; background-color: #f8d6da; border: 1px solid #f5c6cb; font-weight: bold;\">' +\n",
       "                '<p><strong>WebIO not detected.</strong></p>' +\n",
       "                '<p>Please read ' +\n",
       "                '<a href=\"https://juliagizmos.github.io/WebIO.jl/latest/troubleshooting/not-detected/\" target=\"_blank\">the troubleshooting guide</a> ' +\n",
       "                'for more information on how to resolve this issue.</p>' +\n",
       "                '<p><a href=\"https://juliagizmos.github.io/WebIO.jl/latest/troubleshooting/not-detected/\" target=\"_blank\">https://juliagizmos.github.io/WebIO.jl/latest/troubleshooting/not-detected/</a></p>' +\n",
       "                '</div>'\n",
       "            );\n",
       "        return;\n",
       "    }\n",
       "    WebIO.mount(\n",
       "        document.querySelector('[data-webio-mountpoint=\"9010852780773506540\"]'),\n",
       "        {\"props\":{},\"nodeType\":\"DOM\",\"type\":\"node\",\"instanceArgs\":{\"namespace\":\"html\",\"tag\":\"div\"},\"children\":[{\"props\":{\"class\":\"important\"},\"nodeType\":\"DOM\",\"type\":\"node\",\"instanceArgs\":{\"namespace\":\"html\",\"tag\":\"p\"},\"children\":[\"I am a paragraph!\"]}]},\n",
       "        window,\n",
       "    );\n",
       "    })()\n",
       "    </script>\n",
       "</div>\n"
      ],
      "text/plain": [
       "(div\n",
       "  (p { class=\"important\" }\n",
       "    \"I am a paragraph!\"))"
      ]
     },
     "metadata": {},
     "output_type": "display_data"
    }
   ],
   "source": [
    "using WebIO\n",
    "\n",
    "Node(:div, Node(:p, \"I am a paragraph!\", class=\"important\"))"
   ]
  }
 ],
 "metadata": {
  "@webio": {
   "lastCommId": "42c254ab-1ecb-4880-a1a1-36c938ed496d",
   "lastKernelId": "ed5ffd46-a4c1-435e-b272-bfb08df2c7d4"
  },
  "kernelspec": {
   "display_name": "Julia 1.7.1",
   "language": "julia",
   "name": "julia-1.7"
  },
  "language_info": {
   "file_extension": ".jl",
   "mimetype": "application/julia",
   "name": "julia",
   "version": "1.7.1"
  }
 },
 "nbformat": 4,
 "nbformat_minor": 5
}
