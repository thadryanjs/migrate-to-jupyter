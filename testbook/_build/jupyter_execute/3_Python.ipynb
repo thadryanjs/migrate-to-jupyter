{
 "cells": [
  {
   "cell_type": "markdown",
   "metadata": {},
   "source": [
    "# Python\n",
    "\n",
    "This is readily achieved with `itables`."
   ]
  },
  {
   "cell_type": "code",
   "execution_count": 1,
   "metadata": {},
   "outputs": [
    {
     "data": {
      "text/html": [
       "<table id=\"def47d84-106a-41ea-8707-72865a23687f\" class=\"display\"style=\"max-width:100%\"><thead><th>cups_of_coffee</th><th>productivity</th></thead><tbody><tr><td>Loading... (need <a href=https://mwouts.github.io/itables/troubleshooting.html>help</a>?)</td></tr></tbody></table>\n",
       "<link rel=\"stylesheet\" type=\"text/css\" href=\"https://cdn.datatables.net/1.11.3/css/jquery.dataTables.min.css\">\n",
       "<style> table td {\n",
       "    text-overflow: ellipsis;\n",
       "    overflow: hidden;\n",
       "} </style>\n",
       "<style> table th {\n",
       "    text-overflow: ellipsis;\n",
       "    overflow: hidden;\n",
       "} </style>\n",
       "<script type=\"module\">\n",
       "    // Define the table data\n",
       "    const data = [[0, 2], [1, 5], [2, 6], [3, 8], [4, 9], [5, 8], [6, 0], [7, 1], [8, 0], [9, -1]];\n",
       "\n",
       "    if (typeof require === 'undefined') {\n",
       "        // TODO: This should become the default (use a simple import)\n",
       "        // when the ESM version works independently of whether\n",
       "        // require.js is there or not, see\n",
       "        // https://datatables.net/forums/discussion/69066/esm-es6-module-support?\n",
       "        const {default: $} = await import(\"https://esm.sh/jquery@3.5.0\");\n",
       "        const {default: initDataTables} = await import(\"https://esm.sh/datatables.net@1.11.3?deps=jquery@3.5.0\");\n",
       "\n",
       "        initDataTables();\n",
       "\n",
       "        // Define the dt_args\n",
       "        let dt_args = {\"columnDefs\": [{\"width\": \"70px\", \"targets\": \"_all\"}], \"paging\": false};\n",
       "        dt_args[\"data\"] = data;\n",
       "\n",
       "        // Display the table\n",
       "        $(document).ready(function () {\n",
       "            $('#def47d84-106a-41ea-8707-72865a23687f').DataTable(dt_args);\n",
       "        });\n",
       "    } else {\n",
       "        require([\"jquery\", \"datatables\"], ($, datatables) => {\n",
       "                // Define the dt_args\n",
       "                let dt_args = {\"columnDefs\": [{\"width\": \"70px\", \"targets\": \"_all\"}], \"paging\": false};\n",
       "                dt_args[\"data\"] = data;\n",
       "\n",
       "                // Display the table\n",
       "                $(document).ready(function () {\n",
       "                    $('#def47d84-106a-41ea-8707-72865a23687f').DataTable(dt_args);\n",
       "                });\n",
       "            }\n",
       "        )\n",
       "    }\n",
       "</script>\n"
      ],
      "text/plain": [
       "<IPython.core.display.HTML object>"
      ]
     },
     "metadata": {},
     "output_type": "display_data"
    }
   ],
   "source": [
    "# example from the docs\n",
    "import itables \n",
    "import pandas as pd\n",
    "import numpy as np\n",
    "\n",
    "df = pd.DataFrame({\n",
    "    'cups_of_coffee': [0, 1, 2, 3, 4, 5, 6, 7, 8, 9],\n",
    "    'productivity': [2, 5, 6, 8, 9, 8, 0, 1, 0, -1]\n",
    "})\n",
    "df.transpose()\n",
    "\n",
    "\n",
    "itables.show(df)"
   ]
  },
  {
   "cell_type": "code",
   "execution_count": null,
   "metadata": {},
   "outputs": [],
   "source": []
  }
 ],
 "metadata": {
  "kernelspec": {
   "display_name": "Python 3",
   "language": "python",
   "name": "python3"
  },
  "language_info": {
   "codemirror_mode": {
    "name": "ipython",
    "version": 3
   },
   "file_extension": ".py",
   "mimetype": "text/x-python",
   "name": "python",
   "nbconvert_exporter": "python",
   "pygments_lexer": "ipython3",
   "version": "3.10.2"
  },
  "widgets": {
   "application/vnd.jupyter.widget-state+json": {
    "state": {},
    "version_major": 2,
    "version_minor": 0
   }
  }
 },
 "nbformat": 4,
 "nbformat_minor": 4
}