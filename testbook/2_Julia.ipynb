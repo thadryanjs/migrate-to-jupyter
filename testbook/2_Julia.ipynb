{
 "cells": [
  {
   "cell_type": "markdown",
   "id": "51ed322b-6335-4b81-a4af-a9dbf964eb9c",
   "metadata": {},
   "source": [
    "# Julia"
   ]
  },
  {
   "cell_type": "code",
   "execution_count": 3,
   "id": "43bfc25d-4322-4208-902d-3d1f54f45ac0",
   "metadata": {},
   "outputs": [
    {
     "data": {
      "text/plain": [
       "confirm_julia (generic function with 1 method)"
      ]
     },
     "execution_count": 3,
     "metadata": {},
     "output_type": "execute_result"
    }
   ],
   "source": [
    "function confirm_julia()\n",
    "    \"Julia Confirmed\"\n",
    "end\n"
   ]
  },
  {
   "cell_type": "code",
   "execution_count": 4,
   "id": "7e60e9d3-5dc6-4f59-abf0-86197c138070",
   "metadata": {},
   "outputs": [
    {
     "data": {
      "text/plain": [
       "\"Julia Confirmed\""
      ]
     },
     "execution_count": 4,
     "metadata": {},
     "output_type": "execute_result"
    }
   ],
   "source": [
    "confirm_julia()"
   ]
  },
  {
   "cell_type": "code",
   "execution_count": 7,
   "id": "5a3d8b2f-cf34-46f5-a664-7d18205edefc",
   "metadata": {},
   "outputs": [],
   "source": [
    "using RDatasets\n",
    "\n",
    "mtcars = dataset(\"datasets\", \"mtcars\");"
   ]
  },
  {
   "cell_type": "code",
   "execution_count": 10,
   "id": "5087f163-1fdc-4308-b7d4-ddc41dd9e5f7",
   "metadata": {},
   "outputs": [],
   "source": [
    "using PyCall"
   ]
  },
  {
   "cell_type": "code",
   "execution_count": 12,
   "id": "e702b113-07ef-436f-b9f8-7cad8d0450b8",
   "metadata": {},
   "outputs": [],
   "source": [
    "mtcarspy = PyObject(mtcars);"
   ]
  },
  {
   "cell_type": "code",
   "execution_count": 29,
   "id": "c011a12a-0f5a-4303-b9ad-efad57e22344",
   "metadata": {},
   "outputs": [
    {
     "ename": "LoadError",
     "evalue": "PyError ($(Expr(:escape, :(ccall(#= /home/thadryan/.julia/packages/PyCall/L0fLP/src/pyeval.jl:38 =# @pysym(:PyEval_EvalCode), PyPtr, (PyPtr, PyPtr, PyPtr), o, globals, locals))))) <class 'AttributeError'>\nAttributeError(\"'PyCall.jlwrap' object has no attribute 'index'\")\n  File \"/home/thadryan/.julia/packages/PyCall/L0fLP/src/pyeval.jl\", line 2, in <module>\n    const Py_file_input = 257\n  File \"/home/thadryan/.local/lib/python3.10/site-packages/itables/javascript.py\", line 206, in show\n    html = _datatables_repr_(df, **kwargs)\n  File \"/home/thadryan/.local/lib/python3.10/site-packages/itables/javascript.py\", line 138, in _datatables_repr_\n    df = downsample(df, max_rows=maxRows, max_columns=maxColumns, max_bytes=maxBytes)\n  File \"/home/thadryan/.local/lib/python3.10/site-packages/itables/downsample.py\", line 11, in downsample\n    org_rows, org_columns, org_bytes = len(df.index), len(df.columns), df.values.nbytes\n",
     "output_type": "error",
     "traceback": [
      "PyError ($(Expr(:escape, :(ccall(#= /home/thadryan/.julia/packages/PyCall/L0fLP/src/pyeval.jl:38 =# @pysym(:PyEval_EvalCode), PyPtr, (PyPtr, PyPtr, PyPtr), o, globals, locals))))) <class 'AttributeError'>\nAttributeError(\"'PyCall.jlwrap' object has no attribute 'index'\")\n  File \"/home/thadryan/.julia/packages/PyCall/L0fLP/src/pyeval.jl\", line 2, in <module>\n    const Py_file_input = 257\n  File \"/home/thadryan/.local/lib/python3.10/site-packages/itables/javascript.py\", line 206, in show\n    html = _datatables_repr_(df, **kwargs)\n  File \"/home/thadryan/.local/lib/python3.10/site-packages/itables/javascript.py\", line 138, in _datatables_repr_\n    df = downsample(df, max_rows=maxRows, max_columns=maxColumns, max_bytes=maxBytes)\n  File \"/home/thadryan/.local/lib/python3.10/site-packages/itables/downsample.py\", line 11, in downsample\n    org_rows, org_columns, org_bytes = len(df.index), len(df.columns), df.values.nbytes\n",
      "",
      "Stacktrace:",
      "  [1] pyerr_check",
      "    @ ~/.julia/packages/PyCall/L0fLP/src/exception.jl:62 [inlined]",
      "  [2] pyerr_check",
      "    @ ~/.julia/packages/PyCall/L0fLP/src/exception.jl:66 [inlined]",
      "  [3] _handle_error(msg::String)",
      "    @ PyCall ~/.julia/packages/PyCall/L0fLP/src/exception.jl:83",
      "  [4] macro expansion",
      "    @ ~/.julia/packages/PyCall/L0fLP/src/exception.jl:97 [inlined]",
      "  [5] #117",
      "    @ ~/.julia/packages/PyCall/L0fLP/src/pyeval.jl:38 [inlined]",
      "  [6] disable_sigint",
      "    @ ./c.jl:458 [inlined]",
      "  [7] pyeval_(s::String, globals::PyDict{String, PyObject, true}, locals::PyDict{String, PyObject, true}, input_type::Int64, fname::String)",
      "    @ PyCall ~/.julia/packages/PyCall/L0fLP/src/pyeval.jl:37",
      "  [8] macro expansion",
      "    @ ~/.julia/packages/PyCall/L0fLP/src/pyeval.jl:230 [inlined]",
      "  [9] pyTable(df::DataFrame)",
      "    @ Main ./In[29]:2",
      " [10] top-level scope",
      "    @ In[29]:8",
      " [11] eval",
      "    @ ./boot.jl:373 [inlined]",
      " [12] include_string(mapexpr::typeof(REPL.softscope), mod::Module, code::String, filename::String)",
      "    @ Base ./loading.jl:1196"
     ]
    }
   ],
   "source": [
    "# function pyTable(df)\n",
    "#     py\"\"\"\n",
    "#     import itables \n",
    "#     itables.show($df)\n",
    "#     \"\"\"py\n",
    "# end\n",
    "\n",
    "# pyTable(mtcars)"
   ]
  },
  {
   "cell_type": "code",
   "execution_count": null,
   "id": "9748be78-5964-4582-a175-39fdc30e430c",
   "metadata": {},
   "outputs": [],
   "source": []
  }
 ],
 "metadata": {
  "kernelspec": {
   "display_name": "Julia 1.5.4",
   "language": "julia",
   "name": "julia-1.5"
  },
  "language_info": {
   "file_extension": ".jl",
   "mimetype": "application/julia",
   "name": "julia",
   "version": "1.7.1"
  }
 },
 "nbformat": 4,
 "nbformat_minor": 5
}
