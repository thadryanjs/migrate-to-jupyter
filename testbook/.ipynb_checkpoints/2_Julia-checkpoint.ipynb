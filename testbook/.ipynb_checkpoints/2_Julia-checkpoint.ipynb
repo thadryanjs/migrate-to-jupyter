{
 "cells": [
  {
   "cell_type": "markdown",
   "id": "51ed322b-6335-4b81-a4af-a9dbf964eb9c",
   "metadata": {},
   "source": [
    "# Julia"
   ]
  },
  {
   "cell_type": "code",
   "execution_count": 3,
   "id": "43bfc25d-4322-4208-902d-3d1f54f45ac0",
   "metadata": {},
   "outputs": [
    {
     "data": {
      "text/plain": [
       "confirm_julia (generic function with 1 method)"
      ]
     },
     "execution_count": 3,
     "metadata": {},
     "output_type": "execute_result"
    }
   ],
   "source": [
    "function confirm_julia()\n",
    "    \"Julia Confirmed\"\n",
    "end\n"
   ]
  },
  {
   "cell_type": "code",
   "execution_count": 4,
   "id": "7e60e9d3-5dc6-4f59-abf0-86197c138070",
   "metadata": {},
   "outputs": [
    {
     "data": {
      "text/plain": [
       "\"Julia Confirmed\""
      ]
     },
     "execution_count": 4,
     "metadata": {},
     "output_type": "execute_result"
    }
   ],
   "source": [
    "confirm_julia()"
   ]
  },
  {
   "cell_type": "code",
   "execution_count": 54,
   "id": "f576530a-fe57-450b-9f7a-a3acff7f8eb2",
   "metadata": {},
   "outputs": [
    {
     "data": {
      "text/plain": [
       "Main.__anon__"
      ]
     },
     "execution_count": 54,
     "metadata": {},
     "output_type": "execute_result"
    }
   ],
   "source": [
    "using RDatasets\n",
    "using PyCall\n",
    "using DataFrames\n",
    "@pyimport pandas as pd \n",
    "\n",
    "mtcars = dataset(\"datasets\", \"mtcars\") #|> DataFrame\n",
    "\n",
    "pd"
   ]
  },
  {
   "cell_type": "code",
   "execution_count": 61,
   "id": "9748be78-5964-4582-a175-39fdc30e430c",
   "metadata": {},
   "outputs": [
    {
     "name": "stdout",
     "output_type": "stream",
     "text": [
      "<PyCall.jlwrap 32×12 DataFrame\n",
      " Row │ Model                MPG      Cyl    Disp     HP     DRat     WT       QSec     VS     AM     Gear   Carb\n",
      "     │ String31             Float64  Int64  Float64  Int64  Float64  Float64  Float64  Int64  Int64  Int64  Int64\n",
      "─────┼────────────────────────────────────────────────────────────────────────────────────────────────────────────\n",
      "   1 │ Mazda RX4               21.0      6    160.0    110     3.9     2.62     16.46      0      1      4      4\n",
      "   2 │ Mazda RX4 Wag           21.0      6    160.0    110     3.9     2.875    17.02      0      1      4      4\n",
      "   3 │ Datsun 710              22.8      4    108.0     93     3.85    2.32     18.61      1      1      4      1\n",
      "   4 │ Hornet 4 Drive          21.4      6    258.0    110     3.08    3.215    19.44      1      0      3      1\n",
      "   5 │ Hornet Sportabout       18.7      8    360.0    175     3.15    3.44     17.02      0      0      3      2\n",
      "   6 │ Valiant                 18.1      6    225.0    105     2.76    3.46     20.22      1      0      3      1\n",
      "   7 │ Duster 360              14.3      8    360.0    245     3.21    3.57     15.84      0      0      3      4\n",
      "   8 │ Merc 240D               24.4      4    146.7     62     3.69    3.19     20.0       1      0      4      2\n",
      "   9 │ Merc 230                22.8      4    140.8     95     3.92    3.15     22.9       1      0      4      2\n",
      "  10 │ Merc 280                19.2      6    167.6    123     3.92    3.44     18.3       1      0      4      4\n",
      "  11 │ Merc 280C               17.8      6    167.6    123     3.92    3.44     18.9       1      0      4      4\n",
      "  12 │ Merc 450SE              16.4      8    275.8    180     3.07    4.07     17.4       0      0      3      3\n",
      "  13 │ Merc 450SL              17.3      8    275.8    180     3.07    3.73     17.6       0      0      3      3\n",
      "  14 │ Merc 450SLC             15.2      8    275.8    180     3.07    3.78     18.0       0      0      3      3\n",
      "  15 │ Cadillac Fleetwood      10.4      8    472.0    205     2.93    5.25     17.98      0      0      3      4\n",
      "  16 │ Lincoln Continental     10.4      8    460.0    215     3.0     5.424    17.82      0      0      3      4\n",
      "  17 │ Chrysler Imperial       14.7      8    440.0    230     3.23    5.345    17.42      0      0      3      4\n",
      "  18 │ Fiat 128                32.4      4     78.7     66     4.08    2.2      19.47      1      1      4      1\n",
      "  19 │ Honda Civic             30.4      4     75.7     52     4.93    1.615    18.52      1      1      4      2\n",
      "  20 │ Toyota Corolla          33.9      4     71.1     65     4.22    1.835    19.9       1      1      4      1\n",
      "  21 │ Toyota Corona           21.5      4    120.1     97     3.7     2.465    20.01      1      0      3      1\n",
      "  22 │ Dodge Challenger        15.5      8    318.0    150     2.76    3.52     16.87      0      0      3      2\n",
      "  23 │ AMC Javelin             15.2      8    304.0    150     3.15    3.435    17.3       0      0      3      2\n",
      "  24 │ Camaro Z28              13.3      8    350.0    245     3.73    3.84     15.41      0      0      3      4\n",
      "  25 │ Pontiac Firebird        19.2      8    400.0    175     3.08    3.845    17.05      0      0      3      2\n",
      "  26 │ Fiat X1-9               27.3      4     79.0     66     4.08    1.935    18.9       1      1      4      1\n",
      "  27 │ Porsche 914-2           26.0      4    120.3     91     4.43    2.14     16.7       0      1      5      2\n",
      "  28 │ Lotus Europa            30.4      4     95.1    113     3.77    1.513    16.9       1      1      5      2\n",
      "  29 │ Ford Pantera L          15.8      8    351.0    264     4.22    3.17     14.5       0      1      5      4\n",
      "  30 │ Ferrari Dino            19.7      6    145.0    175     3.62    2.77     15.5       0      1      5      6\n",
      "  31 │ Maserati Bora           15.0      8    301.0    335     3.54    3.57     14.6       0      1      5      8\n",
      "  32 │ Volvo 142E              21.4      4    121.0    109     4.11    2.78     18.6       1      1      4      2>\n"
     ]
    }
   ],
   "source": [
    "function pyTable(df)\n",
    "    py\"\"\"\n",
    "    import itables\n",
    "    import pandas as pd\n",
    "    # need to build the dataframe here first :)\n",
    "    print($df)\n",
    "    #itables.show(df_new)\n",
    "    \"\"\"py\n",
    "end\n",
    "\n",
    "pyTable(mtcars)"
   ]
  }
 ],
 "metadata": {
  "kernelspec": {
   "display_name": "Julia 1.5.4",
   "language": "julia",
   "name": "julia-1.5"
  },
  "language_info": {
   "file_extension": ".jl",
   "mimetype": "application/julia",
   "name": "julia",
   "version": "1.7.1"
  }
 },
 "nbformat": 4,
 "nbformat_minor": 5
}
