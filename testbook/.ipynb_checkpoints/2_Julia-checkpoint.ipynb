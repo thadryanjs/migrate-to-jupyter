{
 "cells": [
  {
   "cell_type": "markdown",
   "id": "agricultural-triangle",
   "metadata": {},
   "source": [
    "# Julia\n",
    "I am using `TableView`, which works great when the book is running, but not when I compile it to share with my colleagues. "
   ]
  },
  {
   "cell_type": "code",
   "execution_count": null,
   "id": "domestic-mediterranean",
   "metadata": {},
   "outputs": [
    {
     "data": {
      "application/vnd.webio.node+json": {
       "children": [],
       "instanceArgs": {
        "namespace": "html",
        "tag": "div"
       },
       "nodeType": "DOM",
       "props": {},
       "type": "node"
      },
      "text/html": [
       "<div style=\"padding: 1em; background-color: #f8d6da; border: 1px solid #f5c6cb; font-weight: bold;\">\n",
       "<p>The WebIO Jupyter extension was not detected. See the\n",
       "<a href=\"https://juliagizmos.github.io/WebIO.jl/latest/providers/ijulia/\" target=\"_blank\">\n",
       "    WebIO Jupyter integration documentation\n",
       "</a>\n",
       "for more information.\n",
       "</div>\n"
      ],
      "text/plain": [
       "WebIO._IJuliaInit()"
      ]
     },
     "metadata": {
      "@webio": {
       "kernelId": "ed5ffd46-a4c1-435e-b272-bfb08df2c7d4"
      }
     },
     "output_type": "display_data"
    }
   ],
   "source": [
    "using RDatasets\n",
    "using TableView\n",
    "\n",
    "mtcars = dataset(\"datasets\", \"mtcars\");"
   ]
  },
  {
   "cell_type": "code",
   "execution_count": null,
   "id": "narrow-polyester",
   "metadata": {},
   "outputs": [],
   "source": [
    "showtable(mtcars, dark = true)"
   ]
  },
  {
   "cell_type": "markdown",
   "id": "unexpected-webster",
   "metadata": {},
   "source": [
    "## PyCall `itables`?\n",
    "I've also tried using `PyCall`, which runs, but I can't get the table to display."
   ]
  },
  {
   "cell_type": "code",
   "execution_count": null,
   "id": "palestinian-orchestra",
   "metadata": {},
   "outputs": [],
   "source": [
    "using PyCall\n",
    "\n",
    "py\"\"\"\n",
    "\n",
    "# example from the docs\n",
    "import itables \n",
    "import pandas as pd\n",
    "import numpy as np\n",
    "\n",
    "df = pd.DataFrame({\n",
    "    'cups_of_coffee': [0, 1, 2, 3, 4, 5, 6, 7, 8, 9],\n",
    "    'productivity': [2, 5, 6, 8, 9, 8, 0, 1, 0, -1]\n",
    "})\n",
    "df.transpose()\n",
    "\n",
    "\n",
    "itables.show(df)\n",
    "\n",
    "\"\"\"py"
   ]
  },
  {
   "cell_type": "markdown",
   "id": "adjusted-cornwall",
   "metadata": {},
   "source": [
    "## RCall"
   ]
  },
  {
   "cell_type": "code",
   "execution_count": null,
   "id": "maritime-preliminary",
   "metadata": {},
   "outputs": [],
   "source": [
    "using RCall\n",
    "\n",
    "R\"\n",
    "\n",
    "library(DT)\n",
    "x <- datatable(mtcars)\n",
    "\""
   ]
  },
  {
   "cell_type": "code",
   "execution_count": null,
   "id": "greatest-luxury",
   "metadata": {},
   "outputs": [],
   "source": [
    "@rget x"
   ]
  },
  {
   "cell_type": "code",
   "execution_count": null,
   "id": "infectious-plastic",
   "metadata": {},
   "outputs": [],
   "source": []
  }
 ],
 "metadata": {
  "@webio": {
   "lastCommId": "42c254ab-1ecb-4880-a1a1-36c938ed496d",
   "lastKernelId": "ed5ffd46-a4c1-435e-b272-bfb08df2c7d4"
  },
  "kernelspec": {
   "display_name": "Julia 1.7.1",
   "language": "julia",
   "name": "julia-1.7"
  },
  "language_info": {
   "file_extension": ".jl",
   "mimetype": "application/julia",
   "name": "julia",
   "version": "1.7.1"
  }
 },
 "nbformat": 4,
 "nbformat_minor": 5
}
